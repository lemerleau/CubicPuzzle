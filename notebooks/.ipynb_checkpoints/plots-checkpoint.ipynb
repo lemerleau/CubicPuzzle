{
 "cells": [
  {
   "cell_type": "code",
   "execution_count": 164,
   "id": "e91f59de-fa6a-4ea5-815f-6e3fa1e873c6",
   "metadata": {},
   "outputs": [],
   "source": [
    "import json \n",
    "import matplotlib.pyplot as plt \n",
    "import pandas as pd \n",
    "import seaborn as sns \n",
    "import numpy as np\n",
    "import matplotlib"
   ]
  },
  {
   "cell_type": "code",
   "execution_count": 283,
   "id": "ee35c69d-a056-44bf-8ebc-4514ba6cf169",
   "metadata": {},
   "outputs": [],
   "source": [
    "def nthHarmonic(N,s) :\n",
    "\n",
    "    harmonic = 1.00\n",
    "    for i in range(2, N + 1) :\n",
    "        harmonic += 1 / i**s\n",
    "\n",
    "    return harmonic\n",
    "\n",
    "def zipf_rvgen(low, high, N, size, a=6.) :\n",
    "    choices = np.array(range(low, high+1))\n",
    "    probs = choices**(-a) / nthHarmonic(N,a)\n",
    "    return np.random.choice(choices,p=np.array(probs)/sum(probs),size=size)\n",
    "\n",
    "def bino_gen(mu, length, size) :\n",
    "    rst = [list(np.random.binomial(1, mu, length)).count(1) for i in range(size)]\n",
    "    return rst"
   ]
  },
  {
   "cell_type": "code",
   "execution_count": null,
   "id": "91e5ca3b-0311-4d9a-b1e4-f31b422edf7c",
   "metadata": {},
   "outputs": [],
   "source": []
  },
  {
   "cell_type": "code",
   "execution_count": 284,
   "id": "0cd33d97-5965-4d58-b263-43998c66d6b5",
   "metadata": {},
   "outputs": [],
   "source": [
    "## import data \n",
    "dim = 3\n",
    "level = 0\n",
    "\n",
    "with open(\"../data/dim/\"+str(dim)+\"/level\"+str(level)+\"_levy_generation.json\", \"r\") as jsonfile :\n",
    "        generations = json.load(jsonfile)\n",
    "        jsonfile.close()\n",
    "\n",
    "with open(\"../data/dim/\"+str(dim)+\"/level\"+str(level)+\"_levy_data.json\", \"r\")as jsonfile :\n",
    "        data_all = json.load(jsonfile)\n",
    "        jsonfile.close()\n",
    "\n",
    "with open(\"../data/dim/\"+str(dim)+\"/level\"+str(level)+\"_levy_fitness.json\", \"r\")as jsonfile :\n",
    "    fitnesses = json.load(jsonfile)\n",
    "    jsonfile.close()\n",
    "mut_params = sorted(np.array(list(data_all.keys()), dtype=float))"
   ]
  },
  {
   "cell_type": "code",
   "execution_count": 285,
   "id": "2ec83d3e-9c04-431e-b6da-edaec33bb31f",
   "metadata": {},
   "outputs": [
    {
     "data": {
      "text/html": [
       "<div>\n",
       "<style scoped>\n",
       "    .dataframe tbody tr th:only-of-type {\n",
       "        vertical-align: middle;\n",
       "    }\n",
       "\n",
       "    .dataframe tbody tr th {\n",
       "        vertical-align: top;\n",
       "    }\n",
       "\n",
       "    .dataframe thead th {\n",
       "        text-align: right;\n",
       "    }\n",
       "</style>\n",
       "<table border=\"1\" class=\"dataframe\">\n",
       "  <thead>\n",
       "    <tr style=\"text-align: right;\">\n",
       "      <th></th>\n",
       "      <th>2.6</th>\n",
       "      <th>0.8</th>\n",
       "      <th>0.2</th>\n",
       "      <th>6.4</th>\n",
       "      <th>4.0</th>\n",
       "      <th>5.0</th>\n",
       "      <th>1.2</th>\n",
       "      <th>1.8</th>\n",
       "      <th>3.6</th>\n",
       "      <th>1.6</th>\n",
       "      <th>...</th>\n",
       "      <th>1.4</th>\n",
       "      <th>5.6</th>\n",
       "      <th>5.2</th>\n",
       "      <th>5.8</th>\n",
       "      <th>3.4</th>\n",
       "      <th>1.0</th>\n",
       "      <th>2.4</th>\n",
       "      <th>4.8</th>\n",
       "      <th>4.2</th>\n",
       "      <th>6.6</th>\n",
       "    </tr>\n",
       "  </thead>\n",
       "  <tbody>\n",
       "    <tr>\n",
       "      <th>0</th>\n",
       "      <td>16</td>\n",
       "      <td>8</td>\n",
       "      <td>7</td>\n",
       "      <td>26</td>\n",
       "      <td>200</td>\n",
       "      <td>14</td>\n",
       "      <td>13</td>\n",
       "      <td>10</td>\n",
       "      <td>860</td>\n",
       "      <td>15</td>\n",
       "      <td>...</td>\n",
       "      <td>14</td>\n",
       "      <td>1000</td>\n",
       "      <td>1000</td>\n",
       "      <td>22</td>\n",
       "      <td>32</td>\n",
       "      <td>12</td>\n",
       "      <td>13</td>\n",
       "      <td>24</td>\n",
       "      <td>58</td>\n",
       "      <td>822</td>\n",
       "    </tr>\n",
       "    <tr>\n",
       "      <th>1</th>\n",
       "      <td>20</td>\n",
       "      <td>11</td>\n",
       "      <td>10</td>\n",
       "      <td>224</td>\n",
       "      <td>17</td>\n",
       "      <td>65</td>\n",
       "      <td>16</td>\n",
       "      <td>150</td>\n",
       "      <td>752</td>\n",
       "      <td>9</td>\n",
       "      <td>...</td>\n",
       "      <td>17</td>\n",
       "      <td>1000</td>\n",
       "      <td>718</td>\n",
       "      <td>1000</td>\n",
       "      <td>20</td>\n",
       "      <td>10</td>\n",
       "      <td>23</td>\n",
       "      <td>65</td>\n",
       "      <td>16</td>\n",
       "      <td>32</td>\n",
       "    </tr>\n",
       "    <tr>\n",
       "      <th>2</th>\n",
       "      <td>13</td>\n",
       "      <td>11</td>\n",
       "      <td>12</td>\n",
       "      <td>23</td>\n",
       "      <td>21</td>\n",
       "      <td>16</td>\n",
       "      <td>4</td>\n",
       "      <td>10</td>\n",
       "      <td>62</td>\n",
       "      <td>12</td>\n",
       "      <td>...</td>\n",
       "      <td>11</td>\n",
       "      <td>309</td>\n",
       "      <td>952</td>\n",
       "      <td>41</td>\n",
       "      <td>15</td>\n",
       "      <td>16</td>\n",
       "      <td>16</td>\n",
       "      <td>53</td>\n",
       "      <td>14</td>\n",
       "      <td>63</td>\n",
       "    </tr>\n",
       "    <tr>\n",
       "      <th>3</th>\n",
       "      <td>12</td>\n",
       "      <td>15</td>\n",
       "      <td>9</td>\n",
       "      <td>759</td>\n",
       "      <td>570</td>\n",
       "      <td>190</td>\n",
       "      <td>11</td>\n",
       "      <td>12</td>\n",
       "      <td>546</td>\n",
       "      <td>12</td>\n",
       "      <td>...</td>\n",
       "      <td>12</td>\n",
       "      <td>29</td>\n",
       "      <td>1000</td>\n",
       "      <td>952</td>\n",
       "      <td>229</td>\n",
       "      <td>14</td>\n",
       "      <td>19</td>\n",
       "      <td>11</td>\n",
       "      <td>772</td>\n",
       "      <td>1000</td>\n",
       "    </tr>\n",
       "    <tr>\n",
       "      <th>4</th>\n",
       "      <td>329</td>\n",
       "      <td>10</td>\n",
       "      <td>10</td>\n",
       "      <td>1000</td>\n",
       "      <td>14</td>\n",
       "      <td>1000</td>\n",
       "      <td>13</td>\n",
       "      <td>35</td>\n",
       "      <td>15</td>\n",
       "      <td>10</td>\n",
       "      <td>...</td>\n",
       "      <td>11</td>\n",
       "      <td>426</td>\n",
       "      <td>953</td>\n",
       "      <td>55</td>\n",
       "      <td>1000</td>\n",
       "      <td>16</td>\n",
       "      <td>26</td>\n",
       "      <td>19</td>\n",
       "      <td>22</td>\n",
       "      <td>103</td>\n",
       "    </tr>\n",
       "    <tr>\n",
       "      <th>...</th>\n",
       "      <td>...</td>\n",
       "      <td>...</td>\n",
       "      <td>...</td>\n",
       "      <td>...</td>\n",
       "      <td>...</td>\n",
       "      <td>...</td>\n",
       "      <td>...</td>\n",
       "      <td>...</td>\n",
       "      <td>...</td>\n",
       "      <td>...</td>\n",
       "      <td>...</td>\n",
       "      <td>...</td>\n",
       "      <td>...</td>\n",
       "      <td>...</td>\n",
       "      <td>...</td>\n",
       "      <td>...</td>\n",
       "      <td>...</td>\n",
       "      <td>...</td>\n",
       "      <td>...</td>\n",
       "      <td>...</td>\n",
       "      <td>...</td>\n",
       "    </tr>\n",
       "    <tr>\n",
       "      <th>145</th>\n",
       "      <td>11</td>\n",
       "      <td>15</td>\n",
       "      <td>6</td>\n",
       "      <td>15</td>\n",
       "      <td>12</td>\n",
       "      <td>16</td>\n",
       "      <td>7</td>\n",
       "      <td>9</td>\n",
       "      <td>11</td>\n",
       "      <td>9</td>\n",
       "      <td>...</td>\n",
       "      <td>10</td>\n",
       "      <td>1000</td>\n",
       "      <td>24</td>\n",
       "      <td>1000</td>\n",
       "      <td>16</td>\n",
       "      <td>19</td>\n",
       "      <td>182</td>\n",
       "      <td>1000</td>\n",
       "      <td>1000</td>\n",
       "      <td>25</td>\n",
       "    </tr>\n",
       "    <tr>\n",
       "      <th>146</th>\n",
       "      <td>12</td>\n",
       "      <td>8</td>\n",
       "      <td>9</td>\n",
       "      <td>16</td>\n",
       "      <td>24</td>\n",
       "      <td>17</td>\n",
       "      <td>13</td>\n",
       "      <td>21</td>\n",
       "      <td>23</td>\n",
       "      <td>12</td>\n",
       "      <td>...</td>\n",
       "      <td>18</td>\n",
       "      <td>386</td>\n",
       "      <td>88</td>\n",
       "      <td>1000</td>\n",
       "      <td>22</td>\n",
       "      <td>9</td>\n",
       "      <td>16</td>\n",
       "      <td>1000</td>\n",
       "      <td>525</td>\n",
       "      <td>44</td>\n",
       "    </tr>\n",
       "    <tr>\n",
       "      <th>147</th>\n",
       "      <td>9</td>\n",
       "      <td>12</td>\n",
       "      <td>11</td>\n",
       "      <td>1000</td>\n",
       "      <td>17</td>\n",
       "      <td>24</td>\n",
       "      <td>10</td>\n",
       "      <td>18</td>\n",
       "      <td>21</td>\n",
       "      <td>17</td>\n",
       "      <td>...</td>\n",
       "      <td>29</td>\n",
       "      <td>25</td>\n",
       "      <td>23</td>\n",
       "      <td>1000</td>\n",
       "      <td>37</td>\n",
       "      <td>10</td>\n",
       "      <td>11</td>\n",
       "      <td>196</td>\n",
       "      <td>16</td>\n",
       "      <td>1000</td>\n",
       "    </tr>\n",
       "    <tr>\n",
       "      <th>148</th>\n",
       "      <td>22</td>\n",
       "      <td>16</td>\n",
       "      <td>11</td>\n",
       "      <td>95</td>\n",
       "      <td>1000</td>\n",
       "      <td>459</td>\n",
       "      <td>12</td>\n",
       "      <td>11</td>\n",
       "      <td>16</td>\n",
       "      <td>11</td>\n",
       "      <td>...</td>\n",
       "      <td>10</td>\n",
       "      <td>540</td>\n",
       "      <td>17</td>\n",
       "      <td>19</td>\n",
       "      <td>95</td>\n",
       "      <td>10</td>\n",
       "      <td>19</td>\n",
       "      <td>1000</td>\n",
       "      <td>30</td>\n",
       "      <td>200</td>\n",
       "    </tr>\n",
       "    <tr>\n",
       "      <th>149</th>\n",
       "      <td>3</td>\n",
       "      <td>11</td>\n",
       "      <td>8</td>\n",
       "      <td>12</td>\n",
       "      <td>19</td>\n",
       "      <td>206</td>\n",
       "      <td>16</td>\n",
       "      <td>30</td>\n",
       "      <td>290</td>\n",
       "      <td>13</td>\n",
       "      <td>...</td>\n",
       "      <td>9</td>\n",
       "      <td>1000</td>\n",
       "      <td>849</td>\n",
       "      <td>20</td>\n",
       "      <td>27</td>\n",
       "      <td>7</td>\n",
       "      <td>39</td>\n",
       "      <td>20</td>\n",
       "      <td>191</td>\n",
       "      <td>100</td>\n",
       "    </tr>\n",
       "  </tbody>\n",
       "</table>\n",
       "<p>150 rows × 35 columns</p>\n",
       "</div>"
      ],
      "text/plain": [
       "     2.6  0.8  0.2   6.4   4.0   5.0  1.2  1.8  3.6  1.6  ...  1.4   5.6  \\\n",
       "0     16    8    7    26   200    14   13   10  860   15  ...   14  1000   \n",
       "1     20   11   10   224    17    65   16  150  752    9  ...   17  1000   \n",
       "2     13   11   12    23    21    16    4   10   62   12  ...   11   309   \n",
       "3     12   15    9   759   570   190   11   12  546   12  ...   12    29   \n",
       "4    329   10   10  1000    14  1000   13   35   15   10  ...   11   426   \n",
       "..   ...  ...  ...   ...   ...   ...  ...  ...  ...  ...  ...  ...   ...   \n",
       "145   11   15    6    15    12    16    7    9   11    9  ...   10  1000   \n",
       "146   12    8    9    16    24    17   13   21   23   12  ...   18   386   \n",
       "147    9   12   11  1000    17    24   10   18   21   17  ...   29    25   \n",
       "148   22   16   11    95  1000   459   12   11   16   11  ...   10   540   \n",
       "149    3   11    8    12    19   206   16   30  290   13  ...    9  1000   \n",
       "\n",
       "      5.2   5.8   3.4  1.0  2.4   4.8   4.2   6.6  \n",
       "0    1000    22    32   12   13    24    58   822  \n",
       "1     718  1000    20   10   23    65    16    32  \n",
       "2     952    41    15   16   16    53    14    63  \n",
       "3    1000   952   229   14   19    11   772  1000  \n",
       "4     953    55  1000   16   26    19    22   103  \n",
       "..    ...   ...   ...  ...  ...   ...   ...   ...  \n",
       "145    24  1000    16   19  182  1000  1000    25  \n",
       "146    88  1000    22    9   16  1000   525    44  \n",
       "147    23  1000    37   10   11   196    16  1000  \n",
       "148    17    19    95   10   19  1000    30   200  \n",
       "149   849    20    27    7   39    20   191   100  \n",
       "\n",
       "[150 rows x 35 columns]"
      ]
     },
     "execution_count": 285,
     "metadata": {},
     "output_type": "execute_result"
    }
   ],
   "source": [
    "gen_df = pd.DataFrame(generations)\n",
    "gen_df "
   ]
  },
  {
   "cell_type": "code",
   "execution_count": 286,
   "id": "f7acfe09-ddd2-45e2-87e2-debb2323eb0c",
   "metadata": {},
   "outputs": [
    {
     "data": {
      "image/png": "[encoded data removed]",
      "text/plain": [
       "<Figure size 1000x400 with 1 Axes>"
      ]
     },
     "metadata": {},
     "output_type": "display_data"
    }
   ],
   "source": [
    "figure = plt.figure(constrained_layout=True, figsize=(10,4))\n",
    "gs = figure.add_gridspec(nrows=1, ncols=1, left=0.05, right=0.48, wspace=0.05)\n",
    "ax = figure.add_subplot(gs[0,0])\n",
    "ax.spines[\"right\"].set_visible(False)\n",
    "ax.spines[\"top\"].set_visible(False)\n",
    "sns.boxplot([gen_df[str(c)] for c in mut_params[:25]])\n",
    "plt.xticks(range(len(mut_params[:25])), mut_params[:25])\n",
    "plt.show()"
   ]
  },
  {
   "cell_type": "code",
   "execution_count": 287,
   "id": "3b6931cc-1676-4d19-911a-2bf14a7a2943",
   "metadata": {},
   "outputs": [],
   "source": [
    "min_move = [min(data_all[str(c)]) for c in mut_params]\n",
    "min_counts = [data_all[str(c)].count(min(data_all[str(c)])) for c in mut_params]"
   ]
  },
  {
   "cell_type": "code",
   "execution_count": 288,
   "id": "8f736efb-2b94-432d-a0e0-ed93b692d031",
   "metadata": {},
   "outputs": [
    {
     "data": {
      "text/plain": [
       "([6,\n",
       "  6,\n",
       "  6,\n",
       "  6,\n",
       "  6,\n",
       "  6,\n",
       "  6,\n",
       "  6,\n",
       "  6,\n",
       "  6,\n",
       "  6,\n",
       "  6,\n",
       "  6,\n",
       "  6,\n",
       "  6,\n",
       "  6,\n",
       "  6,\n",
       "  6,\n",
       "  6,\n",
       "  6,\n",
       "  6,\n",
       "  6,\n",
       "  6,\n",
       "  6,\n",
       "  6,\n",
       "  6,\n",
       "  6,\n",
       "  6,\n",
       "  6,\n",
       "  6,\n",
       "  6,\n",
       "  6,\n",
       "  6,\n",
       "  6,\n",
       "  6],\n",
       " [9,\n",
       "  13,\n",
       "  10,\n",
       "  7,\n",
       "  9,\n",
       "  18,\n",
       "  11,\n",
       "  14,\n",
       "  23,\n",
       "  19,\n",
       "  12,\n",
       "  14,\n",
       "  21,\n",
       "  18,\n",
       "  15,\n",
       "  18,\n",
       "  18,\n",
       "  15,\n",
       "  10,\n",
       "  8,\n",
       "  20,\n",
       "  12,\n",
       "  16,\n",
       "  10,\n",
       "  10,\n",
       "  10,\n",
       "  10,\n",
       "  7,\n",
       "  9,\n",
       "  10,\n",
       "  13,\n",
       "  15,\n",
       "  14,\n",
       "  16,\n",
       "  12])"
      ]
     },
     "execution_count": 288,
     "metadata": {},
     "output_type": "execute_result"
    }
   ],
   "source": [
    "min_move, min_counts"
   ]
  },
  {
   "cell_type": "code",
   "execution_count": 289,
   "id": "fb48b3fc-ac5a-4d50-bc29-b2c6d3ad111c",
   "metadata": {},
   "outputs": [
    {
     "data": {
      "image/png": "[encoded data removed]",
      "text/plain": [
       "<Figure size 640x480 with 1 Axes>"
      ]
     },
     "metadata": {},
     "output_type": "display_data"
    }
   ],
   "source": [
    "plt.plot(mut_params, np.array(min_counts, dtype=float)/150, 'o') \n",
    "plt.show()"
   ]
  },
  {
   "cell_type": "code",
   "execution_count": 290,
   "id": "873a6bde-66fd-4492-b88b-45ca573738b0",
   "metadata": {},
   "outputs": [
    {
     "data": {
      "text/plain": [
       "<BarContainer object of 35 artists>"
      ]
     },
     "execution_count": 290,
     "metadata": {},
     "output_type": "execute_result"
    },
    {
     "data": {
      "image/png": "[encoded data removed]",
      "text/plain": [
       "<Figure size 640x480 with 1 Axes>"
      ]
     },
     "metadata": {},
     "output_type": "display_data"
    }
   ],
   "source": [
    "plt.bar(mut_params, min_counts, width=0.1, color='deepskyblue', align='center')"
   ]
  },
  {
   "cell_type": "code",
   "execution_count": 292,
   "id": "cb546720-3bea-4428-95e7-eca06d34dc88",
   "metadata": {},
   "outputs": [],
   "source": [
    "success_rate = [fitnesses[str(key)].count(1)/len(fitnesses[str(key)]) for key in mut_params]"
   ]
  },
  {
   "cell_type": "code",
   "execution_count": 293,
   "id": "cc4b9078-0933-40e6-8eda-50cdd24cf3d9",
   "metadata": {},
   "outputs": [
    {
     "data": {
      "text/plain": [
       "[1.0,\n",
       " 1.0,\n",
       " 1.0,\n",
       " 1.0,\n",
       " 1.0,\n",
       " 1.0,\n",
       " 1.0,\n",
       " 1.0,\n",
       " 1.0,\n",
       " 1.0,\n",
       " 1.0,\n",
       " 1.0,\n",
       " 1.0,\n",
       " 0.9866666666666667,\n",
       " 0.9933333333333333,\n",
       " 0.9333333333333333,\n",
       " 0.96,\n",
       " 0.9466666666666667,\n",
       " 0.9,\n",
       " 0.92,\n",
       " 0.88,\n",
       " 0.8133333333333334,\n",
       " 0.8266666666666667,\n",
       " 0.76,\n",
       " 0.7533333333333333,\n",
       " 0.7666666666666667,\n",
       " 0.72,\n",
       " 0.6933333333333334,\n",
       " 0.74,\n",
       " 0.7,\n",
       " 0.7066666666666667,\n",
       " 0.6733333333333333,\n",
       " 0.66,\n",
       " 0.6666666666666666,\n",
       " 0.64]"
      ]
     },
     "execution_count": 293,
     "metadata": {},
     "output_type": "execute_result"
    }
   ],
   "source": [
    "success_rate"
   ]
  },
  {
   "cell_type": "code",
   "execution_count": 295,
   "id": "91e8b2b5-b155-47b4-9b66-d9da6cdc25a2",
   "metadata": {},
   "outputs": [
    {
     "data": {
      "image/png": "[encoded data removed]",
      "text/plain": [
       "<Figure size 640x480 with 1 Axes>"
      ]
     },
     "metadata": {},
     "output_type": "display_data"
    }
   ],
   "source": [
    "gen_data = np.array([np.mean(gen_df[str(c)]) for c in mut_params])\n",
    "ratio = (np.array(min_counts, dtype=float)* np.array(success_rate))/gen_data\n",
    "plt.bar(mut_params[4:], ratio[4:], width=0.1, align=\"center\") \n",
    "plt.show()"
   ]
  },
  {
   "cell_type": "code",
   "execution_count": null,
   "id": "5c5c371b-3548-427f-bed2-95f9571773b4",
   "metadata": {},
   "outputs": [],
   "source": []
  },
  {
   "cell_type": "code",
   "execution_count": 296,
   "id": "8003e11f-e506-4c3f-856b-ee7abd92faf5",
   "metadata": {},
   "outputs": [
    {
     "data": {
      "image/png": "[encoded data removed]",
      "text/plain": [
       "<Figure size 640x480 with 1 Axes>"
      ]
     },
     "metadata": {},
     "output_type": "display_data"
    }
   ],
   "source": [
    "plt.plot(mut_params, gen_data/500, 'o-', label='time')\n",
    "plt.plot(mut_params, success_rate, 'o-', label=\"success rate\")\n",
    "plt.legend()\n",
    "plt.show()"
   ]
  },
  {
   "cell_type": "code",
   "execution_count": 297,
   "id": "f4eec9c1-05f2-4113-95ac-5c204e30b3f3",
   "metadata": {},
   "outputs": [
    {
     "data": {
      "text/plain": [
       "[9,\n",
       " 13,\n",
       " 10,\n",
       " 7,\n",
       " 9,\n",
       " 18,\n",
       " 11,\n",
       " 14,\n",
       " 23,\n",
       " 19,\n",
       " 12,\n",
       " 14,\n",
       " 21,\n",
       " 18,\n",
       " 15,\n",
       " 18,\n",
       " 18,\n",
       " 15,\n",
       " 10,\n",
       " 8,\n",
       " 20,\n",
       " 12,\n",
       " 16,\n",
       " 10,\n",
       " 10,\n",
       " 10,\n",
       " 10,\n",
       " 7,\n",
       " 9,\n",
       " 10,\n",
       " 13,\n",
       " 15,\n",
       " 14,\n",
       " 16,\n",
       " 12]"
      ]
     },
     "execution_count": 297,
     "metadata": {},
     "output_type": "execute_result"
    }
   ],
   "source": [
    "min_counts"
   ]
  },
  {
   "cell_type": "code",
   "execution_count": 298,
   "id": "d57c9e2f-f1fd-4369-83bf-bdf75c37b55c",
   "metadata": {},
   "outputs": [
    {
     "data": {
      "image/png": "[encoded data removed]",
      "text/plain": [
       "<Figure size 700x400 with 2 Axes>"
      ]
     },
     "metadata": {},
     "output_type": "display_data"
    }
   ],
   "source": [
    "figure = plt.figure(constrained_layout=True, figsize=(7,4))\n",
    "gs = figure.add_gridspec(nrows=1, ncols=1, left=0.05, right=0.48, wspace=0.05)\n",
    "ax = figure.add_subplot(gs[0,0])\n",
    "ax.spines[\"right\"].set_visible(False)\n",
    "#ax.spines[\"top\"].set_visible(False)\n",
    "plt.plot(mut_params[4:], success_rate[4:] , \"o-\", color=\"darkorange\", label=\"Success rate\")\n",
    "plt.ylabel(r\"Success rate (%)\", weight=\"bold\", fontsize=12)\n",
    "plt.xlabel(r\"Mutation rate ($c$)\", weight=\"bold\", fontsize=12)\n",
    "plt.legend(loc='lower right',bbox_to_anchor=(1, 0.45))\n",
    "\n",
    "ax3 = ax.twinx()\n",
    "#ax3.spines[\"top\"].set_visible(False)\n",
    "ax3.set_ylabel(r'Mean number of generations',fontsize=12,weight=\"bold\")\n",
    "ax3.plot(mut_params[4:],[np.mean(generations[str(k)]) for k in mut_params][4:],\"o-\", color='deepskyblue', label=\"Generations\")\n",
    "plt.legend(loc='lower right',bbox_to_anchor=(1, 0.55))\n",
    "plt.title(\"Puzzle Level \"+str(level)+\", $d=3, k=2$\", fontsize=15,weight=\"bold\")\n",
    "plt.savefig(\"../images/mu_success_rate_dim3_level\" +str(level)+\".pdf\")\n",
    "plt.show()"
   ]
  },
  {
   "cell_type": "code",
   "execution_count": 299,
   "id": "f5fc44ce-d140-43ec-88d6-389d54be77fd",
   "metadata": {},
   "outputs": [
    {
     "name": "stdout",
     "output_type": "stream",
     "text": [
      "The mean of the Zipf's distribution is 7.503299999999999\n",
      "1.8758249999999999\n",
      "The Binomial mutation rate is 0.25\n"
     ]
    }
   ],
   "source": [
    "N = 10000\n",
    "zipf_dist = list(zipf_rvgen(1,70, 70, N, 1.4))\n",
    "barplot_data = []\n",
    "\n",
    "for i in set(zipf_dist) :\n",
    "    barplot_data +=[[i,zipf_dist.count(i)]]\n",
    "\n",
    "barplot_data = np.array(barplot_data)\n",
    "p = barplot_data[:,1]/sum(barplot_data[:,1])\n",
    "mean_zipf = sum(p*barplot_data[:,0])\n",
    "print(f\"The mean of the Zipf's distribution is {mean_zipf}\")\n",
    "print(mean_zipf/4)\n",
    "mu = 0.25 #mean_zipf/args.length\n",
    "print(f\"The Binomial mutation rate is {mu}\")\n",
    "bino_dist = bino_gen(mu, 70, N)"
   ]
  },
  {
   "cell_type": "code",
   "execution_count": 300,
   "id": "e8a80621-5169-4402-968e-6ddb594a015a",
   "metadata": {},
   "outputs": [],
   "source": [
    "barplot_data_bino = []\n",
    "for i in set(bino_dist) :\n",
    "    barplot_data_bino +=[[i,bino_dist.count(i)]]\n",
    "\n",
    "barplot_data_bino = np.array(barplot_data_bino)"
   ]
  },
  {
   "cell_type": "code",
   "execution_count": 322,
   "id": "34367aa9-43d3-416b-aa56-2441672b631b",
   "metadata": {},
   "outputs": [
    {
     "data": {
      "text/plain": [
       "(35, 35)"
      ]
     },
     "execution_count": 322,
     "metadata": {},
     "output_type": "execute_result"
    }
   ],
   "source": [
    "len(mut_params), len(min_counts)"
   ]
  },
  {
   "cell_type": "code",
   "execution_count": 325,
   "id": "79b187bf-b089-406d-8861-8af687e07dc2",
   "metadata": {},
   "outputs": [
    {
     "name": "stdout",
     "output_type": "stream",
     "text": [
      "[9, 10, 8, 11, 9, 15, 9, 10, 6, 7, 10, 9, 7, 6, 7, 8, 10, 11, 7, 12, 7, 8, 10, 9, 10, 11, 6, 9, 11, 6, 9, 6, 12, 12, 11, 6, 6, 12, 8, 9, 10, 8, 10, 7, 9, 7, 7, 10, 9, 7, 6, 6, 6, 8, 8, 17, 10, 9, 8, 6, 8, 11, 7, 7, 10, 7, 12, 8, 10, 9, 9, 8, 12, 9, 9, 7, 8, 7, 6, 6, 9, 7, 9, 11, 6, 7, 7, 6, 8, 7, 6, 13, 9, 8, 7, 7, 8, 9, 8, 7, 8, 9, 8, 12, 9, 8, 8, 6, 13, 7, 7, 6, 9, 8, 7, 6, 7, 7, 8, 7, 14, 8, 10, 10, 6, 11, 8, 14, 6, 10, 8, 6, 8, 13, 9, 9, 10, 11, 8, 12, 7, 7, 10, 7, 6, 7, 11, 11, 7, 13] {6, 7, 8, 9, 10, 11, 12, 13, 14, 15, 17} 150\n"
     ]
    },
    {
     "data": {
      "image/png": "[encoded data removed]",
      "text/plain": [
       "<Figure size 1000x400 with 3 Axes>"
      ]
     },
     "metadata": {},
     "output_type": "display_data"
    }
   ],
   "source": [
    "dim = 3 \n",
    "level = 0 \n",
    "figure = plt.figure(constrained_layout=True, figsize=(10,4))\n",
    "gs = figure.add_gridspec(nrows=1, ncols=2, left=0.05, right=0.48, wspace=0.05)\n",
    "ax = figure.add_subplot(gs[0,0])\n",
    "ax.spines[\"top\"].set_visible(False)\n",
    "ax.spines[\"right\"].set_visible(False)\n",
    "plt.title(\"(a)\", fontsize=17,weight=\"bold\")\n",
    "ratio = (np.array(min_counts, dtype=float)* np.array(success_rate))/gen_data\n",
    "#ax.plot(mut_params[4:], ratio[4:], \"o-\", color=\"deepskyblue\") \n",
    "ax.bar(mut_params, min_counts, width=0.1, align=\"center\", color=\"deepskyblue\") \n",
    "plt.ylabel(\"6 moves' frequency\", fontsize=13, weight='bold')\n",
    "plt.xlabel(r\"Mutation rate ($c$)\", weight=\"bold\", fontsize=13)\n",
    "\n",
    "ax = figure.add_subplot(gs[0,1])\n",
    "# ax.spines[\"top\"].set_visible(False)\n",
    "# ax.spines[\"right\"].set_visible(False)\n",
    "# plt.xlabel(\"Point mutations\", fontsize=10, weight='bold')\n",
    "# plt.ylabel(\"Frequency\", fontsize=10, weight='bold')\n",
    "# plt.bar(barplot_data_bino[:,0], barplot_data_bino[:,1], width=.8, align='center', log=True, label=r\"Binomial with $\\mu*=\"+str(np.round(mu,3))+\"$\", color=\"darkorange\")\n",
    "# plt.bar(barplot_data[:,0], barplot_data[:,1], width=.4, align='center', log=True, label=r\"Zipf with $c*=\"+str(1.4)+\"$\", alpha=0.5, color=\"deepskyblue\")\n",
    "# plt.legend()\n",
    "histo_data = data_all[\"1.8\"]\n",
    "print(histo_data, set(histo_data), len(histo_data))\n",
    "ax.spines[\"right\"].set_visible(False)\n",
    "ax.spines[\"top\"].set_visible(False)\n",
    "ax.set_xlabel(r\"Number of moves\", weight='bold', fontsize=13)\n",
    "ax.set_ylabel(r\"Frequencies\", weight=\"bold\", fontsize=13)\n",
    "ax.bar(list(set(histo_data)), [histo_data.count(s) for s in list(set(histo_data))],  width=.8, align='center')\n",
    "plt.title(\"(b)\", fontsize=17,weight=\"bold\")\n",
    "# plt.title(\"Puzzle Level \"+str(level), fontsize=17,weight=\"bold\")\n",
    "ax2 = plt.axes([0.8, 0.55, 0.20, 0.3])\n",
    "ax2.spines[\"right\"].set_visible(False)\n",
    "ax2.spines[\"top\"].set_visible(False)\n",
    "histo_data = np.array(histo_data_7)\n",
    "plot_data = histo_data[histo_data<25].tolist()\n",
    "ax2.bar(list(set(plot_data)), [plot_data.count(s) for s in sorted(set(plot_data))],  width=.7, align='center', color=\"orange\")\n",
    "# plt.savefig(\"../images/best_cvalue\"+str(dim)+\"_level\" +str(level)+\"number_of_move.pdf\")\n",
    "plt.savefig(\"../images/best_cvalue\"+str(dim)+\"_level\" +str(level)+\".pdf\")\n",
    "plt.savefig(\"../images/best_cvalue\"+str(dim)+\"_level\" +str(level)+\".svg\")\n",
    "plt.show()"
   ]
  },
  {
   "cell_type": "code",
   "execution_count": 309,
   "id": "6ff89de1-bf7a-4c24-a1d4-ac0c3f53c1c9",
   "metadata": {},
   "outputs": [
    {
     "name": "stdout",
     "output_type": "stream",
     "text": [
      "[9, 9, 6, 9, 8, 7, 8, 7, 9, 9, 7, 10, 9, 6, 9, 10, 11, 11, 8, 9, 12, 9, 10, 6, 9, 8, 6, 10, 7, 9, 11, 7, 7, 6, 6, 9, 10, 7, 8, 10, 7, 7, 10, 10, 9, 6, 9, 8, 7, 8, 7, 11, 8, 9, 9, 8, 9, 8, 11, 8, 7, 8, 7, 6, 6, 6, 10, 7, 9, 9, 9, 8, 10, 6, 7, 9, 10, 9, 11, 9, 7, 7, 12, 6, 9, 10, 7, 14, 8, 7, 8, 9, 12, 9, 8, 7] {6, 7, 8, 9, 10, 11, 12, 14} 96\n"
     ]
    },
    {
     "data": {
      "text/plain": [
       "<BarContainer object of 8 artists>"
      ]
     },
     "execution_count": 309,
     "metadata": {},
     "output_type": "execute_result"
    },
    {
     "data": {
      "image/png": "[encoded data removed]",
      "text/plain": [
       "<Figure size 1000x400 with 2 Axes>"
      ]
     },
     "metadata": {},
     "output_type": "display_data"
    }
   ],
   "source": [
    "histo_data_7 = data_all[\"7.0\"]\n",
    "print(histo_data_7, set(histo_data_7), len(histo_data_7))\n",
    "figure = plt.figure(constrained_layout=True, figsize=(10,4))\n",
    "gs = figure.add_gridspec(nrows=1, ncols=1, left=0.05, right=0.48, wspace=0.05)\n",
    "ax = figure.add_subplot(gs[0,0])\n",
    "#ax.set_yscale(\"log\")\n",
    "ax.spines[\"right\"].set_visible(False)\n",
    "ax.spines[\"top\"].set_visible(False)\n",
    "ax.set_xlabel(r\"Number of moves\", weight='bold', fontsize=13)\n",
    "ax.set_ylabel(r\"Frequencies\", weight=\"bold\", fontsize=13)\n",
    "ax.bar(list(set(histo_data_7)), [histo_data_7.count(s) for s in list(set(histo_data_7))],  width=.7, align='center')\n",
    "plt.title(\"Puzzle Level \"+str(level), fontsize=17,weight=\"bold\")\n",
    "ax2 = plt.axes([0.5, 0.35, 0.45, 0.5])\n",
    "ax2.spines[\"right\"].set_visible(False)\n",
    "ax2.spines[\"top\"].set_visible(False)\n",
    "histo_data = np.array(histo_data_7)\n",
    "plot_data = histo_data[histo_data<25].tolist()\n",
    "ax2.bar(list(set(plot_data)), [plot_data.count(s) for s in sorted(set(plot_data))],  width=.7, align='center')\n"
   ]
  },
  {
   "cell_type": "code",
   "execution_count": 310,
   "id": "fd9283d8-2578-4187-b122-82c1c21ece54",
   "metadata": {},
   "outputs": [
    {
     "name": "stdout",
     "output_type": "stream",
     "text": [
      "[9, 10, 8, 11, 9, 15, 9, 10, 6, 7, 10, 9, 7, 6, 7, 8, 10, 11, 7, 12, 7, 8, 10, 9, 10, 11, 6, 9, 11, 6, 9, 6, 12, 12, 11, 6, 6, 12, 8, 9, 10, 8, 10, 7, 9, 7, 7, 10, 9, 7, 6, 6, 6, 8, 8, 17, 10, 9, 8, 6, 8, 11, 7, 7, 10, 7, 12, 8, 10, 9, 9, 8, 12, 9, 9, 7, 8, 7, 6, 6, 9, 7, 9, 11, 6, 7, 7, 6, 8, 7, 6, 13, 9, 8, 7, 7, 8, 9, 8, 7, 8, 9, 8, 12, 9, 8, 8, 6, 13, 7, 7, 6, 9, 8, 7, 6, 7, 7, 8, 7, 14, 8, 10, 10, 6, 11, 8, 14, 6, 10, 8, 6, 8, 13, 9, 9, 10, 11, 8, 12, 7, 7, 10, 7, 6, 7, 11, 11, 7, 13] {6, 7, 8, 9, 10, 11, 12, 13, 14, 15, 17} 150\n"
     ]
    },
    {
     "data": {
      "image/png": "[encoded data removed]",
      "text/plain": [
       "<Figure size 1000x400 with 2 Axes>"
      ]
     },
     "metadata": {},
     "output_type": "display_data"
    }
   ],
   "source": [
    "histo_data = data_all[\"1.8\"]\n",
    "print(histo_data, set(histo_data), len(histo_data))\n",
    "figure = plt.figure(constrained_layout=True, figsize=(10,4))\n",
    "gs = figure.add_gridspec(nrows=1, ncols=1, left=0.05, right=0.48, wspace=0.05)\n",
    "ax = figure.add_subplot(gs[0,0])\n",
    "#ax.set_yscale(\"log\")\n",
    "ax.spines[\"right\"].set_visible(False)\n",
    "ax.spines[\"top\"].set_visible(False)\n",
    "ax.set_xlabel(r\"Number of moves\", weight='bold', fontsize=13)\n",
    "ax.set_ylabel(r\"Frequencies\", weight=\"bold\", fontsize=13)\n",
    "ax.bar(list(set(histo_data)), [histo_data.count(s) for s in list(set(histo_data))],  width=.8, align='center')\n",
    "plt.title(\"Puzzle Level \"+str(level), fontsize=17,weight=\"bold\")\n",
    "ax2 = plt.axes([0.64, 0.35, 0.35, 0.5])\n",
    "ax2.spines[\"right\"].set_visible(False)\n",
    "ax2.spines[\"top\"].set_visible(False)\n",
    "histo_data = np.array(histo_data_7)\n",
    "plot_data = histo_data[histo_data<25].tolist()\n",
    "ax2.bar(list(set(plot_data)), [plot_data.count(s) for s in sorted(set(plot_data))],  width=.7, align='center', color=\"orange\")\n",
    "plt.savefig(\"../images/best_cvalue\"+str(dim)+\"_level\" +str(level)+\"number_of_move.pdf\")"
   ]
  },
  {
   "cell_type": "code",
   "execution_count": 311,
   "id": "8ea7b9a4-1993-4589-8a46-4338365d4bec",
   "metadata": {},
   "outputs": [
    {
     "data": {
      "text/plain": [
       "12"
      ]
     },
     "execution_count": 311,
     "metadata": {},
     "output_type": "execute_result"
    }
   ],
   "source": [
    "histo_data = data_all[\"7.0\"]\n",
    "histo_data.count(6)"
   ]
  },
  {
   "cell_type": "code",
   "execution_count": 312,
   "id": "f1d40e52-9c04-42bb-9303-ea12477a6441",
   "metadata": {},
   "outputs": [
    {
     "data": {
      "text/plain": [
       "[12, 20, 16]"
      ]
     },
     "execution_count": 312,
     "metadata": {},
     "output_type": "execute_result"
    }
   ],
   "source": [
    "histo_data = data_all[\"7.0\"]\n",
    "[histo_data.count(mm) for mm in [6,7,8]]"
   ]
  },
  {
   "cell_type": "code",
   "execution_count": 313,
   "id": "9d878931-2ba5-4528-9949-d7024ce0a643",
   "metadata": {},
   "outputs": [
    {
     "data": {
      "text/plain": [
       "[23, 32, 27]"
      ]
     },
     "execution_count": 313,
     "metadata": {},
     "output_type": "execute_result"
    }
   ],
   "source": [
    "histo_data = data_all[\"1.8\"]\n",
    "[histo_data.count(mm) for mm in [6,7,8]]"
   ]
  },
  {
   "cell_type": "code",
   "execution_count": 314,
   "id": "b11e26dd-4afb-4c19-88fe-9d3ec85e76d4",
   "metadata": {},
   "outputs": [
    {
     "data": {
      "text/plain": [
       "[10, 21, 23]"
      ]
     },
     "execution_count": 314,
     "metadata": {},
     "output_type": "execute_result"
    }
   ],
   "source": [
    "histo_data = data_all[\"5.0\"]\n",
    "[histo_data.count(mm) for mm in [6,7,8]]"
   ]
  },
  {
   "cell_type": "code",
   "execution_count": 315,
   "id": "31b2ad10-7711-43da-98d0-124cd4cafa71",
   "metadata": {},
   "outputs": [],
   "source": [
    "number_of_levels = 3\n",
    "dim = 3 \n",
    "\n",
    "all_level_data = []\n",
    "for i in range(number_of_levels):\n",
    "    with open(\"../data/dim/\"+str(dim)+\"/level\"+str(i)+\"_levy_data.json\", \"r\")as jsonfile :\n",
    "        all_level_data  += [json.load(jsonfile)]\n",
    "        jsonfile.close()"
   ]
  },
  {
   "cell_type": "code",
   "execution_count": 316,
   "id": "0f192faa-f347-415d-a293-d1b6ed11b447",
   "metadata": {},
   "outputs": [
    {
     "name": "stdout",
     "output_type": "stream",
     "text": [
      "8.0 {6, 7, 8, 9, 10, 11, 12, 13, 14, 15, 17}\n",
      "11.0 {7, 8, 9, 10, 11, 12, 13, 14, 15, 16, 17, 18, 19}\n",
      "14.0 {9, 10, 11, 12, 13, 14, 15, 16, 17, 18, 19, 20, 21}\n"
     ]
    },
    {
     "data": {
      "image/png": "[encoded data removed]",
      "text/plain": [
       "<Figure size 800x400 with 1 Axes>"
      ]
     },
     "metadata": {},
     "output_type": "display_data"
    }
   ],
   "source": [
    "figure = plt.figure(constrained_layout=True, figsize=(8,4))\n",
    "gs = figure.add_gridspec(nrows=1, ncols=1, left=0.05, right=0.48, wspace=0.05)\n",
    "ax = figure.add_subplot(gs[0,0])\n",
    "\n",
    "ax.spines[\"right\"].set_visible(False)\n",
    "ax.spines[\"top\"].set_visible(False)\n",
    "ax.set_xlabel(r\"Number of moves\", weight='bold', fontsize=13)\n",
    "ax.set_ylabel(r\"Frequencies\", weight=\"bold\", fontsize=13)\n",
    "plt.title(\"Cubic puzzle of dimension \"+str(dim), fontsize=17,weight=\"bold\")\n",
    "\n",
    "#ax2 = plt.axes([0.4, 0.35, 0.45, 0.5])\n",
    "#ax2.spines[\"right\"].set_visible(False)\n",
    "#ax2.spines[\"top\"].set_visible(False)\n",
    "title_fontproperties = matplotlib.font_manager.FontProperties(weight=\"bold\")\n",
    "best_mu = \"1.8\"\n",
    "colors = ['blue', 'orange', 'green', 'red']\n",
    "for i in range(number_of_levels) :\n",
    "    histo_data = all_level_data[i][best_mu]\n",
    "    print(np.median(histo_data), set(histo_data))\n",
    "    bar = ax.bar(list(set(histo_data)), [histo_data.count(s) for s in list(set(histo_data))],  width=.7, align='center')\n",
    "    bar.set_label(\"Level \"+str(i))\n",
    "    #ax2.bar(sorted(set(histo_data))[:13], [histo_data.count(s) for s in sorted(set(histo_data))[:13]],  width=.7, align='center')\n",
    "\n",
    "ax.legend(title=\"Difficulty levels:\", title_fontproperties=title_fontproperties)\n",
    "plt.savefig(\"../images/mu_\"+best_mu+\"prime_histo_dim_\"+str(dim)+\"_alllevels.pdf\")\n",
    "plt.show()"
   ]
  },
  {
   "cell_type": "code",
   "execution_count": 317,
   "id": "9c4a5f94-d883-4882-9f9a-ec0b255592e4",
   "metadata": {},
   "outputs": [],
   "source": [
    "number_of_levels = 4\n",
    "dim = 4\n",
    "\n",
    "all_level_data = []\n",
    "for i in range(number_of_levels):\n",
    "    with open(\"../data/dim/\"+str(dim)+\"/level\"+str(i)+\"_levy_data.json\", \"r\")as jsonfile :\n",
    "        all_level_data  += [json.load(jsonfile)]\n",
    "        jsonfile.close()"
   ]
  },
  {
   "cell_type": "code",
   "execution_count": 318,
   "id": "67e3e63e-a623-4d34-83f7-fc6e3710d31b",
   "metadata": {},
   "outputs": [
    {
     "name": "stdout",
     "output_type": "stream",
     "text": [
      "[15, 13, 32, 27, 47, 13] {32, 13, 47, 15, 27}\n",
      "[103, 39, 14, 21] {21, 39, 14, 103}\n",
      "[51, 386, 178] {178, 386, 51}\n",
      "[108, 170, 424, 483, 156] {483, 424, 170, 108, 156}\n"
     ]
    },
    {
     "data": {
      "image/png": "[encoded data removed]",
      "text/plain": [
       "<Figure size 800x400 with 1 Axes>"
      ]
     },
     "metadata": {},
     "output_type": "display_data"
    }
   ],
   "source": [
    "figure = plt.figure(constrained_layout=True, figsize=(8,4))\n",
    "gs = figure.add_gridspec(nrows=1, ncols=1, left=0.05, right=0.48, wspace=0.05)\n",
    "ax = figure.add_subplot(gs[0,0])\n",
    "\n",
    "ax.spines[\"right\"].set_visible(False)\n",
    "ax.spines[\"top\"].set_visible(False)\n",
    "ax.set_xlabel(r\"Number of moves\", weight='bold', fontsize=13)\n",
    "ax.set_ylabel(r\"Frequencies\", weight=\"bold\", fontsize=13)\n",
    "plt.title(\"Cubic puzzle of dimension \"+str(dim), fontsize=17,weight=\"bold\")\n",
    "\n",
    "#ax2 = plt.axes([0.4, 0.35, 0.45, 0.5])\n",
    "#ax2.spines[\"right\"].set_visible(False)\n",
    "#ax2.spines[\"top\"].set_visible(False)\n",
    "title_fontproperties = matplotlib.font_manager.FontProperties(weight=\"bold\")\n",
    "best_mu = \"1.0\"\n",
    "colors = ['blue', 'orange', 'green', 'red']\n",
    "for i in range(number_of_levels) :\n",
    "    histo_data = all_level_data[i][best_mu]\n",
    "    print(histo_data, set(histo_data))\n",
    "    bar = ax.bar(list(set(histo_data)), [histo_data.count(s) for s in list(set(histo_data))],  width=.7, align='center')\n",
    "    bar.set_label(\"Level \"+str(i))\n",
    "    #ax2.bar(sorted(set(histo_data))[:13], [histo_data.count(s) for s in sorted(set(histo_data))[:13]],  width=.7, align='center')\n",
    "\n",
    "ax.legend(title=\"Difficulty levels:\", title_fontproperties=title_fontproperties)\n",
    "#plt.savefig(\"../images/mu_\"+best_mu+\"prime_histo_dim_\"+str(dim)+\"_alllevels.pdf\")\n",
    "plt.show()"
   ]
  },
  {
   "cell_type": "code",
   "execution_count": 161,
   "id": "50e3ccb7-9958-4644-85c2-91f47a300551",
   "metadata": {},
   "outputs": [
    {
     "name": "stdout",
     "output_type": "stream",
     "text": [
      "22\n"
     ]
    }
   ],
   "source": [
    "print(f\"{}{2}\".format(2,2))"
   ]
  },
  {
   "cell_type": "markdown",
   "id": "037a4665-8ea9-455b-aebe-cbea663ab6cc",
   "metadata": {},
   "source": [
    "# A^* Search analyis"
   ]
  },
  {
   "cell_type": "code",
   "execution_count": 168,
   "id": "51045d0a-fe19-482b-af2b-bf04c116b99c",
   "metadata": {},
   "outputs": [],
   "source": [
    "d = 3 \n",
    "k = 2 \n",
    "l = 4 \n",
    "level = 1 \n",
    "njob = 200\n",
    "log_folder = \"../data/as/dim/\"+str(d)+\"/k/\"+str(k)+\"/level\"+str(level)+\"/\"\n",
    "as_df = pd.read_csv(log_folder+\"as_solutions\"+str(njob)+\".csv\")"
   ]
  },
  {
   "cell_type": "code",
   "execution_count": 169,
   "id": "4d8c222d-5881-4a57-9d1f-3eabbf675a10",
   "metadata": {},
   "outputs": [
    {
     "data": {
      "text/html": [
       "<div>\n",
       "<style scoped>\n",
       "    .dataframe tbody tr th:only-of-type {\n",
       "        vertical-align: middle;\n",
       "    }\n",
       "\n",
       "    .dataframe tbody tr th {\n",
       "        vertical-align: top;\n",
       "    }\n",
       "\n",
       "    .dataframe thead th {\n",
       "        text-align: right;\n",
       "    }\n",
       "</style>\n",
       "<table border=\"1\" class=\"dataframe\">\n",
       "  <thead>\n",
       "    <tr style=\"text-align: right;\">\n",
       "      <th></th>\n",
       "      <th>Unnamed: 0</th>\n",
       "      <th>d</th>\n",
       "      <th>k</th>\n",
       "      <th>l</th>\n",
       "      <th>level</th>\n",
       "      <th>Min</th>\n",
       "      <th>Moves</th>\n",
       "    </tr>\n",
       "  </thead>\n",
       "  <tbody>\n",
       "    <tr>\n",
       "      <th>0</th>\n",
       "      <td>0</td>\n",
       "      <td>3</td>\n",
       "      <td>2</td>\n",
       "      <td>4</td>\n",
       "      <td>1</td>\n",
       "      <td>7</td>\n",
       "      <td>[(2.0, 'blue'), (3.0, 'red'), (0.0, 'purple'),...</td>\n",
       "    </tr>\n",
       "    <tr>\n",
       "      <th>1</th>\n",
       "      <td>1</td>\n",
       "      <td>3</td>\n",
       "      <td>2</td>\n",
       "      <td>4</td>\n",
       "      <td>1</td>\n",
       "      <td>7</td>\n",
       "      <td>[(2.0, 'blue'), (3.0, 'red'), (0.0, 'purple'),...</td>\n",
       "    </tr>\n",
       "    <tr>\n",
       "      <th>2</th>\n",
       "      <td>2</td>\n",
       "      <td>3</td>\n",
       "      <td>2</td>\n",
       "      <td>4</td>\n",
       "      <td>1</td>\n",
       "      <td>7</td>\n",
       "      <td>[(2.0, 'blue'), (3.0, 'red'), (0.0, 'purple'),...</td>\n",
       "    </tr>\n",
       "    <tr>\n",
       "      <th>3</th>\n",
       "      <td>3</td>\n",
       "      <td>3</td>\n",
       "      <td>2</td>\n",
       "      <td>4</td>\n",
       "      <td>1</td>\n",
       "      <td>7</td>\n",
       "      <td>[(2.0, 'blue'), (3.0, 'red'), (0.0, 'purple'),...</td>\n",
       "    </tr>\n",
       "    <tr>\n",
       "      <th>4</th>\n",
       "      <td>4</td>\n",
       "      <td>3</td>\n",
       "      <td>2</td>\n",
       "      <td>4</td>\n",
       "      <td>1</td>\n",
       "      <td>7</td>\n",
       "      <td>[(2.0, 'blue'), (3.0, 'red'), (0.0, 'purple'),...</td>\n",
       "    </tr>\n",
       "    <tr>\n",
       "      <th>...</th>\n",
       "      <td>...</td>\n",
       "      <td>...</td>\n",
       "      <td>...</td>\n",
       "      <td>...</td>\n",
       "      <td>...</td>\n",
       "      <td>...</td>\n",
       "      <td>...</td>\n",
       "    </tr>\n",
       "    <tr>\n",
       "      <th>195</th>\n",
       "      <td>195</td>\n",
       "      <td>3</td>\n",
       "      <td>2</td>\n",
       "      <td>4</td>\n",
       "      <td>1</td>\n",
       "      <td>7</td>\n",
       "      <td>[(2.0, 'blue'), (3.0, 'red'), (0.0, 'purple'),...</td>\n",
       "    </tr>\n",
       "    <tr>\n",
       "      <th>196</th>\n",
       "      <td>196</td>\n",
       "      <td>3</td>\n",
       "      <td>2</td>\n",
       "      <td>4</td>\n",
       "      <td>1</td>\n",
       "      <td>7</td>\n",
       "      <td>[(2.0, 'blue'), (3.0, 'red'), (0.0, 'purple'),...</td>\n",
       "    </tr>\n",
       "    <tr>\n",
       "      <th>197</th>\n",
       "      <td>197</td>\n",
       "      <td>3</td>\n",
       "      <td>2</td>\n",
       "      <td>4</td>\n",
       "      <td>1</td>\n",
       "      <td>7</td>\n",
       "      <td>[(2.0, 'blue'), (3.0, 'red'), (0.0, 'purple'),...</td>\n",
       "    </tr>\n",
       "    <tr>\n",
       "      <th>198</th>\n",
       "      <td>198</td>\n",
       "      <td>3</td>\n",
       "      <td>2</td>\n",
       "      <td>4</td>\n",
       "      <td>1</td>\n",
       "      <td>7</td>\n",
       "      <td>[(2.0, 'blue'), (3.0, 'red'), (0.0, 'purple'),...</td>\n",
       "    </tr>\n",
       "    <tr>\n",
       "      <th>199</th>\n",
       "      <td>199</td>\n",
       "      <td>3</td>\n",
       "      <td>2</td>\n",
       "      <td>4</td>\n",
       "      <td>1</td>\n",
       "      <td>7</td>\n",
       "      <td>[(2.0, 'blue'), (3.0, 'red'), (0.0, 'purple'),...</td>\n",
       "    </tr>\n",
       "  </tbody>\n",
       "</table>\n",
       "<p>200 rows × 7 columns</p>\n",
       "</div>"
      ],
      "text/plain": [
       "     Unnamed: 0  d  k  l  level  Min  \\\n",
       "0             0  3  2  4      1    7   \n",
       "1             1  3  2  4      1    7   \n",
       "2             2  3  2  4      1    7   \n",
       "3             3  3  2  4      1    7   \n",
       "4             4  3  2  4      1    7   \n",
       "..          ... .. .. ..    ...  ...   \n",
       "195         195  3  2  4      1    7   \n",
       "196         196  3  2  4      1    7   \n",
       "197         197  3  2  4      1    7   \n",
       "198         198  3  2  4      1    7   \n",
       "199         199  3  2  4      1    7   \n",
       "\n",
       "                                                 Moves  \n",
       "0    [(2.0, 'blue'), (3.0, 'red'), (0.0, 'purple'),...  \n",
       "1    [(2.0, 'blue'), (3.0, 'red'), (0.0, 'purple'),...  \n",
       "2    [(2.0, 'blue'), (3.0, 'red'), (0.0, 'purple'),...  \n",
       "3    [(2.0, 'blue'), (3.0, 'red'), (0.0, 'purple'),...  \n",
       "4    [(2.0, 'blue'), (3.0, 'red'), (0.0, 'purple'),...  \n",
       "..                                                 ...  \n",
       "195  [(2.0, 'blue'), (3.0, 'red'), (0.0, 'purple'),...  \n",
       "196  [(2.0, 'blue'), (3.0, 'red'), (0.0, 'purple'),...  \n",
       "197  [(2.0, 'blue'), (3.0, 'red'), (0.0, 'purple'),...  \n",
       "198  [(2.0, 'blue'), (3.0, 'red'), (0.0, 'purple'),...  \n",
       "199  [(2.0, 'blue'), (3.0, 'red'), (0.0, 'purple'),...  \n",
       "\n",
       "[200 rows x 7 columns]"
      ]
     },
     "execution_count": 169,
     "metadata": {},
     "output_type": "execute_result"
    }
   ],
   "source": [
    "as_df"
   ]
  },
  {
   "cell_type": "code",
   "execution_count": 172,
   "id": "cae230d1-1f7e-4cfd-ad4b-b8a9dd393e8f",
   "metadata": {},
   "outputs": [
    {
     "data": {
      "text/plain": [
       "{7}"
      ]
     },
     "execution_count": 172,
     "metadata": {},
     "output_type": "execute_result"
    }
   ],
   "source": [
    "set(as_df['Min'].values)"
   ]
  },
  {
   "cell_type": "code",
   "execution_count": 177,
   "id": "4c8eace1-5064-4a57-9de5-2627a8efca5d",
   "metadata": {},
   "outputs": [],
   "source": [
    "as_data = np.load(\"../src/rl/RL_runs_dict.npy\", allow_pickle=True)"
   ]
  },
  {
   "cell_type": "code",
   "execution_count": 232,
   "id": "01ccce04-0b1d-4970-970e-9d6cc63252c7",
   "metadata": {},
   "outputs": [
    {
     "name": "stdout",
     "output_type": "stream",
     "text": [
      "[6, 6, 6, 6, 6, 6, 6, 6, 6, 6, 6, 6, 6, 6, 6, 6, 6, 6, 7, 6, 6, 6, 7, 7, 6, 6, 7, 7, 6, 6, 6, 6, 6, 6, 6, 6, 6, 6, 6, 7, 7, 6, 7, 6, 6, 7, 7, 6, 6, 6, 7, 6, 6, 6, 6, 6, 6, 6, 6, 6, 6, 6, 6, 7, 6, 6, 7, 7, 6, 7, 7, 6, 6, 6, 6, 6, 6, 6, 6, 7, 6, 6, 6, 6, 6, 6, 6, 7, 6, 6, 6, 6, 6, 6, 7, 6, 6, 6, 6, 6, 6, 7, 6, 6, 6, 6, 7, 6, 6, 6, 6, 6, 6, 6, 6, 6, 6, 7, 6, 6, 6, 6, 6, 6, 6, 6, 7, 7, 6, 6, 7, 6, 6, 6, 6, 6, 6, 6, 6, 6, 6, 6, 7, 6, 6, 6, 6, 6, 6, 6]\n",
      "[7, 7, 7, 8, 7, 9, 8, 8, 7, 9, 8, 7, 7, 8, 9, 8, 7, 8, 8, 8, 7, 7, 8, 7, 7, 8, 8, 8, 7, 7, 7, 7, 8, 7, 8, 7, 8, 7, 8, 7, 8, 8, 7, 8, 7, 7, 8, 8, 8, 7, 7, 7, 8, 8, 7, 7, 8, 8, 7, 8, 7, 8, 8, 8, 8, 7, 8, 7, 8, 7, 8, 7, 7, 7, 8, 8, 7, 8, 8, 7, 7, 7, 7, 7, 7, 8, 7, 8, 8, 7, 7, 7, 8, 8, 8, 7, 8, 7, 8, 8, 8, 7, 7, 7, 8, 7, 8, 7, 7, 7, 8, 8, 7, 7, 7, 8, 8, 7, 7, 7, 7, 8, 7, 7, 7, 7, 8, 7, 9, 9, 7, 7, 8, 7, 7, 8, 8, 7, 7, 7, 8, 7, 7, 7, 7, 7, 7, 8, 7, 7]\n",
      "[9, 10, 9, 10, 10, 10, 10, 10, 10, 9, 10, 9, 10, 10, 9, 11, 11, 10, 10, 9, 10, 10, 11, 9, 9, 9, 10, 9, 10, 9, 10, 9, 10, 9, 10, 10, 10, 11, 9, 10, 10, 9, 10, 10, 9, 10, 11, 9, 10, 10, 10, 9, 10, 10, 9, 10, 10, 10, 10, 9, 9, 9, 9, 9, 9, 10, 9, 12, 9, 9, 9, 9, 10, 10, 9, 9, 10, 9, 9, 10, 9, 9, 9, 9, 11, 9, 11, 9, 9, 11, 9, 9, 10, 10, 9, 9, 10, 9, 9, 10, 9, 9, 10, 9, 11, 10, 10, 9, 9, 9, 10, 9, 10, 9, 10, 10, 9, 10, 10, 10, 9, 9, 9, 10, 9, 9, 9, 10, 9, 9, 9, 9, 10, 10, 9, 9, 10, 10, 9, 9, 9, 9, 10, 10, 10, 10, 10, 9, 10, 9]\n"
     ]
    }
   ],
   "source": [
    "d = 3 \n",
    "k = 2 \n",
    "levels = [0,1,2]\n",
    "as_levels_data = {}\n",
    "all_data_level3 = []\n",
    "for l in levels: \n",
    "    as_levels_data[l] = as_data.tolist()[(d,k,l)]\n",
    "    all_data_level3 += [[d, k, l]]*len(as_data.tolist()[(d,k,l)])\n",
    "    print(as_data.tolist()[(d,k,l)])"
   ]
  },
  {
   "cell_type": "code",
   "execution_count": 227,
   "id": "0021036e-d440-4d59-a323-3b0cbb5b8fed",
   "metadata": {},
   "outputs": [
    {
     "data": {
      "text/plain": [
       "450"
      ]
     },
     "execution_count": 227,
     "metadata": {},
     "output_type": "execute_result"
    }
   ],
   "source": [
    "len(all_data_level3)"
   ]
  },
  {
   "cell_type": "code",
   "execution_count": null,
   "id": "12a49a37-c3e2-4f50-bf23-69d24c643f52",
   "metadata": {},
   "outputs": [],
   "source": []
  },
  {
   "cell_type": "code",
   "execution_count": 255,
   "id": "62b4cfd6-4817-40f0-ab24-484a634764fb",
   "metadata": {},
   "outputs": [
    {
     "data": {
      "text/html": [
       "<div>\n",
       "<style scoped>\n",
       "    .dataframe tbody tr th:only-of-type {\n",
       "        vertical-align: middle;\n",
       "    }\n",
       "\n",
       "    .dataframe tbody tr th {\n",
       "        vertical-align: top;\n",
       "    }\n",
       "\n",
       "    .dataframe thead th {\n",
       "        text-align: right;\n",
       "    }\n",
       "</style>\n",
       "<table border=\"1\" class=\"dataframe\">\n",
       "  <thead>\n",
       "    <tr style=\"text-align: right;\">\n",
       "      <th></th>\n",
       "      <th>d</th>\n",
       "      <th>k</th>\n",
       "      <th>Level</th>\n",
       "    </tr>\n",
       "  </thead>\n",
       "  <tbody>\n",
       "    <tr>\n",
       "      <th>0</th>\n",
       "      <td>3</td>\n",
       "      <td>2</td>\n",
       "      <td>0</td>\n",
       "    </tr>\n",
       "    <tr>\n",
       "      <th>1</th>\n",
       "      <td>3</td>\n",
       "      <td>2</td>\n",
       "      <td>0</td>\n",
       "    </tr>\n",
       "    <tr>\n",
       "      <th>2</th>\n",
       "      <td>3</td>\n",
       "      <td>2</td>\n",
       "      <td>0</td>\n",
       "    </tr>\n",
       "    <tr>\n",
       "      <th>3</th>\n",
       "      <td>3</td>\n",
       "      <td>2</td>\n",
       "      <td>0</td>\n",
       "    </tr>\n",
       "    <tr>\n",
       "      <th>4</th>\n",
       "      <td>3</td>\n",
       "      <td>2</td>\n",
       "      <td>0</td>\n",
       "    </tr>\n",
       "    <tr>\n",
       "      <th>...</th>\n",
       "      <td>...</td>\n",
       "      <td>...</td>\n",
       "      <td>...</td>\n",
       "    </tr>\n",
       "    <tr>\n",
       "      <th>895</th>\n",
       "      <td>3</td>\n",
       "      <td>1</td>\n",
       "      <td>2</td>\n",
       "    </tr>\n",
       "    <tr>\n",
       "      <th>896</th>\n",
       "      <td>3</td>\n",
       "      <td>1</td>\n",
       "      <td>2</td>\n",
       "    </tr>\n",
       "    <tr>\n",
       "      <th>897</th>\n",
       "      <td>3</td>\n",
       "      <td>1</td>\n",
       "      <td>2</td>\n",
       "    </tr>\n",
       "    <tr>\n",
       "      <th>898</th>\n",
       "      <td>3</td>\n",
       "      <td>1</td>\n",
       "      <td>2</td>\n",
       "    </tr>\n",
       "    <tr>\n",
       "      <th>899</th>\n",
       "      <td>3</td>\n",
       "      <td>1</td>\n",
       "      <td>2</td>\n",
       "    </tr>\n",
       "  </tbody>\n",
       "</table>\n",
       "<p>900 rows × 3 columns</p>\n",
       "</div>"
      ],
      "text/plain": [
       "     d  k  Level\n",
       "0    3  2      0\n",
       "1    3  2      0\n",
       "2    3  2      0\n",
       "3    3  2      0\n",
       "4    3  2      0\n",
       "..  .. ..    ...\n",
       "895  3  1      2\n",
       "896  3  1      2\n",
       "897  3  1      2\n",
       "898  3  1      2\n",
       "899  3  1      2\n",
       "\n",
       "[900 rows x 3 columns]"
      ]
     },
     "execution_count": 255,
     "metadata": {},
     "output_type": "execute_result"
    }
   ],
   "source": [
    "df_as_data = pd.DataFrame(all_data_level3, columns=['d', 'k', 'Level'])\n",
    "df_as_data"
   ]
  },
  {
   "cell_type": "code",
   "execution_count": 222,
   "id": "d6908cfa-3620-4852-a714-5cb90369751d",
   "metadata": {},
   "outputs": [],
   "source": [
    "df_as_data[\"Number of moves\"] = pd.Series(as_levels_data[0]+as_levels_data[1]+as_levels_data[2])"
   ]
  },
  {
   "cell_type": "code",
   "execution_count": 223,
   "id": "cc48d0e7-74a0-4547-8bb5-a54bf4b49394",
   "metadata": {},
   "outputs": [
    {
     "data": {
      "text/html": [
       "<div>\n",
       "<style scoped>\n",
       "    .dataframe tbody tr th:only-of-type {\n",
       "        vertical-align: middle;\n",
       "    }\n",
       "\n",
       "    .dataframe tbody tr th {\n",
       "        vertical-align: top;\n",
       "    }\n",
       "\n",
       "    .dataframe thead th {\n",
       "        text-align: right;\n",
       "    }\n",
       "</style>\n",
       "<table border=\"1\" class=\"dataframe\">\n",
       "  <thead>\n",
       "    <tr style=\"text-align: right;\">\n",
       "      <th></th>\n",
       "      <th>d</th>\n",
       "      <th>k</th>\n",
       "      <th>level</th>\n",
       "      <th>Number of moves</th>\n",
       "    </tr>\n",
       "  </thead>\n",
       "  <tbody>\n",
       "    <tr>\n",
       "      <th>0</th>\n",
       "      <td>3</td>\n",
       "      <td>2</td>\n",
       "      <td>0</td>\n",
       "      <td>6</td>\n",
       "    </tr>\n",
       "    <tr>\n",
       "      <th>1</th>\n",
       "      <td>3</td>\n",
       "      <td>2</td>\n",
       "      <td>0</td>\n",
       "      <td>6</td>\n",
       "    </tr>\n",
       "    <tr>\n",
       "      <th>2</th>\n",
       "      <td>3</td>\n",
       "      <td>2</td>\n",
       "      <td>0</td>\n",
       "      <td>6</td>\n",
       "    </tr>\n",
       "    <tr>\n",
       "      <th>3</th>\n",
       "      <td>3</td>\n",
       "      <td>2</td>\n",
       "      <td>0</td>\n",
       "      <td>6</td>\n",
       "    </tr>\n",
       "    <tr>\n",
       "      <th>4</th>\n",
       "      <td>3</td>\n",
       "      <td>2</td>\n",
       "      <td>0</td>\n",
       "      <td>6</td>\n",
       "    </tr>\n",
       "    <tr>\n",
       "      <th>...</th>\n",
       "      <td>...</td>\n",
       "      <td>...</td>\n",
       "      <td>...</td>\n",
       "      <td>...</td>\n",
       "    </tr>\n",
       "    <tr>\n",
       "      <th>445</th>\n",
       "      <td>3</td>\n",
       "      <td>2</td>\n",
       "      <td>2</td>\n",
       "      <td>10</td>\n",
       "    </tr>\n",
       "    <tr>\n",
       "      <th>446</th>\n",
       "      <td>3</td>\n",
       "      <td>2</td>\n",
       "      <td>2</td>\n",
       "      <td>10</td>\n",
       "    </tr>\n",
       "    <tr>\n",
       "      <th>447</th>\n",
       "      <td>3</td>\n",
       "      <td>2</td>\n",
       "      <td>2</td>\n",
       "      <td>9</td>\n",
       "    </tr>\n",
       "    <tr>\n",
       "      <th>448</th>\n",
       "      <td>3</td>\n",
       "      <td>2</td>\n",
       "      <td>2</td>\n",
       "      <td>10</td>\n",
       "    </tr>\n",
       "    <tr>\n",
       "      <th>449</th>\n",
       "      <td>3</td>\n",
       "      <td>2</td>\n",
       "      <td>2</td>\n",
       "      <td>9</td>\n",
       "    </tr>\n",
       "  </tbody>\n",
       "</table>\n",
       "<p>450 rows × 4 columns</p>\n",
       "</div>"
      ],
      "text/plain": [
       "     d  k  level  Number of moves\n",
       "0    3  2      0                6\n",
       "1    3  2      0                6\n",
       "2    3  2      0                6\n",
       "3    3  2      0                6\n",
       "4    3  2      0                6\n",
       "..  .. ..    ...              ...\n",
       "445  3  2      2               10\n",
       "446  3  2      2               10\n",
       "447  3  2      2                9\n",
       "448  3  2      2               10\n",
       "449  3  2      2                9\n",
       "\n",
       "[450 rows x 4 columns]"
      ]
     },
     "execution_count": 223,
     "metadata": {},
     "output_type": "execute_result"
    }
   ],
   "source": [
    "df_as_data"
   ]
  },
  {
   "cell_type": "code",
   "execution_count": 200,
   "id": "7aaf0d05-5f9d-48bd-adf5-884aa7ba13b4",
   "metadata": {},
   "outputs": [],
   "source": [
    "import seaborn as sns "
   ]
  },
  {
   "cell_type": "code",
   "execution_count": 224,
   "id": "9b327735-5ef9-41a5-8039-d0ea5534c970",
   "metadata": {},
   "outputs": [
    {
     "data": {
      "text/plain": [
       "<Axes: xlabel='level', ylabel='Number of moves'>"
      ]
     },
     "execution_count": 224,
     "metadata": {},
     "output_type": "execute_result"
    },
    {
     "data": {
      "image/png": "[encoded data removed]",
      "text/plain": [
       "<Figure size 640x480 with 1 Axes>"
      ]
     },
     "metadata": {},
     "output_type": "display_data"
    }
   ],
   "source": [
    "sns.boxplot(df_as_data, x =\"level\", y=\"Number of moves\")"
   ]
  },
  {
   "cell_type": "code",
   "execution_count": 268,
   "id": "d715843c-b8af-41f4-981f-0a6fd822134c",
   "metadata": {},
   "outputs": [
    {
     "name": "stdout",
     "output_type": "stream",
     "text": [
      "[4, 4, 4, 4, 4, 4, 4, 4, 4, 4, 4, 4, 4, 4, 4, 4, 4, 4, 4, 4, 4, 4, 4, 4, 4, 4, 4, 4, 4, 4, 4, 4, 4, 4, 4, 4, 4, 4, 4, 4, 4, 4, 4, 4, 4, 4, 4, 4, 4, 4, 4, 4, 4, 4, 4, 4, 4, 4, 4, 4, 4, 4, 4, 4, 4, 4, 4, 4, 4, 4, 4, 4, 4, 4, 4, 4, 4, 4, 4, 4, 4, 4, 4, 4, 4, 4, 4, 4, 4, 4, 4, 4, 4, 4, 4, 4, 4, 4, 4, 4, 4, 4, 4, 4, 4, 4, 4, 4, 4, 4, 4, 4, 4, 4, 4, 4, 4, 4, 4, 4, 4, 4, 4, 4, 4, 4, 4, 4, 4, 4, 4, 4, 4, 4, 4, 4, 4, 4, 4, 4, 4, 4, 4, 4, 4, 4, 4, 4, 4, 4]\n",
      "[6, 6, 6, 6, 6, 6, 6, 6, 6, 6, 6, 6, 6, 6, 6, 6, 6, 6, 6, 6, 6, 6, 6, 6, 6, 6, 6, 6, 6, 6, 6, 6, 6, 6, 6, 6, 6, 6, 6, 6, 6, 6, 6, 6, 6, 6, 6, 6, 6, 6, 6, 6, 6, 6, 6, 6, 6, 6, 6, 6, 6, 6, 6, 6, 6, 6, 6, 6, 6, 6, 6, 6, 6, 6, 6, 6, 6, 6, 6, 6, 6, 6, 6, 6, 6, 6, 6, 6, 6, 6, 6, 6, 6, 6, 6, 6, 6, 6, 6, 6, 6, 6, 6, 6, 6, 6, 6, 6, 6, 6, 6, 6, 6, 6, 6, 6, 6, 6, 6, 6, 6, 6, 6, 6, 6, 6, 6, 6, 6, 6, 6, 6, 6, 6, 6, 6, 6, 6, 6, 6, 6, 6, 6, 6, 6, 6, 6, 6, 6, 6]\n",
      "[10, 10, 10, 10, 10, 10, 10, 10, 10, 10, 10, 10, 10, 10, 10, 10, 10, 10, 10, 10, 10, 10, 10, 10, 10, 10, 10, 10, 10, 10, 10, 10, 10, 10, 10, 10, 10, 10, 10, 10, 10, 10, 10, 10, 10, 10, 10, 10, 10, 10, 10, 10, 10, 10, 10, 10, 10, 10, 10, 10, 10, 10, 10, 10, 10, 10, 10, 10, 10, 10, 10, 10, 10, 10, 10, 10, 10, 10, 10, 10, 10, 10, 10, 10, 10, 10, 10, 10, 10, 10, 10, 10, 10, 10, 10, 10, 10, 10, 10, 10, 10, 10, 10, 10, 10, 10, 10, 10, 10, 10, 10, 10, 10, 10, 10, 10, 10, 10, 10, 10, 10, 10, 10, 10, 10, 10, 10, 10, 10, 10, 10, 10, 10, 10, 10, 10, 10, 10, 10, 10, 10, 10, 10, 10, 10, 10, 10, 10, 10, 10]\n",
      "[6, 6, 6, 6, 6, 6, 6, 6, 6, 6, 6, 6, 6, 6, 6, 6, 6, 6, 7, 6, 6, 6, 7, 7, 6, 6, 7, 7, 6, 6, 6, 6, 6, 6, 6, 6, 6, 6, 6, 7, 7, 6, 7, 6, 6, 7, 7, 6, 6, 6, 7, 6, 6, 6, 6, 6, 6, 6, 6, 6, 6, 6, 6, 7, 6, 6, 7, 7, 6, 7, 7, 6, 6, 6, 6, 6, 6, 6, 6, 7, 6, 6, 6, 6, 6, 6, 6, 7, 6, 6, 6, 6, 6, 6, 7, 6, 6, 6, 6, 6, 6, 7, 6, 6, 6, 6, 7, 6, 6, 6, 6, 6, 6, 6, 6, 6, 6, 7, 6, 6, 6, 6, 6, 6, 6, 6, 7, 7, 6, 6, 7, 6, 6, 6, 6, 6, 6, 6, 6, 6, 6, 6, 7, 6, 6, 6, 6, 6, 6, 6]\n",
      "[7, 7, 7, 8, 7, 9, 8, 8, 7, 9, 8, 7, 7, 8, 9, 8, 7, 8, 8, 8, 7, 7, 8, 7, 7, 8, 8, 8, 7, 7, 7, 7, 8, 7, 8, 7, 8, 7, 8, 7, 8, 8, 7, 8, 7, 7, 8, 8, 8, 7, 7, 7, 8, 8, 7, 7, 8, 8, 7, 8, 7, 8, 8, 8, 8, 7, 8, 7, 8, 7, 8, 7, 7, 7, 8, 8, 7, 8, 8, 7, 7, 7, 7, 7, 7, 8, 7, 8, 8, 7, 7, 7, 8, 8, 8, 7, 8, 7, 8, 8, 8, 7, 7, 7, 8, 7, 8, 7, 7, 7, 8, 8, 7, 7, 7, 8, 8, 7, 7, 7, 7, 8, 7, 7, 7, 7, 8, 7, 9, 9, 7, 7, 8, 7, 7, 8, 8, 7, 7, 7, 8, 7, 7, 7, 7, 7, 7, 8, 7, 7]\n",
      "[9, 10, 9, 10, 10, 10, 10, 10, 10, 9, 10, 9, 10, 10, 9, 11, 11, 10, 10, 9, 10, 10, 11, 9, 9, 9, 10, 9, 10, 9, 10, 9, 10, 9, 10, 10, 10, 11, 9, 10, 10, 9, 10, 10, 9, 10, 11, 9, 10, 10, 10, 9, 10, 10, 9, 10, 10, 10, 10, 9, 9, 9, 9, 9, 9, 10, 9, 12, 9, 9, 9, 9, 10, 10, 9, 9, 10, 9, 9, 10, 9, 9, 9, 9, 11, 9, 11, 9, 9, 11, 9, 9, 10, 10, 9, 9, 10, 9, 9, 10, 9, 9, 10, 9, 11, 10, 10, 9, 9, 9, 10, 9, 10, 9, 10, 10, 9, 10, 10, 10, 9, 9, 9, 10, 9, 9, 9, 10, 9, 9, 9, 9, 10, 10, 9, 9, 10, 10, 9, 9, 9, 9, 10, 10, 10, 10, 10, 9, 10, 9]\n"
     ]
    }
   ],
   "source": [
    "d = 3 \n",
    "k = 1 \n",
    "levels = [0,1,2]\n",
    "all_data_level3 = []\n",
    "as_level3_moves = []\n",
    "for k in range(1, d): \n",
    "    \n",
    "    for l in levels: \n",
    "        all_data_level3 += [[d, k, l]]*len(as_data.tolist()[(d,k,l)])\n",
    "        print(as_data.tolist()[(d,k,l)])\n",
    "        as_level3_moves += as_data.tolist()[(d,k,l)]"
   ]
  },
  {
   "cell_type": "code",
   "execution_count": 269,
   "id": "4086a379-489a-4cf4-b3fd-c2495af894ef",
   "metadata": {},
   "outputs": [
    {
     "data": {
      "text/html": [
       "<div>\n",
       "<style scoped>\n",
       "    .dataframe tbody tr th:only-of-type {\n",
       "        vertical-align: middle;\n",
       "    }\n",
       "\n",
       "    .dataframe tbody tr th {\n",
       "        vertical-align: top;\n",
       "    }\n",
       "\n",
       "    .dataframe thead th {\n",
       "        text-align: right;\n",
       "    }\n",
       "</style>\n",
       "<table border=\"1\" class=\"dataframe\">\n",
       "  <thead>\n",
       "    <tr style=\"text-align: right;\">\n",
       "      <th></th>\n",
       "      <th>d</th>\n",
       "      <th>k</th>\n",
       "      <th>Level</th>\n",
       "    </tr>\n",
       "  </thead>\n",
       "  <tbody>\n",
       "    <tr>\n",
       "      <th>0</th>\n",
       "      <td>3</td>\n",
       "      <td>1</td>\n",
       "      <td>0</td>\n",
       "    </tr>\n",
       "    <tr>\n",
       "      <th>1</th>\n",
       "      <td>3</td>\n",
       "      <td>1</td>\n",
       "      <td>0</td>\n",
       "    </tr>\n",
       "    <tr>\n",
       "      <th>2</th>\n",
       "      <td>3</td>\n",
       "      <td>1</td>\n",
       "      <td>0</td>\n",
       "    </tr>\n",
       "    <tr>\n",
       "      <th>3</th>\n",
       "      <td>3</td>\n",
       "      <td>1</td>\n",
       "      <td>0</td>\n",
       "    </tr>\n",
       "    <tr>\n",
       "      <th>4</th>\n",
       "      <td>3</td>\n",
       "      <td>1</td>\n",
       "      <td>0</td>\n",
       "    </tr>\n",
       "    <tr>\n",
       "      <th>...</th>\n",
       "      <td>...</td>\n",
       "      <td>...</td>\n",
       "      <td>...</td>\n",
       "    </tr>\n",
       "    <tr>\n",
       "      <th>895</th>\n",
       "      <td>3</td>\n",
       "      <td>2</td>\n",
       "      <td>2</td>\n",
       "    </tr>\n",
       "    <tr>\n",
       "      <th>896</th>\n",
       "      <td>3</td>\n",
       "      <td>2</td>\n",
       "      <td>2</td>\n",
       "    </tr>\n",
       "    <tr>\n",
       "      <th>897</th>\n",
       "      <td>3</td>\n",
       "      <td>2</td>\n",
       "      <td>2</td>\n",
       "    </tr>\n",
       "    <tr>\n",
       "      <th>898</th>\n",
       "      <td>3</td>\n",
       "      <td>2</td>\n",
       "      <td>2</td>\n",
       "    </tr>\n",
       "    <tr>\n",
       "      <th>899</th>\n",
       "      <td>3</td>\n",
       "      <td>2</td>\n",
       "      <td>2</td>\n",
       "    </tr>\n",
       "  </tbody>\n",
       "</table>\n",
       "<p>900 rows × 3 columns</p>\n",
       "</div>"
      ],
      "text/plain": [
       "     d  k  Level\n",
       "0    3  1      0\n",
       "1    3  1      0\n",
       "2    3  1      0\n",
       "3    3  1      0\n",
       "4    3  1      0\n",
       "..  .. ..    ...\n",
       "895  3  2      2\n",
       "896  3  2      2\n",
       "897  3  2      2\n",
       "898  3  2      2\n",
       "899  3  2      2\n",
       "\n",
       "[900 rows x 3 columns]"
      ]
     },
     "execution_count": 269,
     "metadata": {},
     "output_type": "execute_result"
    }
   ],
   "source": [
    "df_as_data = pd.DataFrame(all_data_level3, columns=['d', 'k', 'Level'])\n",
    "df_as_data"
   ]
  },
  {
   "cell_type": "code",
   "execution_count": 270,
   "id": "4860da7b-b941-45f3-9358-6afac6d843ec",
   "metadata": {},
   "outputs": [],
   "source": [
    "df_as_data[\"Number of moves\"] = pd.Series(as_level3_moves)"
   ]
  },
  {
   "cell_type": "code",
   "execution_count": 271,
   "id": "98aab7f8-cbb4-4de2-8c87-ab051bcb374f",
   "metadata": {},
   "outputs": [
    {
     "data": {
      "text/html": [
       "<div>\n",
       "<style scoped>\n",
       "    .dataframe tbody tr th:only-of-type {\n",
       "        vertical-align: middle;\n",
       "    }\n",
       "\n",
       "    .dataframe tbody tr th {\n",
       "        vertical-align: top;\n",
       "    }\n",
       "\n",
       "    .dataframe thead th {\n",
       "        text-align: right;\n",
       "    }\n",
       "</style>\n",
       "<table border=\"1\" class=\"dataframe\">\n",
       "  <thead>\n",
       "    <tr style=\"text-align: right;\">\n",
       "      <th></th>\n",
       "      <th>d</th>\n",
       "      <th>k</th>\n",
       "      <th>Level</th>\n",
       "      <th>Number of moves</th>\n",
       "    </tr>\n",
       "  </thead>\n",
       "  <tbody>\n",
       "    <tr>\n",
       "      <th>0</th>\n",
       "      <td>3</td>\n",
       "      <td>1</td>\n",
       "      <td>0</td>\n",
       "      <td>4</td>\n",
       "    </tr>\n",
       "    <tr>\n",
       "      <th>1</th>\n",
       "      <td>3</td>\n",
       "      <td>1</td>\n",
       "      <td>0</td>\n",
       "      <td>4</td>\n",
       "    </tr>\n",
       "    <tr>\n",
       "      <th>2</th>\n",
       "      <td>3</td>\n",
       "      <td>1</td>\n",
       "      <td>0</td>\n",
       "      <td>4</td>\n",
       "    </tr>\n",
       "    <tr>\n",
       "      <th>3</th>\n",
       "      <td>3</td>\n",
       "      <td>1</td>\n",
       "      <td>0</td>\n",
       "      <td>4</td>\n",
       "    </tr>\n",
       "    <tr>\n",
       "      <th>4</th>\n",
       "      <td>3</td>\n",
       "      <td>1</td>\n",
       "      <td>0</td>\n",
       "      <td>4</td>\n",
       "    </tr>\n",
       "    <tr>\n",
       "      <th>...</th>\n",
       "      <td>...</td>\n",
       "      <td>...</td>\n",
       "      <td>...</td>\n",
       "      <td>...</td>\n",
       "    </tr>\n",
       "    <tr>\n",
       "      <th>895</th>\n",
       "      <td>3</td>\n",
       "      <td>2</td>\n",
       "      <td>2</td>\n",
       "      <td>10</td>\n",
       "    </tr>\n",
       "    <tr>\n",
       "      <th>896</th>\n",
       "      <td>3</td>\n",
       "      <td>2</td>\n",
       "      <td>2</td>\n",
       "      <td>10</td>\n",
       "    </tr>\n",
       "    <tr>\n",
       "      <th>897</th>\n",
       "      <td>3</td>\n",
       "      <td>2</td>\n",
       "      <td>2</td>\n",
       "      <td>9</td>\n",
       "    </tr>\n",
       "    <tr>\n",
       "      <th>898</th>\n",
       "      <td>3</td>\n",
       "      <td>2</td>\n",
       "      <td>2</td>\n",
       "      <td>10</td>\n",
       "    </tr>\n",
       "    <tr>\n",
       "      <th>899</th>\n",
       "      <td>3</td>\n",
       "      <td>2</td>\n",
       "      <td>2</td>\n",
       "      <td>9</td>\n",
       "    </tr>\n",
       "  </tbody>\n",
       "</table>\n",
       "<p>900 rows × 4 columns</p>\n",
       "</div>"
      ],
      "text/plain": [
       "     d  k  Level  Number of moves\n",
       "0    3  1      0                4\n",
       "1    3  1      0                4\n",
       "2    3  1      0                4\n",
       "3    3  1      0                4\n",
       "4    3  1      0                4\n",
       "..  .. ..    ...              ...\n",
       "895  3  2      2               10\n",
       "896  3  2      2               10\n",
       "897  3  2      2                9\n",
       "898  3  2      2               10\n",
       "899  3  2      2                9\n",
       "\n",
       "[900 rows x 4 columns]"
      ]
     },
     "execution_count": 271,
     "metadata": {},
     "output_type": "execute_result"
    }
   ],
   "source": [
    "df_as_data"
   ]
  },
  {
   "cell_type": "code",
   "execution_count": 273,
   "id": "be13664d-2356-462b-80e6-d3eb60f02ef2",
   "metadata": {},
   "outputs": [
    {
     "data": {
      "text/plain": [
       "<Axes: xlabel='Level', ylabel='Number of moves'>"
      ]
     },
     "execution_count": 273,
     "metadata": {},
     "output_type": "execute_result"
    },
    {
     "data": {
      "image/png": "[encoded data removed]",
      "text/plain": [
       "<Figure size 640x480 with 1 Axes>"
      ]
     },
     "metadata": {},
     "output_type": "display_data"
    }
   ],
   "source": [
    "sns.boxplot(df_as_data, x =\"Level\", y=\"Number of moves\", hue=\"k\")"
   ]
  },
  {
   "cell_type": "code",
   "execution_count": 274,
   "id": "4afffda0-b918-49aa-b79c-b255e27e204e",
   "metadata": {},
   "outputs": [
    {
     "name": "stdout",
     "output_type": "stream",
     "text": [
      "[4, 4, 4, 4, 4, 4, 4, 4, 4, 4, 4, 4, 4, 4, 4, 4, 4, 4, 4, 4, 4, 4, 4, 4, 4, 4, 4, 4, 4, 4, 4, 4, 4, 4, 4, 4, 4, 4, 4, 4, 4, 4, 4, 4, 4, 4, 4, 4, 4, 4, 4, 4, 4, 4, 4, 4, 4, 4, 4, 4, 4, 4, 4, 4, 4, 4, 4, 4, 4, 4, 4, 4, 4, 4, 4, 4, 4, 4, 4, 4, 4, 4, 4, 4, 4, 4, 4, 4, 4, 4, 4, 4, 4, 4, 4, 4, 4, 4, 4, 4, 4, 4, 4, 4, 4, 4, 4, 4, 4, 4, 4, 4, 4, 4, 4, 4, 4, 4, 4, 4, 4, 4, 4, 4, 4, 4, 4, 4, 4, 4, 4, 4, 4, 4, 4, 4, 4, 4, 4, 4, 4, 4, 4, 4, 4, 4, 4, 4, 4, 4]\n",
      "[10, 8, 8, 12, 8, 8, 8, 10, 10, 10, 10, 10, 10, 10, 8, 10, 8, 10, 8, 8, 10, 12, 10, 10, 8, 10, 10, 8, 8, 8, 10, 10, 8, 8, 10, 10, 10, 8, 8, 8, 10, 10, 10, 10, 10, 10, 12, 8, 8, 10, 10, 8, 8, 8, 10, 8, 10, 10, 8, 10, 8, 10, 8, 10, 10, 8, 8, 10, 10, 8, 8, 8, 10, 10, 8, 12, 8, 8, 10, 12, 10, 10, 10, 8, 10, 8, 8, 12, 10, 8, 8, 10, 10, 8, 12, 8, 10, 10, 12, 10, 8, 10, 10, 8, 8, 10, 10, 10, 10, 8, 10, 8, 8, 10, 10, 8, 10, 8, 8, 10, 10, 10, 10, 8, 8, 10, 12, 10, 8, 8, 10, 8, 8, 10, 10, 8, 10, 10, 10, 10, 8, 8, 10, 8, 10, 10, 10, 10, 8, 10]\n",
      "[6, 6, 6, 6, 6, 6, 6, 6, 6, 6, 6, 6, 6, 6, 6, 6, 6, 6, 6, 6, 6, 6, 6, 6, 6, 6, 6, 6, 6, 6, 6, 6, 6, 6, 6, 6, 6, 6, 6, 6, 6, 6, 6, 6, 6, 6, 6, 6, 6, 6, 6, 6, 6, 6, 6, 6, 6, 6, 6, 6, 6, 6, 6, 6, 6, 6, 6, 6, 6, 6, 6, 6, 6, 6, 6, 6, 6, 6, 6, 6, 6, 6, 6, 6, 6, 6, 6, 6, 6, 6, 6, 6, 6, 6, 6, 6, 6, 6, 6, 6, 6, 6, 6, 6, 6, 6, 6, 6, 6, 6, 6, 6, 6, 6, 6, 6, 6, 6, 6, 6, 6, 6, 6, 6, 6, 6, 6, 6, 6, 6, 6, 6, 6, 6, 6, 6, 6, 6, 6, 6, 6, 6, 6, 6, 6, 6, 6, 6, 6, 6]\n",
      "[12, 8, 8, 8, 8, 8, 8, 10, 8, 8, 10, 8, 8, 8, 8, 10, 8, 8, 8, 8, 10, 8, 12, 10, 10, 10, 8, 8, 8, 10, 12, 8, 10, 8, 8, 10, 8, 8, 8, 8, 8, 8, 10, 10, 10, 8, 8, 8, 10, 8, 8, 8, 8, 8, 8, 10, 8, 8, 8, 8, 8, 10, 10, 8, 8, 8, 8, 8, 8, 10, 8, 8, 8, 8, 10, 8, 8, 8, 8, 8, 10, 10, 10, 10, 8, 8, 10, 10, 8, 10, 10, 8, 8, 10, 10, 8, 8, 8, 8, 8, 8, 8, 8, 8, 8, 8, 8, 12, 8, 8, 8, 8, 10, 8, 8, 8, 8, 8, 8, 8, 12, 8, 8, 10, 8, 8, 8, 8, 8, 8, 8, 8, 8, 10, 8, 8, 8, 10, 10, 10, 8, 10, 8, 8, 10, 10, 8, 8, 10, 8]\n",
      "[6, 6, 6, 6, 6, 6, 6, 6, 6, 6, 6, 6, 6, 6, 6, 6, 6, 6, 6, 6, 6, 6, 6, 6, 6, 6, 6, 6, 6, 6, 7, 6, 6, 6, 6, 6, 6, 6, 6, 6, 6, 6, 6, 6, 6, 6, 6, 6, 6, 6, 6, 6, 6, 6, 6, 6, 6, 6, 6, 6, 7, 6, 6, 6, 6, 7, 6, 6, 6, 6, 6, 6, 6, 6, 6, 6, 6, 6, 6, 6, 6, 6, 6, 7, 6, 6, 6, 6, 6, 6, 6, 6, 6, 6, 6, 6, 7, 6, 6, 6, 7, 6, 6, 6, 6, 6, 6, 6, 6, 6, 6, 6, 6, 6, 6, 6, 6, 6, 6, 6, 6, 6, 6, 6, 6, 6, 6, 6, 6, 6, 6, 6, 6, 6, 6, 6, 6, 6, 6, 6, 6, 6, 6, 6, 6, 6, 6, 6, 6, 6]\n",
      "[10, 12, 10, 15, 12, 16, 9, 11, 9, 15, 10, 7, 8, 8, 11, 12, 7, 7, 8, 8, 10, 11, 12, 15, 11, 12, 14, 15, 12, 10, 9, 12, 15, 8, 11, 13, 14, 9, 9, 10, 9, 9, 14, 10, 12, 13, 10, 15, 10, 12, 12, 8, 12, 11, 9, 8, 9, 13, 12, 11, 13, 10, 10, 9, 11, 10, 11, 11, 9, 10, 15, 10, 12, 9, 10, 13, 11, 11, 10, 11, 11, 14, 9, 14, 9, 11, 7, 12, 9, 9, 14, 11, 9, 10, 12, 10, 10, 7, 10, 11, 11, 11, 11, 11, 8, 10, 7, 9, 10, 10, 10, 11, 11, 7, 13, 11, 11, 16, 12, 13, 12, 14, 10, 13, 13, 10, 13, 7, 8, 15, 11, 7, 11, 13, 15, 11, 11, 8, 10, 10, 13, 12, 13, 14, 12, 8, 13, 11, 9, 10]\n",
      "[6, 6, 6, 6, 6, 6, 6, 6, 6, 6, 6, 6, 6, 6, 6, 6, 6, 6, 6, 6, 6, 6, 6, 6, 6, 6, 6, 6, 6, 6, 6, 6, 6, 6, 6, 6, 6, 6, 6, 6, 6, 6, 6, 6, 6, 6, 6, 6, 6, 6, 6, 6, 6, 6, 6, 6, 6, 6, 6, 6, 6, 6, 6, 6, 6, 6, 6, 6, 6, 6, 6, 6, 6, 6, 6, 6, 6, 6, 6, 6, 6, 6, 6, 6, 6, 6, 6, 6, 6, 6, 6, 6, 6, 6, 6, 6, 6, 6, 6, 6, 6, 6, 6, 6, 6, 6, 6, 6, 6, 6, 6, 6, 6, 6, 6, 6, 6, 6, 6, 6, 6, 6, 6, 6, 6, 6, 6, 6, 6, 6, 6, 6, 6, 6, 6, 6, 6, 6, 6, 6, 6, 6, 6, 6, 6, 6, 6, 6, 6, 6]\n",
      "[13, 14, 9, 11, 10, 11, 12, 9, 9, 10, 9, 14, 8, 8, 7, 10, 10, 10, 10, 11, 11, 9, 12, 8, 13, 8, 8, 13, 12, 10, 9, 9, 10, 9, 8, 11, 10, 11, 8, 9, 8, 9, 9, 8, 10, 17, 13, 11, 9, 14, 8, 12, 10, 9, 12, 8, 11, 10, 11, 7, 11, 13, 11, 10, 10, 11, 13, 13, 17, 7, 7, 12, 9, 8, 11, 9, 13, 12, 9, 8, 7, 9, 10, 8, 9, 9, 10, 8, 12, 10, 17, 9, 7, 11, 16, 13, 13, 10, 9, 11, 16, 10, 9, 8, 9, 9, 13, 9, 9, 8, 9, 9, 10, 12, 8, 12, 8, 10, 10, 11, 10, 7, 9, 9, 8, 8, 16, 20, 10, 9, 10, 14, 8, 7, 8, 14, 10, 7, 8, 8, 9, 10, 14, 10, 8, 9, 10, 10, 10, 9]\n",
      "[13, 13, 8, 12, 12, 15, 17, 14, 16, 13, 14, 15, 9, 16, 9, 12, 12, 12, 15, 17, 18, 14, 21, 10, 17, 11, 19, 12, 17, 12, 14, 15, 12, 10, 18, 13, 8, 11, 9, 15, 10, 10, 16, 21, 14, 10, 12, 13, 11, 16, 9, 15, 17, 18, 9, 16, 19, 9, 18, 15, 11, 12, 19, 8, 17, 23, 12, 17, 9, 15, 16, 14, 20, 15, 11, 8, 10, 14, 12, 15, 13, 12, 17, 11, 14, 8, 9, 15, 14, 10, 15, 11, 19, 11, 13, 12, 13, 13, 18, 16, 17, 12, 14, 12, 13, 21, 14, 15, 18, 14, 13, 18, 21, 12, 13, 20, 10, 10, 19, 14, 13, 9, 13, 10, 15, 18, 19, 11, 16, 15, 12, 20, 13, 17, 14, 18, 14, 20, 19, 12, 17, 11, 14, 11, 13, 15, 16, 12, 14, 18]\n",
      "[18, 12, 31, 34, 42, 24, 12, 29, 41, 25, 15, 40, 12, 23, 22, 43, 29, 25, 24, 20, 27, 28, 45, 43, 13, 16, 23, 26, 26, 22, 18, 18, 20, 28, 13, 28, 22, 33, 14, 34, 12, 37, 30, 15, 36, 16, 27, 43, 17, 29, 36, 15, 26, 26, 20, 32, 23, 11, 23, 41, 42, 45, 26, 26, 23, 23, 22, 18, 15, 26, 39, 19, 14, 25, 11, 29, 30, 22, 16, 27, 23, 28, 42, 31, 11, 12, 30, 36, 28, 12, 17, 13, 16, 19, 30, 21, 24, 25, 26, 34, 18, 19, 20, 12, 17, 19, 42, 30, 52, 33, 29, 17, 10, 11, 31, 22, 20, 9, 28, 18, 27, 14, 19, 11, 21, 34, 18, 18, 12, 29, 31, 26, 44, 38, 26, 32, 30, 28, 21, 13, 32, 35, 14, 23, 59, 23, 25, 22, 10, 23]\n",
      "[17, 24, 19, 18, 31, 33, 18, 37, 16, 26, 41, 42, 28, 11, 35, 29, 33, 26, 44, 47, 25, 49, 27, 44, 20, 32, 38, 38, 16, 28, 33, 34, 26, 26, 35, 13, 18, 25, 31, 15, 37, 30, 24, 15, 11, 39, 28, 36, 16, 45, 33, 24, 26, 36, 27, 23, 32, 38, 31, 44, 31, 19, 33, 26, 27, 15, 16, 22, 19, 21, 40, 55, 23, 14, 31, 28, 35, 26, 16, 40, 38, 14, 20, 40, 25, 33, 36, 28, 28, 20, 35, 19, 31, 41, 25, 36, 26, 26, 32, 26, 32, 45, 38, 18, 32, 27, 26, 15, 25, 28, 36, 31, 31, 25, 41, 30, 37, 13, 38, 66, 51, 25, 35, 45, 33, 37, 29, 47, 18, 17, 32, 20, 39, 26, 22, 24, 36, 25, 30, 18, 17, 27, 17, 18, 23, 33, 29, 32, 42, 38]\n",
      "[47, 52, 30, 48, 20, 74, 41, 20, 104, 60, 41, 60, 72, 23, 60, 35, 59, 53, 37, 38, 58, 53, 60, 52, 35, 64, 73, 60, 47, 33, 71, 98, 50, 105, 72, 77, 66, 25, 18, 33, 29, 28, 46, 23, 44, 23, 47, 78, 22, 62, 55, 66, 48, 34, 60, 58, 66, 49, 31, 31, 29, 51, 89, 45, 41, 72, 87, 55, 74, 55, 95, 52, 20, 41, 46, 54, 37, 65, 62, 39, 64, 54, 32, 95, 90, 36, 40, 81, 33, 23, 69, 38, 49, 35, 29, 48, 63, 41, 53, 45, 48, 46, 49, 26, 56, 91, 46, 17, 65, 59, 19, 38, 31, 73, 30, 43, 67, 35, 57, 62, 43, 36, 82, 52, 50, 76, 42, 55, 62, 65, 42, 64, 83, 91, 48, 34, 40, 23, 35, 74, 65, 57, 92, 31, 29, 49, 41, 53, 39, 49]\n"
     ]
    }
   ],
   "source": [
    "d = 4\n",
    "as_level4_moves = []\n",
    "all_data_level4 = []\n",
    "for k in range(1,d): \n",
    "    levels = [0,1,2, 3]\n",
    "    for l in levels: \n",
    "        as_level4_moves += as_data.tolist()[(d,k,l)]\n",
    "        all_data_level4 += [[d, k, l]]*len(as_data.tolist()[(d,k,l)])\n",
    "        print(as_data.tolist()[(d,k,l)])"
   ]
  },
  {
   "cell_type": "code",
   "execution_count": 275,
   "id": "1549fe18-8730-4c39-8c1b-0ebc1888024b",
   "metadata": {},
   "outputs": [],
   "source": [
    "df_as_data4 = pd.DataFrame(all_data_level4, columns=['d', 'k', 'Level'])\n",
    "df_as_data4[\"Number of moves\"] = pd.Series(as_level4_moves)"
   ]
  },
  {
   "cell_type": "code",
   "execution_count": 276,
   "id": "04dfc12f-14a2-4840-85db-03838015a723",
   "metadata": {},
   "outputs": [
    {
     "data": {
      "text/html": [
       "<div>\n",
       "<style scoped>\n",
       "    .dataframe tbody tr th:only-of-type {\n",
       "        vertical-align: middle;\n",
       "    }\n",
       "\n",
       "    .dataframe tbody tr th {\n",
       "        vertical-align: top;\n",
       "    }\n",
       "\n",
       "    .dataframe thead th {\n",
       "        text-align: right;\n",
       "    }\n",
       "</style>\n",
       "<table border=\"1\" class=\"dataframe\">\n",
       "  <thead>\n",
       "    <tr style=\"text-align: right;\">\n",
       "      <th></th>\n",
       "      <th>d</th>\n",
       "      <th>k</th>\n",
       "      <th>Level</th>\n",
       "      <th>Number of moves</th>\n",
       "    </tr>\n",
       "  </thead>\n",
       "  <tbody>\n",
       "    <tr>\n",
       "      <th>0</th>\n",
       "      <td>4</td>\n",
       "      <td>1</td>\n",
       "      <td>0</td>\n",
       "      <td>4</td>\n",
       "    </tr>\n",
       "    <tr>\n",
       "      <th>1</th>\n",
       "      <td>4</td>\n",
       "      <td>1</td>\n",
       "      <td>0</td>\n",
       "      <td>4</td>\n",
       "    </tr>\n",
       "    <tr>\n",
       "      <th>2</th>\n",
       "      <td>4</td>\n",
       "      <td>1</td>\n",
       "      <td>0</td>\n",
       "      <td>4</td>\n",
       "    </tr>\n",
       "    <tr>\n",
       "      <th>3</th>\n",
       "      <td>4</td>\n",
       "      <td>1</td>\n",
       "      <td>0</td>\n",
       "      <td>4</td>\n",
       "    </tr>\n",
       "    <tr>\n",
       "      <th>4</th>\n",
       "      <td>4</td>\n",
       "      <td>1</td>\n",
       "      <td>0</td>\n",
       "      <td>4</td>\n",
       "    </tr>\n",
       "    <tr>\n",
       "      <th>...</th>\n",
       "      <td>...</td>\n",
       "      <td>...</td>\n",
       "      <td>...</td>\n",
       "      <td>...</td>\n",
       "    </tr>\n",
       "    <tr>\n",
       "      <th>1795</th>\n",
       "      <td>4</td>\n",
       "      <td>3</td>\n",
       "      <td>3</td>\n",
       "      <td>49</td>\n",
       "    </tr>\n",
       "    <tr>\n",
       "      <th>1796</th>\n",
       "      <td>4</td>\n",
       "      <td>3</td>\n",
       "      <td>3</td>\n",
       "      <td>41</td>\n",
       "    </tr>\n",
       "    <tr>\n",
       "      <th>1797</th>\n",
       "      <td>4</td>\n",
       "      <td>3</td>\n",
       "      <td>3</td>\n",
       "      <td>53</td>\n",
       "    </tr>\n",
       "    <tr>\n",
       "      <th>1798</th>\n",
       "      <td>4</td>\n",
       "      <td>3</td>\n",
       "      <td>3</td>\n",
       "      <td>39</td>\n",
       "    </tr>\n",
       "    <tr>\n",
       "      <th>1799</th>\n",
       "      <td>4</td>\n",
       "      <td>3</td>\n",
       "      <td>3</td>\n",
       "      <td>49</td>\n",
       "    </tr>\n",
       "  </tbody>\n",
       "</table>\n",
       "<p>1800 rows × 4 columns</p>\n",
       "</div>"
      ],
      "text/plain": [
       "      d  k  Level  Number of moves\n",
       "0     4  1      0                4\n",
       "1     4  1      0                4\n",
       "2     4  1      0                4\n",
       "3     4  1      0                4\n",
       "4     4  1      0                4\n",
       "...  .. ..    ...              ...\n",
       "1795  4  3      3               49\n",
       "1796  4  3      3               41\n",
       "1797  4  3      3               53\n",
       "1798  4  3      3               39\n",
       "1799  4  3      3               49\n",
       "\n",
       "[1800 rows x 4 columns]"
      ]
     },
     "execution_count": 276,
     "metadata": {},
     "output_type": "execute_result"
    }
   ],
   "source": [
    "df_as_data4"
   ]
  },
  {
   "cell_type": "code",
   "execution_count": 278,
   "id": "58c1be86-e85f-45ea-bb22-77e92223110b",
   "metadata": {},
   "outputs": [
    {
     "data": {
      "text/plain": [
       "<Axes: xlabel='Level', ylabel='Number of moves'>"
      ]
     },
     "execution_count": 278,
     "metadata": {},
     "output_type": "execute_result"
    },
    {
     "data": {
      "image/png": "[encoded data removed]",
      "text/plain": [
       "<Figure size 640x480 with 1 Axes>"
      ]
     },
     "metadata": {},
     "output_type": "display_data"
    }
   ],
   "source": [
    "sns.boxplot(df_as_data4, x =\"Level\", y=\"Number of moves\", hue=\"k\")"
   ]
  },
  {
   "cell_type": "code",
   "execution_count": 282,
   "id": "eba1905e-de57-4aa0-9583-a50825826024",
   "metadata": {},
   "outputs": [
    {
     "data": {
      "image/png": "[encoded data removed]",
      "text/plain": [
       "<Figure size 800x300 with 2 Axes>"
      ]
     },
     "metadata": {},
     "output_type": "display_data"
    }
   ],
   "source": [
    "figure = plt.figure(constrained_layout=True, figsize=(8,3))\n",
    "gs = figure.add_gridspec(nrows=1, ncols=2, left=0.05, right=0.48, wspace=0.05)\n",
    "ax = figure.add_subplot(gs[0,0])\n",
    "\n",
    "ax.spines[\"right\"].set_visible(False)\n",
    "ax.spines[\"top\"].set_visible(False)\n",
    "ax.set_xlabel(r\"Number of moves\", weight='bold', fontsize=13)\n",
    "ax.set_ylabel(r\"Level\", weight=\"bold\", fontsize=13)\n",
    "plt.title(\"(a): $d=3$\", fontsize=17,weight=\"bold\")\n",
    "sns.boxplot(df_as_data, x =\"Level\", y=\"Number of moves\", hue=\"k\")\n",
    "#sns.stripplot(df_as_data, x=\"level\", y=\"Number of moves\", size=1, color=\".3\")\n",
    "ax = figure.add_subplot(gs[0,1])\n",
    "\n",
    "ax.spines[\"right\"].set_visible(False)\n",
    "ax.spines[\"top\"].set_visible(False)\n",
    "ax.set_xlabel(r\"Number of moves\", weight='bold', fontsize=13)\n",
    "ax.set_ylabel(r\"Level\", weight=\"bold\", fontsize=13)\n",
    "plt.title(\"(b): $d=4$\", fontsize=17,weight=\"bold\")\n",
    "sns.boxplot(df_as_data4, x =\"Level\", y=\"Number of moves\", hue=\"k\")\n",
    "plt.savefig(\"../images/RL_analysis.pdf\")"
   ]
  },
  {
   "cell_type": "markdown",
   "id": "065b2060-da96-4eeb-aed5-1b45d26da81f",
   "metadata": {},
   "source": [
    "## CPU Time analysis"
   ]
  },
  {
   "cell_type": "code",
   "execution_count": null,
   "id": "904b6d82-6006-4647-9729-802059de8d49",
   "metadata": {},
   "outputs": [],
   "source": []
  }
 ],
 "metadata": {
  "kernelspec": {
   "display_name": "transRNA",
   "language": "python",
   "name": "transformer"
  },
  "language_info": {
   "codemirror_mode": {
    "name": "ipython",
    "version": 3
   },
   "file_extension": ".py",
   "mimetype": "text/x-python",
   "name": "python",
   "nbconvert_exporter": "python",
   "pygments_lexer": "ipython3",
   "version": "3.10.10"
  }
 },
 "nbformat": 4,
 "nbformat_minor": 5
}
