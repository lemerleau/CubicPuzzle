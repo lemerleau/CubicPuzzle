{
 "cells": [
  {
   "cell_type": "code",
   "execution_count": 164,
   "id": "e91f59de-fa6a-4ea5-815f-6e3fa1e873c6",
   "metadata": {},
   "outputs": [],
   "source": [
    "import json \n",
    "import matplotlib.pyplot as plt \n",
    "import pandas as pd \n",
    "import seaborn as sns \n",
    "import numpy as np\n",
    "import matplotlib"
   ]
  },
  {
   "cell_type": "code",
   "execution_count": 101,
   "id": "ee35c69d-a056-44bf-8ebc-4514ba6cf169",
   "metadata": {},
   "outputs": [],
   "source": [
    "def nthHarmonic(N,s) :\n",
    "\n",
    "    harmonic = 1.00\n",
    "    for i in range(2, N + 1) :\n",
    "        harmonic += 1 / i**s\n",
    "\n",
    "    return harmonic\n",
    "\n",
    "def zipf_rvgen(low, high, N, size, a=6.) :\n",
    "    choices = np.array(range(low, high+1))\n",
    "    probs = choices**(-a) / nthHarmonic(N,a)\n",
    "    return np.random.choice(choices,p=np.array(probs)/sum(probs),size=size)\n",
    "\n",
    "def bino_gen(mu, length, size) :\n",
    "    rst = [list(np.random.binomial(1, mu, length)).count(1) for i in range(size)]\n",
    "    return rst"
   ]
  },
  {
   "cell_type": "code",
   "execution_count": null,
   "id": "91e5ca3b-0311-4d9a-b1e4-f31b422edf7c",
   "metadata": {},
   "outputs": [],
   "source": []
  },
  {
   "cell_type": "code",
   "execution_count": 102,
   "id": "0cd33d97-5965-4d58-b263-43998c66d6b5",
   "metadata": {},
   "outputs": [],
   "source": [
    "## import data \n",
    "dim = 3\n",
    "level = 0\n",
    "\n",
    "with open(\"../data/dim/\"+str(dim)+\"/level\"+str(level)+\"_levy_generation.json\", \"r\") as jsonfile :\n",
    "        generations = json.load(jsonfile)\n",
    "        jsonfile.close()\n",
    "\n",
    "with open(\"../data/dim/\"+str(dim)+\"/level\"+str(level)+\"_levy_data.json\", \"r\")as jsonfile :\n",
    "        data_all = json.load(jsonfile)\n",
    "        jsonfile.close()\n",
    "\n",
    "with open(\"../data/dim/\"+str(dim)+\"/level\"+str(level)+\"_levy_fitness.json\", \"r\")as jsonfile :\n",
    "    fitnesses = json.load(jsonfile)\n",
    "    jsonfile.close()\n",
    "mut_params = sorted(np.array(list(data_all.keys()), dtype=float))"
   ]
  },
  {
   "cell_type": "code",
   "execution_count": 103,
   "id": "2ec83d3e-9c04-431e-b6da-edaec33bb31f",
   "metadata": {},
   "outputs": [
    {
     "data": {
      "text/html": [
       "<div>\n",
       "<style scoped>\n",
       "    .dataframe tbody tr th:only-of-type {\n",
       "        vertical-align: middle;\n",
       "    }\n",
       "\n",
       "    .dataframe tbody tr th {\n",
       "        vertical-align: top;\n",
       "    }\n",
       "\n",
       "    .dataframe thead th {\n",
       "        text-align: right;\n",
       "    }\n",
       "</style>\n",
       "<table border=\"1\" class=\"dataframe\">\n",
       "  <thead>\n",
       "    <tr style=\"text-align: right;\">\n",
       "      <th></th>\n",
       "      <th>2.6</th>\n",
       "      <th>0.8</th>\n",
       "      <th>0.2</th>\n",
       "      <th>6.4</th>\n",
       "      <th>4.0</th>\n",
       "      <th>5.0</th>\n",
       "      <th>1.2</th>\n",
       "      <th>1.8</th>\n",
       "      <th>3.6</th>\n",
       "      <th>1.6</th>\n",
       "      <th>...</th>\n",
       "      <th>1.4</th>\n",
       "      <th>5.6</th>\n",
       "      <th>5.2</th>\n",
       "      <th>5.8</th>\n",
       "      <th>3.4</th>\n",
       "      <th>1.0</th>\n",
       "      <th>2.4</th>\n",
       "      <th>4.8</th>\n",
       "      <th>4.2</th>\n",
       "      <th>6.6</th>\n",
       "    </tr>\n",
       "  </thead>\n",
       "  <tbody>\n",
       "    <tr>\n",
       "      <th>0</th>\n",
       "      <td>14</td>\n",
       "      <td>11</td>\n",
       "      <td>8</td>\n",
       "      <td>42</td>\n",
       "      <td>29</td>\n",
       "      <td>15</td>\n",
       "      <td>15</td>\n",
       "      <td>212</td>\n",
       "      <td>277</td>\n",
       "      <td>49</td>\n",
       "      <td>...</td>\n",
       "      <td>18</td>\n",
       "      <td>25</td>\n",
       "      <td>1000</td>\n",
       "      <td>26</td>\n",
       "      <td>24</td>\n",
       "      <td>15</td>\n",
       "      <td>375</td>\n",
       "      <td>18</td>\n",
       "      <td>12</td>\n",
       "      <td>28</td>\n",
       "    </tr>\n",
       "    <tr>\n",
       "      <th>1</th>\n",
       "      <td>9</td>\n",
       "      <td>14</td>\n",
       "      <td>7</td>\n",
       "      <td>359</td>\n",
       "      <td>81</td>\n",
       "      <td>1000</td>\n",
       "      <td>162</td>\n",
       "      <td>282</td>\n",
       "      <td>427</td>\n",
       "      <td>16</td>\n",
       "      <td>...</td>\n",
       "      <td>16</td>\n",
       "      <td>99</td>\n",
       "      <td>25</td>\n",
       "      <td>29</td>\n",
       "      <td>14</td>\n",
       "      <td>29</td>\n",
       "      <td>48</td>\n",
       "      <td>36</td>\n",
       "      <td>376</td>\n",
       "      <td>307</td>\n",
       "    </tr>\n",
       "    <tr>\n",
       "      <th>2</th>\n",
       "      <td>360</td>\n",
       "      <td>9</td>\n",
       "      <td>16</td>\n",
       "      <td>1000</td>\n",
       "      <td>54</td>\n",
       "      <td>98</td>\n",
       "      <td>71</td>\n",
       "      <td>9</td>\n",
       "      <td>18</td>\n",
       "      <td>94</td>\n",
       "      <td>...</td>\n",
       "      <td>11</td>\n",
       "      <td>1000</td>\n",
       "      <td>41</td>\n",
       "      <td>17</td>\n",
       "      <td>15</td>\n",
       "      <td>12</td>\n",
       "      <td>12</td>\n",
       "      <td>16</td>\n",
       "      <td>135</td>\n",
       "      <td>47</td>\n",
       "    </tr>\n",
       "    <tr>\n",
       "      <th>3</th>\n",
       "      <td>644</td>\n",
       "      <td>19</td>\n",
       "      <td>10</td>\n",
       "      <td>1000</td>\n",
       "      <td>23</td>\n",
       "      <td>26</td>\n",
       "      <td>23</td>\n",
       "      <td>67</td>\n",
       "      <td>21</td>\n",
       "      <td>19</td>\n",
       "      <td>...</td>\n",
       "      <td>16</td>\n",
       "      <td>14</td>\n",
       "      <td>22</td>\n",
       "      <td>1000</td>\n",
       "      <td>15</td>\n",
       "      <td>9</td>\n",
       "      <td>17</td>\n",
       "      <td>179</td>\n",
       "      <td>81</td>\n",
       "      <td>19</td>\n",
       "    </tr>\n",
       "    <tr>\n",
       "      <th>4</th>\n",
       "      <td>16</td>\n",
       "      <td>13</td>\n",
       "      <td>9</td>\n",
       "      <td>877</td>\n",
       "      <td>1000</td>\n",
       "      <td>59</td>\n",
       "      <td>128</td>\n",
       "      <td>20</td>\n",
       "      <td>1000</td>\n",
       "      <td>33</td>\n",
       "      <td>...</td>\n",
       "      <td>22</td>\n",
       "      <td>17</td>\n",
       "      <td>56</td>\n",
       "      <td>21</td>\n",
       "      <td>1000</td>\n",
       "      <td>12</td>\n",
       "      <td>194</td>\n",
       "      <td>491</td>\n",
       "      <td>1000</td>\n",
       "      <td>27</td>\n",
       "    </tr>\n",
       "    <tr>\n",
       "      <th>...</th>\n",
       "      <td>...</td>\n",
       "      <td>...</td>\n",
       "      <td>...</td>\n",
       "      <td>...</td>\n",
       "      <td>...</td>\n",
       "      <td>...</td>\n",
       "      <td>...</td>\n",
       "      <td>...</td>\n",
       "      <td>...</td>\n",
       "      <td>...</td>\n",
       "      <td>...</td>\n",
       "      <td>...</td>\n",
       "      <td>...</td>\n",
       "      <td>...</td>\n",
       "      <td>...</td>\n",
       "      <td>...</td>\n",
       "      <td>...</td>\n",
       "      <td>...</td>\n",
       "      <td>...</td>\n",
       "      <td>...</td>\n",
       "      <td>...</td>\n",
       "    </tr>\n",
       "    <tr>\n",
       "      <th>145</th>\n",
       "      <td>27</td>\n",
       "      <td>11</td>\n",
       "      <td>10</td>\n",
       "      <td>926</td>\n",
       "      <td>24</td>\n",
       "      <td>1000</td>\n",
       "      <td>23</td>\n",
       "      <td>21</td>\n",
       "      <td>11</td>\n",
       "      <td>16</td>\n",
       "      <td>...</td>\n",
       "      <td>17</td>\n",
       "      <td>16</td>\n",
       "      <td>58</td>\n",
       "      <td>1000</td>\n",
       "      <td>40</td>\n",
       "      <td>19</td>\n",
       "      <td>147</td>\n",
       "      <td>28</td>\n",
       "      <td>745</td>\n",
       "      <td>790</td>\n",
       "    </tr>\n",
       "    <tr>\n",
       "      <th>146</th>\n",
       "      <td>308</td>\n",
       "      <td>16</td>\n",
       "      <td>13</td>\n",
       "      <td>600</td>\n",
       "      <td>18</td>\n",
       "      <td>878</td>\n",
       "      <td>18</td>\n",
       "      <td>18</td>\n",
       "      <td>26</td>\n",
       "      <td>47</td>\n",
       "      <td>...</td>\n",
       "      <td>11</td>\n",
       "      <td>263</td>\n",
       "      <td>32</td>\n",
       "      <td>346</td>\n",
       "      <td>44</td>\n",
       "      <td>18</td>\n",
       "      <td>62</td>\n",
       "      <td>616</td>\n",
       "      <td>18</td>\n",
       "      <td>128</td>\n",
       "    </tr>\n",
       "    <tr>\n",
       "      <th>147</th>\n",
       "      <td>10</td>\n",
       "      <td>8</td>\n",
       "      <td>17</td>\n",
       "      <td>1000</td>\n",
       "      <td>971</td>\n",
       "      <td>1000</td>\n",
       "      <td>19</td>\n",
       "      <td>16</td>\n",
       "      <td>16</td>\n",
       "      <td>6</td>\n",
       "      <td>...</td>\n",
       "      <td>16</td>\n",
       "      <td>1000</td>\n",
       "      <td>24</td>\n",
       "      <td>1000</td>\n",
       "      <td>16</td>\n",
       "      <td>18</td>\n",
       "      <td>23</td>\n",
       "      <td>11</td>\n",
       "      <td>777</td>\n",
       "      <td>265</td>\n",
       "    </tr>\n",
       "    <tr>\n",
       "      <th>148</th>\n",
       "      <td>16</td>\n",
       "      <td>22</td>\n",
       "      <td>13</td>\n",
       "      <td>18</td>\n",
       "      <td>55</td>\n",
       "      <td>987</td>\n",
       "      <td>103</td>\n",
       "      <td>14</td>\n",
       "      <td>1000</td>\n",
       "      <td>17</td>\n",
       "      <td>...</td>\n",
       "      <td>12</td>\n",
       "      <td>652</td>\n",
       "      <td>337</td>\n",
       "      <td>30</td>\n",
       "      <td>21</td>\n",
       "      <td>17</td>\n",
       "      <td>25</td>\n",
       "      <td>1000</td>\n",
       "      <td>176</td>\n",
       "      <td>27</td>\n",
       "    </tr>\n",
       "    <tr>\n",
       "      <th>149</th>\n",
       "      <td>100</td>\n",
       "      <td>9</td>\n",
       "      <td>11</td>\n",
       "      <td>1000</td>\n",
       "      <td>55</td>\n",
       "      <td>63</td>\n",
       "      <td>12</td>\n",
       "      <td>12</td>\n",
       "      <td>1000</td>\n",
       "      <td>78</td>\n",
       "      <td>...</td>\n",
       "      <td>8</td>\n",
       "      <td>19</td>\n",
       "      <td>1000</td>\n",
       "      <td>1000</td>\n",
       "      <td>22</td>\n",
       "      <td>34</td>\n",
       "      <td>16</td>\n",
       "      <td>1000</td>\n",
       "      <td>28</td>\n",
       "      <td>12</td>\n",
       "    </tr>\n",
       "  </tbody>\n",
       "</table>\n",
       "<p>150 rows × 35 columns</p>\n",
       "</div>"
      ],
      "text/plain": [
<<<<<<< HEAD
       "      6.6   4.8   4.2  2.4  1.0   3.4   5.2   5.8   5.6  1.4  ...  1.6   3.6  \\\n",
       "0      25  1000   227    9   13    11    11    18    18   10  ...   13    13   \n",
       "1      11     8   475  104    8    12    17  1000  1000    8  ...   12   983   \n",
       "2      10   290   389   21   13    13  1000    16    16   10  ...   21  1000   \n",
       "3     654  1000    14   21   12  1000    18    15    11   11  ...   12    25   \n",
       "4    1000    13   555   11   11    22  1000  1000    17  151  ...   15    14   \n",
       "..    ...   ...   ...  ...  ...   ...   ...   ...   ...  ...  ...  ...   ...   \n",
       "145  1000    15   155   10   10    22    19    74    14    6  ...   14   101   \n",
       "146  1000  1000  1000   12   11   415    12   868    69   15  ...   27    16   \n",
       "147    24    19    22   13   22    14    15    13  1000   10  ...  384    27   \n",
       "148    15    16    17   19   13    18  1000  1000    12   11  ...    8  1000   \n",
       "149    26  1000    10    9    6    20    17    12    16   11  ...   13     7   \n",
       "\n",
       "     1.2  1.8   5.0   4.0   6.4  0.8  0.2  2.6  \n",
       "0     13   12   152  1000    16   11    7   10  \n",
       "1      9    7    16    13  1000   11   11   48  \n",
       "2     19   15    12    18    17    9   10   10  \n",
       "3     11   11    17  1000    19   15    8   14  \n",
       "4     13    6    13   893    18   11    9   12  \n",
       "..   ...  ...   ...   ...   ...  ...  ...  ...  \n",
       "145   11   10    16    13    28   10   11  511  \n",
       "146   14    6    44    21  1000   11    8  189  \n",
       "147   10  172   701    15    18   14   10   16  \n",
       "148  104   27  1000    27   163    9   14   18  \n",
       "149   11   15   432    13   412   17    6   12  \n",
=======
       "     2.6  0.8  0.2   6.4   4.0   5.0  1.2  1.8   3.6  1.6  ...  1.4   5.6  \\\n",
       "0     14   11    8    42    29    15   15  212   277   49  ...   18    25   \n",
       "1      9   14    7   359    81  1000  162  282   427   16  ...   16    99   \n",
       "2    360    9   16  1000    54    98   71    9    18   94  ...   11  1000   \n",
       "3    644   19   10  1000    23    26   23   67    21   19  ...   16    14   \n",
       "4     16   13    9   877  1000    59  128   20  1000   33  ...   22    17   \n",
       "..   ...  ...  ...   ...   ...   ...  ...  ...   ...  ...  ...  ...   ...   \n",
       "145   27   11   10   926    24  1000   23   21    11   16  ...   17    16   \n",
       "146  308   16   13   600    18   878   18   18    26   47  ...   11   263   \n",
       "147   10    8   17  1000   971  1000   19   16    16    6  ...   16  1000   \n",
       "148   16   22   13    18    55   987  103   14  1000   17  ...   12   652   \n",
       "149  100    9   11  1000    55    63   12   12  1000   78  ...    8    19   \n",
       "\n",
       "      5.2   5.8   3.4  1.0  2.4   4.8   4.2  6.6  \n",
       "0    1000    26    24   15  375    18    12   28  \n",
       "1      25    29    14   29   48    36   376  307  \n",
       "2      41    17    15   12   12    16   135   47  \n",
       "3      22  1000    15    9   17   179    81   19  \n",
       "4      56    21  1000   12  194   491  1000   27  \n",
       "..    ...   ...   ...  ...  ...   ...   ...  ...  \n",
       "145    58  1000    40   19  147    28   745  790  \n",
       "146    32   346    44   18   62   616    18  128  \n",
       "147    24  1000    16   18   23    11   777  265  \n",
       "148   337    30    21   17   25  1000   176   27  \n",
       "149  1000  1000    22   34   16  1000    28   12  \n",
>>>>>>> miguel
       "\n",
       "[150 rows x 35 columns]"
      ]
     },
<<<<<<< HEAD
     "execution_count": 5,
=======
     "execution_count": 103,
>>>>>>> miguel
     "metadata": {},
     "output_type": "execute_result"
    }
   ],
   "source": [
    "gen_df = pd.DataFrame(generations)\n",
    "gen_df "
   ]
  },
  {
   "cell_type": "code",
<<<<<<< HEAD
   "execution_count": 7,
=======
   "execution_count": 104,
>>>>>>> miguel
   "id": "f7acfe09-ddd2-45e2-87e2-debb2323eb0c",
   "metadata": {},
   "outputs": [
    {
     "data": {
      "image/png": "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",
      "text/plain": [
       "<Figure size 1000x400 with 1 Axes>"
      ]
     },
     "metadata": {},
     "output_type": "display_data"
    }
   ],
   "source": [
    "figure = plt.figure(constrained_layout=True, figsize=(10,4))\n",
    "gs = figure.add_gridspec(nrows=1, ncols=1, left=0.05, right=0.48, wspace=0.05)\n",
    "ax = figure.add_subplot(gs[0,0])\n",
    "ax.spines[\"right\"].set_visible(False)\n",
    "ax.spines[\"top\"].set_visible(False)\n",
    "sns.boxplot([gen_df[str(c)] for c in mut_params[:25]])\n",
    "plt.xticks(range(len(mut_params[:25])), mut_params[:25])\n",
    "plt.show()"
   ]
  },
  {
   "cell_type": "code",
<<<<<<< HEAD
   "execution_count": 8,
=======
   "execution_count": 105,
>>>>>>> miguel
   "id": "3b6931cc-1676-4d19-911a-2bf14a7a2943",
   "metadata": {},
   "outputs": [],
   "source": [
    "min_move = [min(data_all[str(c)]) for c in mut_params]\n",
    "min_counts = [data_all[str(c)].count(min(data_all[str(c)])) for c in mut_params]"
   ]
  },
  {
   "cell_type": "code",
<<<<<<< HEAD
   "execution_count": 9,
=======
   "execution_count": 106,
>>>>>>> miguel
   "id": "8f736efb-2b94-432d-a0e0-ed93b692d031",
   "metadata": {},
   "outputs": [
    {
     "data": {
      "text/plain": [
       "([6,\n",
       "  6,\n",
       "  6,\n",
       "  6,\n",
       "  6,\n",
       "  6,\n",
       "  6,\n",
       "  6,\n",
       "  6,\n",
       "  6,\n",
       "  6,\n",
       "  6,\n",
       "  6,\n",
       "  6,\n",
       "  6,\n",
       "  6,\n",
       "  6,\n",
       "  6,\n",
       "  6,\n",
       "  6,\n",
       "  6,\n",
       "  6,\n",
       "  6,\n",
       "  6,\n",
       "  6,\n",
       "  6,\n",
       "  6,\n",
       "  6,\n",
       "  6,\n",
       "  6,\n",
       "  6,\n",
       "  6,\n",
       "  6,\n",
       "  6,\n",
       "  6],\n",
       " [8,\n",
       "  1,\n",
       "  7,\n",
       "  8,\n",
       "  3,\n",
       "  2,\n",
       "  7,\n",
       "  6,\n",
       "  14,\n",
       "  8,\n",
       "  10,\n",
       "  11,\n",
       "  9,\n",
       "  9,\n",
       "  14,\n",
       "  7,\n",
       "  19,\n",
       "  13,\n",
       "  16,\n",
       "  14,\n",
       "  10,\n",
       "  14,\n",
       "  10,\n",
       "  12,\n",
       "  13,\n",
       "  14,\n",
       "  11,\n",
       "  15,\n",
       "  10,\n",
       "  16,\n",
       "  15,\n",
       "  19,\n",
       "  14,\n",
       "  5,\n",
       "  17])"
      ]
     },
     "execution_count": 106,
     "metadata": {},
     "output_type": "execute_result"
    }
   ],
   "source": [
    "min_move, min_counts"
   ]
  },
  {
   "cell_type": "code",
<<<<<<< HEAD
   "execution_count": 10,
=======
   "execution_count": 107,
>>>>>>> miguel
   "id": "fb48b3fc-ac5a-4d50-bc29-b2c6d3ad111c",
   "metadata": {},
   "outputs": [
    {
     "data": {
      "image/png": "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",
      "text/plain": [
       "<Figure size 640x480 with 1 Axes>"
      ]
     },
     "metadata": {},
     "output_type": "display_data"
    }
   ],
   "source": [
    "plt.plot(mut_params, np.array(min_counts, dtype=float)/150, 'o') \n",
    "plt.show()"
   ]
  },
  {
   "cell_type": "code",
<<<<<<< HEAD
   "execution_count": 11,
=======
   "execution_count": 108,
>>>>>>> miguel
   "id": "873a6bde-66fd-4492-b88b-45ca573738b0",
   "metadata": {},
   "outputs": [
    {
     "data": {
      "text/plain": [
       "<BarContainer object of 35 artists>"
      ]
     },
     "execution_count": 108,
     "metadata": {},
     "output_type": "execute_result"
    },
    {
     "data": {
      "image/png": "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",
      "text/plain": [
       "<Figure size 640x480 with 1 Axes>"
      ]
     },
     "metadata": {},
     "output_type": "display_data"
    }
   ],
   "source": [
    "plt.bar(mut_params, min_counts, width=0.1, color='deepskyblue', align='center')"
   ]
  },
  {
   "cell_type": "code",
   "execution_count": 109,
   "id": "cb546720-3bea-4428-95e7-eca06d34dc88",
   "metadata": {},
   "outputs": [],
   "source": [
    "success_rate = [fitnesses[str(key)].count(1)/len(fitnesses[str(key)]) for key in mut_params]"
   ]
  },
  {
   "cell_type": "code",
   "execution_count": 110,
   "id": "cc4b9078-0933-40e6-8eda-50cdd24cf3d9",
   "metadata": {},
   "outputs": [
    {
     "data": {
      "text/plain": [
       "[1.0,\n",
       " 1.0,\n",
       " 1.0,\n",
       " 1.0,\n",
       " 1.0,\n",
       " 1.0,\n",
       " 1.0,\n",
       " 1.0,\n",
       " 0.9933333333333333,\n",
       " 1.0,\n",
       " 1.0,\n",
       " 0.9933333333333333,\n",
       " 0.9666666666666667,\n",
       " 0.9533333333333334,\n",
       " 0.9066666666666666,\n",
       " 0.9066666666666666,\n",
       " 0.9,\n",
       " 0.8333333333333334,\n",
       " 0.8333333333333334,\n",
       " 0.8266666666666667,\n",
       " 0.7733333333333333,\n",
       " 0.7933333333333333,\n",
       " 0.74,\n",
       " 0.7333333333333333,\n",
       " 0.7333333333333333,\n",
       " 0.6933333333333334,\n",
       " 0.7066666666666667,\n",
       " 0.6266666666666667,\n",
       " 0.7133333333333334,\n",
       " 0.6933333333333334,\n",
       " 0.7333333333333333,\n",
       " 0.5733333333333334,\n",
       " 0.7266666666666667,\n",
       " 0.6866666666666666,\n",
       " 0.6066666666666667]"
      ]
     },
     "execution_count": 110,
     "metadata": {},
     "output_type": "execute_result"
    }
   ],
   "source": [
    "success_rate"
   ]
  },
  {
   "cell_type": "code",
<<<<<<< HEAD
   "execution_count": 15,
=======
   "execution_count": 111,
>>>>>>> miguel
   "id": "91e8b2b5-b155-47b4-9b66-d9da6cdc25a2",
   "metadata": {},
   "outputs": [
    {
     "data": {
      "image/png": "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",
      "text/plain": [
       "<Figure size 640x480 with 1 Axes>"
      ]
     },
     "metadata": {},
     "output_type": "display_data"
    }
   ],
   "source": [
    "gen_data = np.array([np.mean(gen_df[str(c)]) for c in mut_params])\n",
    "ratio = (np.array(min_counts, dtype=float)* np.array(success_rate))/gen_data\n",
    "plt.bar(mut_params[4:], ratio[4:], width=0.1, align=\"center\") \n",
    "plt.show()"
   ]
  },
  {
   "cell_type": "code",
   "execution_count": null,
   "id": "5c5c371b-3548-427f-bed2-95f9571773b4",
   "metadata": {},
   "outputs": [],
   "source": []
  },
  {
   "cell_type": "code",
   "execution_count": 112,
   "id": "8003e11f-e506-4c3f-856b-ee7abd92faf5",
   "metadata": {},
   "outputs": [
    {
     "data": {
      "image/png": "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",
      "text/plain": [
       "<Figure size 640x480 with 1 Axes>"
      ]
     },
     "metadata": {},
     "output_type": "display_data"
    }
   ],
   "source": [
    "plt.plot(mut_params, gen_data/500, 'o-', label='time')\n",
    "plt.plot(mut_params, success_rate, 'o-', label=\"success rate\")\n",
    "plt.legend()\n",
    "plt.show()"
   ]
  },
  {
   "cell_type": "code",
<<<<<<< HEAD
   "execution_count": 17,
=======
   "execution_count": 113,
>>>>>>> miguel
   "id": "f4eec9c1-05f2-4113-95ac-5c204e30b3f3",
   "metadata": {},
   "outputs": [
    {
     "data": {
      "text/plain": [
       "[8,\n",
       " 1,\n",
       " 7,\n",
       " 8,\n",
       " 3,\n",
       " 2,\n",
       " 7,\n",
       " 6,\n",
       " 14,\n",
       " 8,\n",
       " 10,\n",
       " 11,\n",
       " 9,\n",
       " 9,\n",
       " 14,\n",
       " 7,\n",
       " 19,\n",
       " 13,\n",
       " 16,\n",
       " 14,\n",
       " 10,\n",
       " 14,\n",
       " 10,\n",
       " 12,\n",
       " 13,\n",
       " 14,\n",
       " 11,\n",
       " 15,\n",
       " 10,\n",
       " 16,\n",
       " 15,\n",
       " 19,\n",
       " 14,\n",
       " 5,\n",
       " 17]"
      ]
     },
     "execution_count": 113,
     "metadata": {},
     "output_type": "execute_result"
    }
   ],
   "source": [
    "min_counts"
   ]
  },
  {
   "cell_type": "code",
<<<<<<< HEAD
   "execution_count": 73,
=======
   "execution_count": 114,
>>>>>>> miguel
   "id": "d57c9e2f-f1fd-4369-83bf-bdf75c37b55c",
   "metadata": {},
   "outputs": [
    {
     "data": {
      "image/png": "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",
      "text/plain": [
       "<Figure size 700x400 with 2 Axes>"
      ]
     },
     "metadata": {},
     "output_type": "display_data"
    }
   ],
   "source": [
    "figure = plt.figure(constrained_layout=True, figsize=(7,4))\n",
    "gs = figure.add_gridspec(nrows=1, ncols=1, left=0.05, right=0.48, wspace=0.05)\n",
    "ax = figure.add_subplot(gs[0,0])\n",
    "ax.spines[\"right\"].set_visible(False)\n",
    "#ax.spines[\"top\"].set_visible(False)\n",
    "plt.plot(mut_params[4:], success_rate[4:] , \"o-\", color=\"darkorange\", label=\"Success rate\")\n",
    "plt.ylabel(r\"Success rate (%)\", weight=\"bold\", fontsize=12)\n",
    "plt.xlabel(r\"Mutation rate ($c$)\", weight=\"bold\", fontsize=12)\n",
    "plt.legend(loc='lower right',bbox_to_anchor=(1, 0.45))\n",
    "\n",
    "ax3 = ax.twinx()\n",
    "#ax3.spines[\"top\"].set_visible(False)\n",
    "ax3.set_ylabel(r'Mean number of generations',fontsize=12,weight=\"bold\")\n",
    "ax3.plot(mut_params[4:],[np.mean(generations[str(k)]) for k in mut_params][4:],\"o-\", color='deepskyblue', label=\"Generations\")\n",
    "plt.legend(loc='lower right',bbox_to_anchor=(1, 0.55))\n",
    "plt.title(\"Puzzle Level \"+str(level)+\", $d=3, k=2$\", fontsize=15,weight=\"bold\")\n",
    "plt.savefig(\"../images/mu_success_rate_dim3_level\" +str(level)+\".pdf\")\n",
    "plt.show()"
   ]
  },
  {
   "cell_type": "code",
<<<<<<< HEAD
   "execution_count": 19,
=======
   "execution_count": 115,
>>>>>>> miguel
   "id": "f5fc44ce-d140-43ec-88d6-389d54be77fd",
   "metadata": {},
   "outputs": [
    {
     "name": "stdout",
     "output_type": "stream",
     "text": [
<<<<<<< HEAD
      "The mean of the Zipf's distribution is 7.587499999999999\n",
      "1.8968749999999996\n",
=======
      "The mean of the Zipf's distribution is 7.594499999999997\n",
      "1.8986249999999993\n",
>>>>>>> miguel
      "The Binomial mutation rate is 0.25\n"
     ]
    }
   ],
   "source": [
    "N = 10000\n",
    "zipf_dist = list(zipf_rvgen(1,70, 70, N, 1.4))\n",
    "barplot_data = []\n",
    "\n",
    "for i in set(zipf_dist) :\n",
    "    barplot_data +=[[i,zipf_dist.count(i)]]\n",
    "\n",
    "barplot_data = np.array(barplot_data)\n",
    "p = barplot_data[:,1]/sum(barplot_data[:,1])\n",
    "mean_zipf = sum(p*barplot_data[:,0])\n",
    "print(f\"The mean of the Zipf's distribution is {mean_zipf}\")\n",
    "print(mean_zipf/4)\n",
    "mu = 0.25 #mean_zipf/args.length\n",
    "print(f\"The Binomial mutation rate is {mu}\")\n",
    "bino_dist = bino_gen(mu, 70, N)"
   ]
  },
  {
   "cell_type": "code",
<<<<<<< HEAD
   "execution_count": 20,
=======
   "execution_count": 116,
>>>>>>> miguel
   "id": "e8a80621-5169-4402-968e-6ddb594a015a",
   "metadata": {},
   "outputs": [],
   "source": [
    "barplot_data_bino = []\n",
    "for i in set(bino_dist) :\n",
    "    barplot_data_bino +=[[i,bino_dist.count(i)]]\n",
    "\n",
    "barplot_data_bino = np.array(barplot_data_bino)"
   ]
  },
  {
   "cell_type": "code",
<<<<<<< HEAD
   "execution_count": 96,
=======
   "execution_count": 150,
>>>>>>> miguel
   "id": "79b187bf-b089-406d-8861-8af687e07dc2",
   "metadata": {},
   "outputs": [
    {
     "name": "stdout",
     "output_type": "stream",
     "text": [
<<<<<<< HEAD
      "[12, 6, 7, 10, 16, 10, 9, 11, 10, 7, 9, 8, 8, 7, 12, 12, 7, 11, 9, 8, 7, 9, 11, 8, 11, 9, 9, 9, 8, 18, 7, 24, 8, 8, 6, 14, 14, 11, 11, 11, 9, 8, 27, 8, 11, 11, 10, 10, 7, 10, 8, 7, 6, 9, 11, 9, 7, 7, 10, 8, 13, 10, 12, 6, 12, 9, 11, 6, 17, 14, 9, 14, 13, 8, 10, 7, 25, 9, 11, 13, 9, 6, 10, 11, 8, 11, 10, 6, 6, 13, 11, 7, 11, 10, 8, 8, 28, 9, 8, 7, 12, 6, 10, 7, 9, 7, 9, 12, 7, 9, 12, 11, 22, 13, 12, 11, 8, 10, 8, 11, 10, 10, 10, 7, 8, 13, 11, 6, 23, 6, 20, 11, 8, 8, 6, 11, 23, 8, 13, 9, 11, 8, 11, 12, 10, 7, 15, 12, 12, 10] {6, 7, 8, 9, 10, 11, 12, 13, 14, 15, 16, 17, 18, 20, 22, 23, 24, 25, 27, 28} 150\n"
=======
      "[12, 12, 8, 13, 15, 11, 6, 9, 7, 7, 7, 9, 13, 7, 8, 9, 8, 11, 12, 9, 8, 10, 12, 9, 9, 10, 9, 12, 8, 9, 6, 13, 15, 14, 9, 12, 12, 7, 8, 7, 9, 10, 9, 9, 7, 7, 10, 8, 8, 10, 11, 7, 11, 7, 9, 10, 11, 11, 9, 8, 9, 7, 11, 10, 10, 13, 12, 9, 8, 6, 11, 12, 10, 7, 10, 10, 14, 10, 9, 7, 6, 10, 11, 12, 10, 10, 10, 6, 8, 12, 10, 6, 15, 11, 11, 6, 8, 8, 8, 10, 6, 10, 8, 7, 13, 10, 12, 8, 12, 6, 9, 7, 11, 13, 8, 7, 15, 8, 10, 10, 7, 8, 9, 9, 9, 11, 11, 8, 7, 17, 11, 7, 11, 6, 15, 8, 9, 6, 9, 6, 7, 6, 10, 11, 8, 8, 8, 8, 6] {6, 7, 8, 9, 10, 11, 12, 13, 14, 15, 17} 149\n"
>>>>>>> miguel
     ]
    },
    {
     "data": {
      "image/png": "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",
      "text/plain": [
       "<Figure size 1000x400 with 3 Axes>"
      ]
     },
     "metadata": {},
     "output_type": "display_data"
    }
   ],
   "source": [
    "figure = plt.figure(constrained_layout=True, figsize=(10,4))\n",
    "gs = figure.add_gridspec(nrows=1, ncols=2, left=0.05, right=0.48, wspace=0.05)\n",
    "ax = figure.add_subplot(gs[0,0])\n",
    "ax.spines[\"top\"].set_visible(False)\n",
    "ax.spines[\"right\"].set_visible(False)\n",
<<<<<<< HEAD
=======
    "plt.title(\"(a)\", fontsize=17,weight=\"bold\")\n",
>>>>>>> miguel
    "ratio = (np.array(min_counts, dtype=float)* np.array(success_rate))/gen_data\n",
    "ax.plot(mut_params[4:], ratio[4:], \"o-\", color=\"deepskyblue\") \n",
    "#ax.bar(mut_params[4:], ratio[4:], width=0.1, align=\"center\", color=\"deepskyblue\") \n",
    "plt.ylabel(\"Success ratio\", fontsize=13, weight='bold')\n",
    "plt.xlabel(r\"Mutation rate ($c$)\", weight=\"bold\", fontsize=13)\n",
    "\n",
    "ax = figure.add_subplot(gs[0,1])\n",
    "# ax.spines[\"top\"].set_visible(False)\n",
    "# ax.spines[\"right\"].set_visible(False)\n",
    "# plt.xlabel(\"Point mutations\", fontsize=10, weight='bold')\n",
    "# plt.ylabel(\"Frequency\", fontsize=10, weight='bold')\n",
    "# plt.bar(barplot_data_bino[:,0], barplot_data_bino[:,1], width=.8, align='center', log=True, label=r\"Binomial with $\\mu*=\"+str(np.round(mu,3))+\"$\", color=\"darkorange\")\n",
    "# plt.bar(barplot_data[:,0], barplot_data[:,1], width=.4, align='center', log=True, label=r\"Zipf with $c*=\"+str(1.4)+\"$\", alpha=0.5, color=\"deepskyblue\")\n",
    "# plt.legend()\n",
<<<<<<< HEAD
    "histo_data = data_all[\"1.4\"]\n",
=======
    "histo_data = data_all[\"1.8\"]\n",
>>>>>>> miguel
    "print(histo_data, set(histo_data), len(histo_data))\n",
    "ax.spines[\"right\"].set_visible(False)\n",
    "ax.spines[\"top\"].set_visible(False)\n",
    "ax.set_xlabel(r\"Number of moves\", weight='bold', fontsize=13)\n",
    "ax.set_ylabel(r\"Frequencies\", weight=\"bold\", fontsize=13)\n",
    "ax.bar(list(set(histo_data)), [histo_data.count(s) for s in list(set(histo_data))],  width=.8, align='center')\n",
    "plt.title(\"(b)\", fontsize=17,weight=\"bold\")\n",
    "# plt.title(\"Puzzle Level \"+str(level), fontsize=17,weight=\"bold\")\n",
<<<<<<< HEAD
    "ax2 = plt.axes([0.75, 0.40, 0.20, 0.3])\n",
=======
    "ax2 = plt.axes([0.8, 0.55, 0.20, 0.3])\n",
>>>>>>> miguel
    "ax2.spines[\"right\"].set_visible(False)\n",
    "ax2.spines[\"top\"].set_visible(False)\n",
    "histo_data = np.array(histo_data_7)\n",
    "plot_data = histo_data[histo_data<25].tolist()\n",
    "ax2.bar(list(set(plot_data)), [plot_data.count(s) for s in sorted(set(plot_data))],  width=.7, align='center', color=\"orange\")\n",
    "# plt.savefig(\"../images/best_cvalue\"+str(dim)+\"_level\" +str(level)+\"number_of_move.pdf\")\n",
    "plt.savefig(\"../images/best_cvalue\"+str(dim)+\"_level\" +str(level)+\".pdf\")\n",
    "plt.savefig(\"../images/best_cvalue\"+str(dim)+\"_level\" +str(level)+\".svg\")\n",
    "plt.show()"
   ]
  },
  {
   "cell_type": "code",
<<<<<<< HEAD
   "execution_count": 45,
=======
   "execution_count": 151,
>>>>>>> miguel
   "id": "6ff89de1-bf7a-4c24-a1d4-ac0c3f53c1c9",
   "metadata": {},
   "outputs": [
    {
     "name": "stdout",
     "output_type": "stream",
     "text": [
      "[7, 9, 7, 10, 10, 8, 8, 6, 8, 10, 10, 8, 11, 10, 11, 8, 9, 8, 6, 6, 9, 8, 11, 7, 9, 9, 6, 8, 7, 7, 6, 9, 9, 6, 7, 12, 11, 10, 10, 9, 6, 10, 9, 6, 10, 9, 9, 6, 8, 9, 11, 7, 12, 9, 6, 9, 10, 8, 8, 7, 9, 9, 10, 9, 11, 8, 12, 7, 9, 8, 6, 7, 7, 6, 6, 8, 9, 6, 6, 9, 6, 10, 9, 8, 11, 8, 8, 10, 8, 7, 6] {6, 7, 8, 9, 10, 11, 12} 91\n"
     ]
    },
    {
     "data": {
      "text/plain": [
       "<BarContainer object of 7 artists>"
      ]
     },
     "execution_count": 151,
     "metadata": {},
     "output_type": "execute_result"
    },
    {
     "data": {
      "image/png": "iVBORw0KGgoAAAANSUhEUgAAA/MAAAGbCAYAAACIxMC9AAAAOXRFWHRTb2Z0d2FyZQBNYXRwbG90bGliIHZlcnNpb24zLjguMywgaHR0cHM6Ly9tYXRwbG90bGliLm9yZy/H5lhTAAAACXBIWXMAAA9hAAAPYQGoP6dpAABaHElEQVR4nO3deVxWZf7/8ffNjsgiLiyuuOKumRpmaeWIZObuaIuoWU3pNMZUauWWFVm/NtPRLMVGU8syTW00JbdKLTVLpyI0FFEhNQFBBYTz+6OvZ7zZxG5ubm55PR+P85j7XOc657zPfRzzc19nsRiGYQgAAAAAADgNF0cHAAAAAAAA14ZiHgAAAAAAJ0MxDwAAAACAk6GYBwAAAADAyVDMAwAAAADgZCjmAQAAAABwMhTzAAAAAAA4GYp5AAAAAACcDMU8AAAAAABOhmIeAIDr2PTp02WxWMxp1KhRjo5UZfTs2dPqu1+8eLGjIwEAriMU8wCAKqNRo0ZWxdWVk4uLiwICAtS2bVs9/PDD+uabbxwd97pR+LuePn26oyM5nT179mjs2LFq0qSJqlWrJn9/f7Vr104TJ07UiRMnHB0PAOAAFPMAAEgyDEMZGRk6ePCgFixYoK5du+rRRx9VQUGBo6OhinvmmWfUtWtXLVy4UL/++qsuXLigzMxMHThwQC+//LLCw8O1evVqR8cEAFQwinkAAEowb948TZs2zdExUIXNmjVLL774Yqk/Kp07d07Dhg3Tl19+WYHJAACORjEPAKiyBg8erKSkJCUlJWn//v2aNWuWPD09rfr8v//3/5SVleWghKjKfv311yI/Jo0cOVLff/+9duzYoc6dO5vteXl5euihh7iSBACqEIp5AECVVb16dTVq1EiNGjVS+/bt9dRTT2nixIlWfS5evKhdu3aZ82V5qFnhe/O3bt1qLiv8QLrSpp49e5a4zdKmP/Ogtby8PMXFxemuu+5SaGioPD09FRAQoE6dOmnq1Kk6ffr0NW+zPMXHx+u+++5TkyZN5OPjIx8fHzVv3lwPP/ywfvzxxyL9H330Uavv5Omnny52u4sWLbLq16NHjyJ9UlJS9PTTT6tz584KDAyUh4eHgoODddddd2n58uV2K6AXLFignJwcc7558+ZatGiR2rVrp+7du2vlypVycfnfP+V++uknbd682S5ZAACVD8U8AABX6NKlS5G2U6dOOSBJxfnll1/UoUMHjRkzRuvXr9fJkyeVm5urjIwM7du3TzNnzlTz5s0VHx9f4dnOnTunQYMGqVevXnr//ff166+/6vz58zp//rwSExO1YMECtW3bVq+88orVevfff7/V/MqVK4vdfuH2kSNHWs0vXLhQTZs2VWxsrPbs2aOzZ88qLy9PaWlpWr9+ve655x7dcccd+v3338vhaK0Vvg++f//+cnV1NecbNmyoG264warPJ598Uu45AACVE8U8AABX+Pnnn4u0BQQEVHyQCpKWlqY77rij2NHtK509e1b9+vXTDz/8UEHJpIKCAg0dOvSqBWpBQYGeeuopvfPOO2ZbRESEmjZtas4fOnRI+/fvt1rv7NmzVj9QeHl5aciQIeb8+++/r7Fjx1qNjhdn69atGjRokC5dulSWwyqTc+fO6ZdffrFqa9WqVZF+hdv27t1bbhkAAJUbxTwAAJIyMjL08ccf6/nnn7dqd3V1VdeuXcttPxMmTDDv079yKjyyLEkPPvig+fnLL78sss7hw4cVERFhtU6DBg0UGRlZ5jzPPPOMUlJSzPk2bdroo48+0k8//aTt27fr7rvvNpdduHBBf//736/lcG2ybNkybdy40ZwPCAjQ3Llz9cMPP2jfvn2aNGmSVf8nnnhC6enp5vx9991ntbzwKPzq1auVl5dnzt99993y9/eXJGVmZuqxxx6z6j969Gh9+eWX+vHHH7Vs2TLVq1fPXLZt2zYtWbLkzx1oMZKTk2UYhlVbnTp1ivSrXbu21fzRo0fLLQMAoHJzc3QAAAAc5b333tN7771Xap8xY8YoMDCw3PYZEBBQZKR/165dmjJlilXbzJkzde+995rzVxaOl02YMEE7d+405/39/bV+/XqFhISUKcuFCxe0dOlSc97Dw0Off/65uX54eLgiIiJUt25d/fbbb5Kk7du3KzExUc2aNSvTPmxx5Ui79Mcl74MGDTLnO3bsqF9++UWrVq2S9EcBvnLlSvNHkPvuu8/qnfYrV67UCy+8YDV/pSsvzf/444+tLp3v16+fFi1aZM63bNlS1atXt/qx491339Xo0aP/zKEWkZmZWaTNy8urSJu3t7fVfEZGRrnsHwBQ+TEyDwBACXr37q0333zTrvv49ddfdffdd+vixYtm25gxY/Tss8+Wut6cOXOssrm7u+vjjz9WmzZtyrzvb7/91uoS8tzcXIWGhlo9EM7d3d0s5C/7+uuvy7yPP+vSpUtWDx6U/nj7QOGH/V0u5IvL1qRJE3Xr1s2cT0xMNC+1T09Pt7rEvnbt2urTp485v2PHDqvtrl27tsi+ryzkpT++z/K81L6wwiP1JbUBAKoGinkAAK5QvXp182FrGzZsKDLyWZ7Onj2rvn37Wj1gr1evXpo/f36p661bt04TJkywaluwYIHuuOOOa9p/amrqNfW3db1r8fvvvys3N/ea1yucraQH4a1Zs8Zq+8OHD5eb2/8uWPwzx5iXl6czZ85c83rF8fPzK9J25Q8+JbVdvk0AAHD9o5gHAFRZV75n/ujRozpz5owyMzO1adMm3XPPPbJYLFfdRn5+fpG2sjzZPDc3VwMHDrR64F6bNm308ccfy93dvcT19u3bp+HDh1vtd8qUKRo1atRV91leLly4UGH7ulaFsw0bNkweHh7m/OVivrRL7Mtz/39WgwYNivz5K3yFRHFtDRs2LJf9AwAqP+6ZBwBUWZffM38trhy9laTz589bzaempurcuXNX3c7YsWO1bds2cz4kJESfffZZsSOyl6WkpKhfv37Kzs422+6//34999xzZY1vJTg42Go+ICBA+/btu+qPGBXxdP+aNWvK3d3d6gF1n332mVq2bFnqeoXvKw8MDNSdd95pvuYtMTFR27Zt06ZNm8w+4eHh6ty5s9V6hb+bMWPGFHmuQXGKe7bBn+Hr66vmzZsrISHBbCvujQOF2zp16lQu+wcAVH6MzAMAcA0KX8Z8ZbEl/XG5+9XMmDHD6snn1atX1/r161W/fv0S1zl37pz69u2rEydOmG233Xab3n333bJGL6Jz587y9PQ059PT0/Xdd9+pUaNGxU516tTRrl27KqSYd3V11U033WTV9p///KfEbA0bNtT3339vNQp/WeFR94ceesjqEvviRuW7d+9uNb9582YFBASUuP/c3FwdO3asyI89thgwYIDV/Jo1a6yuyEhKStJ3331X6joAgOsXI/MAAFyDNm3aWD107d1331XHjh3VrVs3bdq0yepp6cVZunSp1RPWJemll15SjRo1dOTIEat2Ly8vBQcHKz8/X0OHDrV6x3toaKhee+01q+L+slq1aql69epXPRZvb2/dd999Wrhwodk2cuRIff/994qMjFTt2rWVkZGhH3/8UfHx8VqzZo0CAgI0fPjwq267NOnp6UWO9UrBwcHy8vLSQw89ZPUgurfeeksZGRm6//77Vb9+feXk5OjQoUP66quv9PHHH+vo0aNKSkoq8vaBvn37qkaNGjp79qwkWb2/3WKxWL014LIhQ4boiSeeMNdJTk7WLbfcookTJ6pt27by9PTUyZMntXfvXq1du1Y7duzQ1KlTdcstt9jy1Vh56KGH9MYbb5gPKUxMTNTo0aP1xBNPKCMjQzExMSooKDD7t2zZUn/5y1/Kbf8AgErOAACgimjYsKEhyZyio6OveRs//PCD1TaKmywWi9X8li1bzPV79Ohx1fUvTz169DAMwzCSkpLKvI4kIy4uztzftGnTSj3mkydPGvXq1Svzths2bHjN39m1ZL/y+8rPzzd69+59TesmJSUVm+Hhhx8u9TsuzpIlS65p39OmTbNav/C5vvK8lFVsbGyZ9u3u7m7s2LHjmrcPAHBeXGYPAMA1aNu2rR577LESl0+ZMkUNGjSowES2CQ4OVnx8fJlfaVe3bl07J/ofFxcXffTRRxo8eHCZ+gcGBpb49oGSHnBX2oPv7rvvPr377rvFvt+9uKyF77MvD5MmTdLkyZNLfY5B9erV9cEHHxS5NQAAcH2jmAcA4Bq98cYbeuutt8zLrQMCAhQZGalNmzb96YfROVLz5s313XffaenSpRowYIDq1asnLy8veXh4KCQkRD179tTTTz+tr7/+Wl999VWFZvP19dVHH32krVu3avTo0WrevLmqV68uNzc3BQYGqnPnznrkkUe0Zs0anTx5UkFBQcVu5+abb1bjxo2t2ry8vDRkyJBS9//AAw/o8OHDmjp1qrp166aaNWvKzc1NPj4+atasmQYPHqw5c+YoOTlZf/vb38rtuK/04osvavfu3Ro9erTCwsLk5eUlX19ftWnTRk899ZQSEhI0cOBAu+wbAFB5WQzDMBwdAgAAAAAAlB0j8wAAAAAAOBmKeQAAAAAAnAzFPAAAAAAAToZiHgAAAAAAJ0MxDwAAAACAk6GYBwAAAADAyVDMl4FhGMrMzBRv8QMAAAAAVAYU82Vw7tw5+fv769y5c46OAgAAAAAAxTwAAAAAAM6GYh4AAAAAACdDMQ8AAAAAgJOhmAcAAAAAwMlQzAMAAAAA4GQo5gEAAAAAcDIU8wAAAAAAOBmKeQAAAAAAnAzFPAAAAAAAToZiHgAAAAAAJ0MxDwAAAACAk6GYBwAAAADAyVDMAwAAAADgZCjmAQAAAABwMm6ODgAAAMqu0aT1jo5wXTvyUl9HRwAAoEwYmQcAAAAAwMlQzAMAAAAA4GQo5gEAAAAAcDIU8wAAAAAAOBmKeQAAAAAAnAzFPAAAAAAAToZiHgAAAAAAJ0MxDwAAAACAk6GYBwAAAADAyVSqYj42NladO3eWr6+v6tSpowEDBighIcGqz8WLFzVu3DjVrFlT1atX1+DBg5WWllbqdg3D0NSpUxUSEiJvb2/16tVLiYmJ9jwUAAAAAADsplIV89u2bdO4ceO0a9cubdq0SXl5eerdu7eys7PNPo8//rjWrl2rlStXatu2bTpx4oQGDRpU6nZffvllzZ49W/Pnz9fu3bvl4+OjyMhIXbx40d6HBAAAAABAubMYhmE4OkRJTp06pTp16mjbtm269dZblZGRodq1a2vZsmUaMmSIJOnnn39Wy5YttXPnTt10001FtmEYhkJDQ/XPf/5TTzzxhCQpIyNDQUFBWrx4sYYPH37VHJmZmfL391dGRob8/PzK9yABALgGjSatL3NfwzBk5F6QxcNbFovFjqmuH0de6uvoCAAAlImbowOUJiMjQ5IUGBgoSdq7d6/y8vLUq1cvs094eLgaNGhQYjGflJSk1NRUq3X8/f3VtWtX7dy5s9hiPicnRzk5OeZ8ZmZmuR0TAAAVxci9oGNvDOPHaAAArkOV6jL7KxUUFGjChAm6+eab1aZNG0lSamqqPDw8FBAQYNU3KChIqampxW7ncntQUFCZ14mNjZW/v7851a9f38ajAQAAAACg/FTaYn7cuHE6ePCgVqxYUeH7njx5sjIyMszp2LFjFZ4BAAAAAICSVMpifvz48Vq3bp22bNmievXqme3BwcHKzc1Venq6Vf+0tDQFBwcXu63L7YWfeF/aOp6envLz87OaAAAAAACoLCpVMW8YhsaPH69PPvlEX3zxhcLCwqyWd+rUSe7u7oqPjzfbEhISlJycrIiIiGK3GRYWpuDgYKt1MjMztXv37hLXAQAAAACgMqtUxfy4ceO0dOlSLVu2TL6+vkpNTVVqaqouXLgg6Y8H1z3wwAOKiYnRli1btHfvXo0ePVoRERFWD78LDw/XJ598IkmyWCyaMGGCnn/+eX366ac6cOCARo4cqdDQUA0YMMARhwkAAAAAgE0q1dPs582bJ0nq2bOnVXtcXJxGjRolSXr99dfl4uKiwYMHKycnR5GRkfrXv/5l1T8hIcF8Er4kPfXUU8rOztZDDz2k9PR0de/eXRs2bJCXl5ddjwcAAAAAAHuo1O+Zryx4zzwAoLK4lvfMF+Sc59V0AABcpyrVZfYAAAAAAODqKOYBAAAAAHAyleqeeQAAAMARruUWFkc78lJfR0cAUAkwMg8AAAAAgJOhmAcAAAAAwMlQzAMAAAAA4GQo5gEAAAAAcDIU8wAAOEBsbKw6d+4sX19f1alTRwMGDFBCQoJVn4sXL2rcuHGqWbOmqlevrsGDBys/+6yDEgMAgMqEYh4AAAfYtm2bxo0bp127dmnTpk3Ky8tT7969lZ2dbfZ5/PHHtXbtWq1cuVLbtm3TiRMndOqTFx2YGgAAVBa8mg4AAAfYsGGD1fzixYtVp04d7d27V7feeqsyMjK0cOFCLVu2TLfffrskKS4uTi1btlTO8Z/lWTfcEbEBAEAlwcg8AACVQEZGhiQpMDBQkrR3717l5eWpV69eZp/w8HC5+tVWzomfi92GcSlPBTnnrSYAAHB9YmQeAAAHKygo0IQJE3TzzTerTZs2kqTU1FR5eHgoICDAqq+rT0CJ981n7PpQGV8tt3dcAABQCVDMAwDgYOPGjdPBgwf15Zdf2rQd/5uGya/zQHO+IOe8js8bZWM6AABQGVHMAwDgQOPHj9e6deu0fft21atXz2wPDg5Wbm6u0tPTrUbn87PT5epTo9htWdzcZXFzt3dkAABQCXDPPAAADmAYhsaPH69PPvlEX3zxhcLCwqyWd+rUSe7u7oqPjzfbEhISlJ95Sp6hPPwOAICqjpF5AAAcYNy4cVq2bJnWrFkjX19fpaamSpL8/f3l7e0tf39/PfDAA4qJiVFgYKD8/Pz097//XZ6h4TzJHgAAUMwDAOAI8+bNkyT17NnTqj0uLk6jRo2SJL3++utycXHR4MGDlZOTo8jISNW+4dEKTgoAACojinkAABzAMIyr9vHy8tLcuXM1d+5cs63RpPX2jAUAAJwE98wDAAAAAOBkKOYBAAAAAHAyFPMAAAAAADgZinkAAAAAAJwMD8ADACfFg9Ds68hLfR0dAQAAoESMzAMAAAAA4GQo5gEAAAAAcDKVqpjfvn27+vXrp9DQUFksFq1evdpqucViKXZ65ZVXStzm9OnTi/QPDw+385EAAAAAAGA/laqYz87OVvv27TV37txil588edJqWrRokSwWiwYPHlzqdlu3bm213pdffmmP+AAAAAAAVIhK9QC8qKgoRUVFlbg8ODjYan7NmjW67bbb1Lhx41K36+bmVmRdAAAAAACcVaUamb8WaWlpWr9+vR544IGr9k1MTFRoaKgaN26se++9V8nJyaX2z8nJUWZmptUEAAAAAEBlUalG5q/Fe++9J19fXw0aNKjUfl27dtXixYvVokULnTx5UjNmzNAtt9yigwcPytfXt9h1YmNjNWPGDHvEBgAAqPSc6dWXvEYSQFXltCPzixYt0r333isvL69S+0VFRWno0KFq166dIiMj9dlnnyk9PV0ffvhhietMnjxZGRkZ5nTs2LHyjg8AAAAAwJ/mlCPzO3bsUEJCgj744INrXjcgIEDNmzfXoUOHSuzj6ekpT09PWyICAAAAAGA3Tjkyv3DhQnXq1Ent27e/5nWzsrJ0+PBhhYSE2CEZAAAAAAD2V6mK+aysLO3fv1/79++XJCUlJWn//v1WD6zLzMzUypUrNXbs2GK3cccdd2jOnDnm/BNPPKFt27bpyJEj+vrrrzVw4EC5urpqxIgRdj0WAAAAAADspVJdZr9nzx7ddttt5nxMTIwkKTo6WosXL5YkrVixQoZhlFiMHz58WKdPnzbnU1JSNGLECJ05c0a1a9dW9+7dtWvXLtWuXdt+BwIAAAAAgB1VqmK+Z8+eMgyj1D4PPfSQHnrooRKXHzlyxGp+xYoV5RENAAAAAIBKo1IV87CdM71Kxhnx+hsAAAAAlUGlumceAAAAAABcHSPzAACgzJzpCjCupgIAXM8YmQcAAAAAwMlQzAMAAAAA4GQo5gEAAAAAcDIU8wAAAAAAOBmKeQAAAAAAnAzFPAAAAAAAToZiHgAAAAAAJ0MxDwAAAACAk6GYBwAAAADAyVDMAwAAAADgZCjmAQAAAABwMhTzAAAAAAA4GYp5AAAAAACcDMU8AAAOsH37dvXr10+hoaGyWCxavXq11fJRo0bJYrFYTX369HFMWAAAUOlQzAMA4ADZ2dlq37695s6dW2KfPn366OTJk+a0fPnyCkwIAAAqMzdHBwAAoCqKiopSVFRUqX08PT0VHBxcQYkAAIAzYWQeAIBKauvWrapTp45atGihRx55RGfOnCm1v3EpTwU5560mAABwfWJkHgCASqhPnz4aNGiQwsLCdPjwYT399NOKioqS0fNZWVxci10nY9eHyviKS/EBAKgKKOYBAKiEhg8fbn5u27at2rVrpyZNmqhO4wPybtSh2HX8bxomv84DzfmCnPM6Pm+UnZMCAABHoJgHAMAJNG7cWLVq1dKl9JOSOhTbx+LmLoube4XmAgAAjsE98wAAOIGUlBSdOXNGrj6Bjo4CAAAqAUbmAQBwgKysLB06dMicT0pK0v79+xUYGKjAwEDNmDFDgwcPVnBwsA4fPqynnnpKTZs2VU7YDQ5MDQAAKotKNTK/fft29evXT6GhobJYLFq9erXV8lGjRslisVhNffr0uep2586dq0aNGsnLy0tdu3bVN998Y6cjAACgbPbs2aOOHTuqY8eOkqSYmBh17NhRU6dOlaurq3744Qfdfffdat68uR544AF16tRJO3bs4DJ6AAAgqZKNzGdnZ6t9+/YaM2aMBg0aVGyfPn36KC4uzpz39PQsdZsffPCBYmJiNH/+fHXt2lVvvPGGIiMjlZCQoDp16pRrfgAAyqpnz54yDKPE5Rs3bqzANAAAwNlUqmI+KipKUVFRpfbx9PRUcHBwmbf52muv6cEHH9To0aMlSfPnz9f69eu1aNEiTZo0yaa8AAAAAAA4QqW6zL4stm7dqjp16qhFixZ65JFHdObMmRL75ubmau/everVq5fZ5uLiol69emnnzp0lrpeTk6PMzEyrCQAAAACAyqLci/mUlBQtWLBAs2fP1rFjx8p123369NG///1vxcfHa9asWdq2bZuioqKUn59fbP/Tp08rPz9fQUFBVu1BQUFKTU0tcT+xsbHy9/c3p/r165frcQAAAAAAYAubLrN/6623NG/ePNWrV0+ff/65fvrpJ918883KyMiQJE2bNk27du1SixYtyiXs8OHDzc9t27ZVu3bt1KRJE23dulV33HFHuexDkiZPnqyYmBhzPjMzk4IeAAAAAFBp2DQy//nnn+vnn39WWFiYJGnOnDlKT0+XYRgyDEOZmZmKjY0tl6DFady4sWrVqmX1ap8r1apVS66urkpLS7NqT0tLK/W+e09PT/n5+VlNAAAAAABUFjYV8wcPHpTFYlG3bt0k/fFqOYvFosGDBys8PFyGYWjbtm3lErQ4KSkpOnPmjEJCQopd7uHhoU6dOik+Pt5sKygoUHx8vCIiIuyWCwAAAAAAe7KpmD916pQkqW7duiooKFBiYqJcXV21ZMkSPffcc5KkkydPlnl7WVlZ2r9/v/bv3y9JSkpK0v79+5WcnKysrCw9+eST2rVrl44cOaL4+Hj1799fTZs2VWRkpLmNO+64Q3PmzDHnY2Ji9M477+i9997TTz/9pEceeUTZ2dnm0+0BAAAAAHA2Nt0zn5eXZ/5vUlKScnNz1bRpU3l5ealmzZqS/nh6fFnt2bNHt912mzl/+b716OhozZs3Tz/88IPee+89paenKzQ0VL1799bMmTOt3jV/+PBhnT592pz/61//qlOnTmnq1KlKTU1Vhw4dtGHDhiIPxQMAAAAAwFnYVMwHBQXp+PHjevXVV81L3cPDwyXJfFr85aK+LHr27CnDMEpcvnHjxqtu48iRI0Xaxo8fr/Hjx5c5BwAAAAAAlZlNxfwtt9yi5cuXa8uWLZIki8VijqwnJCRIkpo1a2ZjRAAAAAAAcCWb7pmfOnWqatSoYT69vlWrVho7dqwk6ZNPPpEkde/e3faUAAAAAADAZNPIfIsWLZSYmKgtW7bI399ft9xyi3n/+jvvvCPDMNS0adNyCQoAAACgfDWatN7REcrkyEt9HR0BqHRsKuYlKTAwUIMHDy7S3qVLF1s3DQAAAAAAimFzMS9JW7du1TvvvKODBw8qOztbBw4c0MqVKyVJgwYNUvXq1ctjNwAAAAAAQOVQzD/zzDN66aWXJEmGYchiscjb21svvPCCDh06JFdXV9177702BwUAAAAAAH+w6QF4a9euVWxsrPkAvCv169dPhmFo7dq1NgUEAAAAAADWbCrmZ8+eLemP++bHjBljtax169aSpB9++MGWXQAAAAAAgEJsKub37t0ri8Wil156SaNHj7ZaVq9ePUnSyZMnbdkFAAAAAAAoxKZiPjs7W5IUFhZWZFlOTo4k6eLFi7bsAgAAAAAAFGJTMR8UFCRJ2r59e5Fl69atkyQFBwfbsgsAAAAAAFCITU+z7969u1asWKEXX3xRu3btMtvvu+8+LVu2TBaLRbfccovNIQEAAByl0aT1jo5QZkde6uvoCACACmLTyPzjjz8uFxcXFRQUaPPmzbJYLJKk5cuX/7FxFxf94x//sD0lAAAAAAAw2VTMd+7cWbNnz5bFYjFfT3d5cnFx0ZtvvqlOnTqVV1YAAAAAACAbL7OXpEcffVQ9e/ZUXFycfvzxR0lSy5YtNWrUKLVp08bmgAAAAAAAwJrNxbwktWrVSq+88kp5bAoAAAAAAFyFTZfZAwAAAACAindNxbyLi4vc3Nz09ddfS5JcXV2vOrm5lcvgPwAAAAAA+D/XXGkbhmH1+fLD7wAAAAAAQMWw+TJ7CnkAAAAAACrWNY3MJyUlSZJCQkKs5gEAAAAAQMW5pmK+YcOGpc4DAAAAAAD7s+npdKdPn9aJEydksVjUtm1bq2UHDhyQYRgKDQ1VrVq1bAoJAAAAAAD+x6Z75mNiYtSxY0c9+eSTRZZNmjRJHTt21D//+U9bdgEAAAAAAAqxqZj/6quvJEkjRowosuyvf/2rDMMw+wAAAAAAgPJhUzF/8uRJSVLdunWLLAsNDbXqUxbbt29Xv379FBoaKovFotWrV5vL8vLyNHHiRLVt21Y+Pj4KDQ3VyJEjdeLEiVK3OX36dFksFqspPDy8zJkAAAAAAKhsbCrmXV1dJUk//fRTkWWX21xcyr6L7OxstW/fXnPnzi2y7Pz589q3b5+mTJmiffv2adWqVUpISNDdd9991e22bt1aJ0+eNKcvv/yyzJkAALCH0n7Alv549evUqVMVEhIib29v9erVS4mJiY4JCwAAKh2bHoDXuHFjHThwQC+++KJ69Oihdu3aSfrj4XexsbGyWCxq3LhxmbcXFRWlqKioYpf5+/tr06ZNVm1z5sxRly5dlJycrAYNGpS4XTc3NwUHB5c5BwAA9nb5B+wxY8Zo0KBBRZa//PLLmj17tt577z2FhYVpypQpioyMlDHoVVncPByQGAAAVCY2FfN9+vTRgQMH9Ntvv6lTp04KCwuT9Mf75/Pz82WxWNSnT59yCVqcjIwMWSwWBQQElNovMTFRoaGh8vLyUkREhGJjY0st/nNycpSTk2POZ2ZmlldkAAAklf4DtmEYeuONN/Tss8+qf//+kqR///vfCgoKku8vO+XTqkfx613Kk5GfZ84X5Jwv/+AAAKBSsKmYj4mJ0cKFC3X27Fnl5+fr8OHDkv74R4gk1ahRQ48//rjtKYtx8eJFTZw4USNGjJCfn1+J/bp27arFixerRYsWOnnypGbMmKFbbrlFBw8elK+vb7HrxMbGasaMGXbJDQDA1SQlJSk1NVW9evUy2/z9/dW1a1d9d+LnEov5jF0fKuOr5RUVEwAAOJBNxXxQUJA2bNigoUOH6ujRo2YRL0kNGzbUhx9+aJfL2/Py8jRs2DAZhqF58+aV2vfKUY927dqpa9euZrYHHnig2HUmT56smJgYcz4zM1P169cvn/AAAFxFamqqpD/+O3uloKAg5R9ILXE9/5uGya/zQHO+IOe8js8bZZeMAADAsWwq5iXpxhtvVEJCgjZv3qwff/xRktSqVSv16tVLHh7lf0/f5UL+6NGj+uKLL0odlS9OQECAmjdvrkOHDpXYx9PTU56enrZGBQCgQlnc3GVxc3d0DAAAUAFsLuYlycPDQ3feeafuvPPO8thciS4X8omJidqyZYtq1qx5zdvIysrS4cOHdf/999shIQAAtrt8VVtaWppCQkLM9rS0NLn6BDgoFQAAqEzKpZhPTEzUL7/8ot9//93qUvvLRo4cWabtZGVlWY2YJyUlaf/+/QoMDFRISIiGDBmiffv2ad26dcrPzzcvQwwMDDSvArjjjjs0cOBAjR8/XpL0xBNPqF+/fmrYsKFOnDihadOmydXVVSNGjLD1sAEAsIuwsDAFBwcrPj5eHTp0kPTHLV+7d++Wb+/HHBsOAABUCjYV86dOnVJ0dLQ2btxYYh+LxVLmYn7Pnj267bbbzPnL961HR0dr+vTp+vTTTyXJ/IfNZVu2bFHPnj0lSYcPH9bp06fNZSkpKRoxYoTOnDmj2rVrq3v37tq1a5dq165dpkwAANhDaT9gN2jQQBMmTNDzzz+vZs2ama+mCw0NVX7zCAemBgAAlYVNxfzf//53bdiwobyyqGfPnsWO7F9W2rLLjhw5YjW/YsUKW2MBAFDuSvsBe/HixXrqqaeUnZ2thx56SOnp6erevbs2bNig3osSHRUZAABUIjYV8xs2bJDFYpFhGAoPD1fNmjXl5lYuV+4DuAaNJq13dITr2pGX+jo6Aq5DV/sB22Kx6LnnntNzzz1XaAnFPAAAsLGYv3TpkiRp+vTpmjp1arkEAgAAAAAApXOxZeUuXbpIkjp16lQuYQAAAAAAwNXZVMw///zzcnV11Zw5c5STk1NemQAAAAAAQClsusz+3XffVf369fX555+rQYMGioiIUGBgoFUfi8WihQsX2hQSAAAAAAD8j03F/OLFi2WxWCT98Zq6tWvXFtuPYh4AAAAAgPJj86Pnr3wSb3FP5b1c7AMAAAAAgPJhUzE/bdq08soBAAAAAADKiGIeAAAAAAAnY9PT7As7e/asjh07Vp6bBAAAAAAAhdhczOfl5Wn69OmqV6+eatWqpbCwMF24cEFjxozRmDFjlJKSUh45AQAAAADA/7HpMvtLly4pKipKW7ZskfS/B+B5e3srMTFRX3/9tTp06KDHHnvM9qQAAAAAAECSjSPzc+bM0RdffCHDMIo8yf4vf/mLDMPQZ599ZlNAAAAAAABgzaZifunSpZKk9u3b66233rJa1rRpU0nSoUOHbNkFAAAAAAAoxKbL7BMSEmSxWDR16lTVqVPHallISIgkKTU11ZZdAAAAAACAQmwamc/Pz5f0xz3yhf3222+SJIvFYssuAAAAAABAITYV8w0bNpQkxcXFWbUXFBTonXfekSSFhYXZsgsAAAAAAFCITZfZR0ZGKiEhQR999JG2bdtmtjdp0kRHjx6VxWJRZGSkzSEBAAAAAMD/2DQy/+STTyogIECSdOrUKfOS+uTkZElSQECAHn/8cdsSAgAAAAAAKzYV83Xr1tVnn32mevXqma+nuzzVr19f69evV2hoaHllBQAAAAAAsvEye0m66aablJiYqE2bNunHH3+UJLVs2VJ/+ctf5OnpaXNAAAAAAABgzeZiXpI8PDzUt29f9e3btzw2BwAAAAB20WjSekdHKJMjL1FboXQ2FfPbt28vU79bb73Vlt0AAAAAAIAr2FTM9+zZ86rvkbdYLLp06ZItuwEAAAAAAFcol8vsDcMoj80AAAAAAIAysOlp9g0aNFCDBg3UsGFDc/Lx8ZH0x4h8QECAGjRoUObtbd++Xf369VNoaKgsFotWr15ttdwwDE2dOlUhISHy9vZWr169lJiYeNXtzp07V40aNZKXl5e6du2qb7755pqOEwAAAACAysSmYv7IkSNKSkqyms6dO6fNmzcrMDBQvr6+2rlzZ5m3l52drfbt22vu3LnFLn/55Zc1e/ZszZ8/X7t375aPj48iIyN18eLFErf5wQcfKCYmRtOmTdO+ffvUvn17RUZG6rfffrvm4wUAAAAAoDKwqZgvye23364nn3xSx44d0+TJk8u8XlRUlJ5//nkNHDiwyDLDMPTGG2/o2WefVf/+/dWuXTv9+9//1okTJ4qM4F/ptdde04MPPqjRo0erVatWmj9/vqpVq6ZFixb9mUMDAAAAAMDh7FLMSzJHy9etW1cu20tKSlJqaqp69epltvn7+6tr164ljv7n5uZq7969Vuu4uLioV69epV4xkJOTo8zMTKsJAAAAAIDKwqYH4D333HNF2i5duqSUlBQtX75c0h+XzpeH1NRUSVJQUJBVe1BQkLmssNOnTys/P7/YdX7++ecS9xUbG6sZM2bYmBgAAAAAAPuwqZifPn16ia+mMwxDFotFnTt3tmUXDjF58mTFxMSY85mZmapfv74DEwEAAAAA8D82v5qutNfSBQYG6tVXX7V1F5Kk4OBgSVJaWppCQkLM9rS0NHXo0KHYdWrVqiVXV1elpaVZtaelpZnbK46np6c8PT1tDw0AAAAAgB3YVMxHR0cXabNYLKpRo4aaN2+ue+65R76+vrbswhQWFqbg4GDFx8ebxXtmZqZ2796tRx55pNh1PDw81KlTJ8XHx2vAgAGSpIKCAsXHx2v8+PHlkgsAAAAAgIpmUzEfFxdXXjkkSVlZWTp06JA5n5SUpP379yswMFANGjTQhAkT9Pzzz6tZs2YKCwvTlClTFBoaahbqknTHHXdo4MCBZrEeExOj6Oho3XjjjerSpYveeOMNZWdna/To0eWaHQAAAACAimLzZfblac+ePbrtttvM+cv3rUdHR2vx4sV66qmnlJ2drYceekjp6enq3r27NmzYIC8vL3Odw4cP6/Tp0+b8X//6V506dUpTp05VamqqOnTooA0bNhR5KB4AAAAAAM6i3J9mXxZTp04ttr1nz56l3oNvsVj03HPPlbrfI0eOFGkbP348l9UDAJzK9OnTi7xZpUWLFtKA8nkWDQAAcG52e5p9aUoq5gEAwP+0bt1amzdvNufd3Nx04//b7cBEAACgsrDr0+yL82eKfwAAqiI3N7dS374CAACqLpuK+ZEjR2rv3r3673//q7p166pLly6SpG+//VYpKSlq1aqVU75nHgCAyiAxMVGhoaHy8vJSRESEYmNjS+1vXMqTkZ9nzhfknLd3RAAA4CA2FfMPP/ywbr/9dg0ZMkTLli2Tm9sfm8vPz9eIESO0du1avf3227r55pvLJSwAAFVF165dtXjxYrVo0UInT57UjBkzdMstt8gY9P/k4lmt2HUydn2ojK+WV3BSAADgCDYV85MnT1Zubq5Gjx5tFvKS5OrqqtGjR+ujjz7SM888o61bt9qaEwCAKiUqKsr83K5dO3Xt2lUNGzaU289fyrd972LX8b9pmPw6DzTnC3LO6/i8UfaOCgAAHMDFlpX37NkjSfrvf/9bZNnltst9AADAnxcQEKDmzZvrUvqJEvtY3Nzl4lnNagIAANcnm0bmvb29deHCBU2ZMkVpaWm66aabJEm7du3S3LlzzT4AAMA2WVlZOnz4sFxvuMHRUQAAQCVgUzHfr18/LV68WLm5uXrttdeslhmGIYvForvvvtumgAAAVEVPPPGE+vXrp4YNG+rEiROaNm2aXF1d5dWqh6OjAQCASsCmy+xffvlltWjRQoZhmJP0v9fVtWjRQrNmzbI9JQAAVUxKSopGjBihFi1aaNiwYapZs6Z27dol12r+jo4GAAAqAZtG5mvVqqU9e/bolVde0ccff6zDhw9Lkpo0aaIhQ4boiSeekI+PT7kEBQCgKlmxYkUJS36u0BwAAKBysqmYlyQfHx9Nnz5d06dPL4c4AAAAAADgamwu5i9LTEzUwYMHlZ2drfvuu6+8NgsAAAAAAAqx6Z55STp69Kh69uyp8PBwDRkyRKNGjdKFCxfUsmVLNWnSRN9991155AQAAAAAAP/HpmL+9OnT6t69u3bs2GH1EDxvb2+1aNFCR44c0SeffFJeWQEAAAAAgGws5mNjY3X8+HEZhiF3d3erZT169JBhGIqPj7cpIAAAAAAAsGZTMb927VpZLBYNGTJEn3/+udWyhg0bSpKSk5Nt2QUAAAAAACjEpmL+cqE+duxYublZP0svICBAknTq1ClbdgEAAAAAAAqxqZj39PSUJKWnpxdZdujQIUlStWrVbNkFAAAAAAAoxKZiPjw8XJI0a9YspaSkmO2HDh3SK6+8IovFopYtW9qWEAAAAAAAWLGpmB88eLAMw9D+/ft1zz33SJIMw1CLFi10+PBhSdKQIUNsTwkAAAAAAEw2FfN///vf1bp1axmGIUmyWCyyWCzmfJs2bfToo4/anhIAAAAAAJjcrt6lZN7e3tq6daseffRRrVq1Svn5+ZIkV1dXDRo0SHPnzjXvqwcAAAAAVLxGk9Y7OkKZHHmpr6MjOBWbinlJqlmzpj744ANlZGTol19+kSQ1b95c/v7+NocDAAAAAABF/enL7LOzs1WzZk0FBgZqzpw58vf3V+fOndW5c2cKeQAAAAAA7OhPj8z7+Pjo0qVLysrK4on1AAAAAABUIJsegNelSxdJUnJycrmEKYtGjRqZD9q7cho3blyx/RcvXlykr5eXV4XlBQAAAACgvNlUzMfGxsrLy0vTpk3Tf//73/LKVKpvv/1WJ0+eNKdNmzZJkoYOHVriOn5+flbrHD16tEKyAgAAAABgDzY9AO+pp55SYGCgUlJS1L59ezVt2lQhISGyWCxmH4vFovj4eJuDXla7dm2r+ZdeeklNmjRRjx49SlzHYrEoODi43DIAAAAAAOBINhXzW7duNS9dLygoUGJiohITE83lhmFYFfblLTc3V0uXLlVMTEyp+8nKylLDhg1VUFCgG264QS+++KJat25dYv+cnBzl5OSY85mZmeWaGwAAAAAAW9h0mb30R8FuGIbV5yvb7Gn16tVKT0/XqFGjSuzTokULLVq0SGvWrNHSpUtVUFCgbt26KSUlpcR1YmNj5e/vb07169e3Q3oAAAAAAP4cm0bm4+LiyivHn7Jw4UJFRUUpNDS0xD4RERGKiIgw57t166aWLVvq7bff1syZM4tdZ/LkyYqJiTHnMzMzKegBAAAAAJXGNRfzt99+uywWi2bPnq3o6GhJ0uzZsyVJw4YNq7B7048eParNmzdr1apV17Seu7u7OnbsqEOHDpXYx9PTU56enrZGBAAAAADALq65mL98n3xGRobZNmHCBFksFt14440VVszHxcWpTp066tu37zWtl5+frwMHDujOO++0UzIAAAAAAOzL5nvmHaGgoEBxcXGKjo6Wm5v17xEjR47U5MmTzfnnnntOn3/+uX799Vft27dP9913n44ePaqxY8dWdGwAAAAAAMqFTffMO8rmzZuVnJysMWPGFFmWnJwsF5f//UZx9uxZPfjgg0pNTVWNGjXUqVMnff3112rVqlVFRgYAAAAAoNw4ZTHfu3fvEp+Wv3XrVqv5119/Xa+//noFpAIAAAAAoGL86cvsi3uvuz3fKQ8AAAAAAP7wp0fmu3fvbjVvGEaRNumPAv/SpUt/djcAAAAAAKCQP13MX3mZ++UR+ZIufQcAAAAAAOXnTxXzhYt2ingAAAAAACrONRfzcXFx9sgBAAAAAADK6JqL+ejoaHvkAAAAAAAAZfSnn2YPAAAAAAAcg2IeAAAAAAAnQzEPAEAlNnfuXDVq1EheXl7q2rWrck4kODoSAACoBCjmAQCopD744APFxMRo2rRp2rdvn9q3b6/fPpyq/Ox0R0cDAAAORjEPAEAl9dprr+nBBx/U6NGj1apVK82fP18Wd09lHdjk6GgAAMDB/tR75gEAgH3l5uZq7969mjx5stnm4uIir0YdlHP852LXMS7lycjPM+fzL2ZLkjIzM8stV0HO+XLblr2V13FzzJUbx2wbZzlujtk2VfGYr+Tr6yuLxWKXbTsSxTwAAJXQ6dOnlZ+fr6CgIKt212oByjuTUuw6Gbs+VMZXy4u0169f3y4ZKzv/NxydoOJxzFUDx1w1cMzlJyMjQ35+fvbZuANRzAMAcJ3wv2mY/DoPNOcLCgpkXDwnF2+/Sj0iUZBzXsfnjVLdRxbLxbOaQ7McnBFZIfvJzMxU/fr1dezYsTL9A7PNtI0VkMq+KtN5Lsxe5/1az3NhznjeK/N5Lqy8zrut59kZOdsx+/r6OjqCXVDMAwBQCdWqVUuurq5KS0uzas8/ny5XnxrFrmNxc5fFzd2cd5Ek7+p2TFm+XDyrOfwf/xX9j1I/P78y7dPR30t5qgznuTB7n/eynufCKtv3dC0q43kurLzP+589z86sKh5zZcID8AAAqIQ8PDzUqVMnxcfHm20FBQW6eOR7edYNd2AyAABQGTAyDwBAJRUTE6Po6GjdeOON6tKli9544w0ZeRdVvW0vR0cDAAAORjEPAEAl9de//lWnTp3S1KlTlZqaqg4dOqjOsOdKvMzeWVlc3eV/8whZXN2v3vk64enpqWnTpsnT09PRUSoM57lq4DxXDVXxmCsji2EYhqNDVHaZmZny9/d3iqcgNpq03tERrmtHXurr6AjF4rzbF+e9auK8V02c96qJ8141VdbzDpQV98wDAAAAAOBkKOYBAAAAAHAyFPMAAAAAADgZinkAAAAAAJwMxTwAAAAAAE6GYh4AADjEpXOndXrt/9OxN0co+dVBOrFwnHJOJjo6lt00atRIFoulyDRu3DhHR7MboyBf6duXKGX+A0p+dZCOvz1W6V8t1/X+MqVz585pwoQJatiwoby9vdWtWzd9++23jo5Vri4eO6jfPpqhlLkjdXTWXTr/y06r5YZhKH3HUqXMuV/Jrw5S2opnlPf7cQelLR/bt29Xv379FBoaKovFotWrV1stX7VqlXr37q2aNWvKYrFo//79DslZnko75ry8PE2cOFFt27aVj4+PQkNDNXLkSJ04ccJxgasYpyrmp0+fXuQ/gOHh4aWus3LlSoWHh8vLy0tt27bVZ599VkFpAQBASfIvZil16VOSi5vqDJ2ukAf+pRq3PyAXr+qOjmY33377rU6ePGlOmzZtkiQNHTrUwcnsJ3P3xzq3/z8K/MvfFDp2ngJ6jFLmN6t0bu9aR0ezq7Fjx2rTpk1asmSJDhw4oN69e6tXr146fty5i9krGbkX5V6nsQL/8rdil2fu/liZe9cqMHKcgu9/VRZ3L/324VQZl3IrOGn5yc7OVvv27TV37twSl3fv3l2zZs2q4GT2U9oxnz9/Xvv27dOUKVO0b98+rVq1SgkJCbr77rsdkLRqcnN0gGvVunVrbd682Zx3cyv5EL7++muNGDFCsbGxuuuuu7Rs2TINGDBA+/btU5s2bSoiLgAAKEbmro/k5ldLtfpOMNvcA4IdF6gC1K5d22r+pZdeUpMmTdSjRw8HJbK/nOM/ybtpV1Vr0lmS5OYfpPM/bVfuyV8cnMx+Lly4oI8//lhr1qzRrbfeKumPAam1a9dq3rx5ev755x2csHx4N7lR3k1uLHaZYRg6t2eN/CP+qmrNbpIk1borRsfeuk/nf9kpn1bO+Wc+KipKUVFRJS6///77JUlHjhypoET2V9ox+/v7mz9KXjZnzhx16dJFycnJatCgQUVErNKcamRe+qN4Dw4ONqdatWqV2PfNN99Unz599OSTT6ply5aaOXOmbrjhBs2ZM6cCEwMAgMIuHNotj+BmOrU6Vsfeulcn4h7Tuf0bHB2rwuTm5mrp0qUaM2aMLBaLo+PYjWfdlrp49Hvz8urc337VxZQf5dW4k4OT2c+lS5eUn58vLy8vq3Zvb299+eWXDkpVsS5lpCk/+6y8G3Uw21w8feQZ2kI5J352XDDYXUZGhiwWiwICAhwdpUpwupH5xMREhYaGysvLSxEREYqNjS3xV5+dO3cqJibGqi0yMrLI/S2F5eTkKCcnx5zPzMy0OTcAAPifvPRU5X33mfw6D1BQxDDlnEzU2fgFsri6q3rbOxwdz+5Wr16t9PR0jRo1ytFR7MrvpiEqyDmvE+/8TXJxkQoKFHDr/are+jZHR7MbX19fRUREaObMmWrZsqWCgoK0fPly7dy5U02bNnV0vAqRn3VWkuTiE2DV7lotQPnZ6RUfCBXi4sWLmjhxokaMGCE/Pz9Hx6kSnGpkvmvXrlq8eLE2bNigefPmKSkpSbfccovOnTtXbP/U1FQFBQVZtQUFBSk1NbXU/cTGxsrf39+c6tevX27HAAAAJBmGPIOaqEaPaHkENZFvhz6q3j5S5/ZXjWfbLFy4UFFRUQoNDXV0FLs6/9MOZf+4VbX6PaGQUW+qZt/HlfnNJ8o6EO/oaHa1ZMkSGYahunXrytPTU7Nnz9aIESPk4uJU//QGyiwvL0/Dhg2TYRiaN2+eo+NUGU71N0pUVJSGDh2qdu3aKTIyUp999pnS09P14Ycflut+Jk+erIyMDHM6duxYuW4fAICqzrV6DbnXsr6yzr1mfeVnnnJQoopz9OhRbd68WWPHjnV0FLs7uzVO/jcNkU+rHvKo3UjV29wu3879lbFrpaOj2VWTJk20bds2ZWVl6dixY/rmm2+Ul5enxo0bOzpahXCtXkOSVFBoFD7/fLpcC43Ww/ldLuSPHj2qTZs2MSpfgZyqmC8sICBAzZs316FDh4pdHhwcrLS0NKu2tLQ0BQeX/oAdT09P+fn5WU0AAKD8eNZtpbzfU6za8n4/Lje/Og5KVHHi4uJUp04d9e3b19FR7M7Iy5Es1v/ctFhcJKPAQYkqlo+Pj0JCQnT27Flt3LhR/fv3d3SkCuHmHyRXnxq6eHS/2VaQc145JxLkGVr6m6jgXC4X8omJidq8ebNq1qzp6EhVitPdM3+lrKwsHT582HxyZGERERGKj4/XhAkTzLZNmzYpIiKighICAIDi+HXur9SlTypj54eqFt5duSd/Udb3GxQYOd7R0eyqoKBAcXFxio6OLvWNPNcL76ZdlPH1B3L1qy2PWg2Um3ZYmd+uVvV2f3F0NLvauHGjDMNQixYtdOjQIT355JMKDw/X6NGjHR2t3BTkXtClsyfN+UsZacpN+1Uu3tXl5ldHvjf2V8bXH8itRl25BQQpfcdSuVUPVLXmzvvv8KysLKtBxKSkJO3fv1+BgYFq0KCBfv/9dyUnJ5vvWU9ISJAk88Hdzqi0Yw4JCdGQIUO0b98+rVu3Tvn5+ebtzIGBgfLw8HBU7CrDqf4r8sQTT6hfv35q2LChTpw4oWnTpsnV1VUjRoyQJI0cOVJ169ZVbGysJOkf//iHevTooVdffVV9+/bVihUrtGfPHi1YsMCRhwEAQJXnGdJctQc+o/Rt7yn9q+Vy8w9SjdsfvK4fjCZJmzdvVnJyssaMGePoKBUisNfDSt+xVL9//i8VnM+Qa/VAVe8QpYCbhzs6ml1lZGRo8uTJSklJUWBgoAYPHqwXXnhB7u7ujo5WbnJTE5W2/Glz/uwX70qSfNrcoVp9H5df18Ey8i7qzMa3VHAxW171WqnOsOdkcXPeAm/Pnj267bb//R11+UHb0dHRWrx4sT799FOrH2yGD//jz/m0adM0ffr0Cs1aXko75unTp+vTTz+VJHXo0MFqvS1btqhnz54VFbPKcqpiPiUlRSNGjNCZM2dUu3Ztde/eXbt27TLf25qcnGz1YJFu3bpp2bJlevbZZ/X000+rWbNmWr16Ne+YBwCgEqjWtIuqNe3i6BgVqnfv3jIMw9ExKoyLZzUF9npIgb0ecnSUCjVs2DANGzbM0THsyqtBOzWcuK7E5RaLRQG33KeAW+6rwFT21bNnz1L//ztq1Kjr7g0VVzvmqvT3WWXkVMX8ihUrSl2+devWIm1Dhw7V0KFD7ZQIAAAAAICK59QPwAMAAAAAoCqimAcAAAAAwMlQzAMAAAAA4GQo5gEAAAAAcDIU8wAAAAAAOBmKeQAAAAAAnAzFPAAAAAAAToZiHgAAAAAAJ0MxDwAAAACAk6GYBwAAAADAyVDMAwAAAADgZCjmAQAAAABwMhTzAAAAAAA4GYp5AAAAAACcDMU8AAAAAABOhmIeAAAAAAAnQzEPAAAAAICToZgHAAAAAMDJUMwDAAAAAOBkKOYBAAAAAHAyFPMAAAAAADgZinkAAAAAAJyMm6MDAAAAAACkRpPWOzrCde/IS30dHaHcMDIPAAAAAICToZgHAAAAAMDJOFUxHxsbq86dO8vX11d16tTRgAEDlJCQUOo6ixcvlsVisZq8vLwqKDEAAAAAAOXPqYr5bdu2ady4cdq1a5c2bdqkvLw89e7dW9nZ2aWu5+fnp5MnT5rT0aNHKygxAAAAAADlz6kegLdhwwar+cWLF6tOnTrau3evbr311hLXs1gsCg4Otnc8AAAAAAAqhFONzBeWkZEhSQoMDCy1X1ZWlho2bKj69eurf//++u9//1tq/5ycHGVmZlpNAAAAAABUFk5bzBcUFGjChAm6+eab1aZNmxL7tWjRQosWLdKaNWu0dOlSFRQUqFu3bkpJSSlxndjYWPn7+5tT/fr17XEIAAAAAAD8KU5bzI8bN04HDx7UihUrSu0XERGhkSNHqkOHDurRo4dWrVql2rVr6+233y5xncmTJysjI8Ocjh07Vt7xAQAAAAD405zqnvnLxo8fr3Xr1mn79u2qV6/eNa3r7u6ujh076tChQyX28fT0lKenp60xAQAAAACwC6camTcMQ+PHj9cnn3yiL774QmFhYde8jfz8fB04cEAhISF2SAgAAAAAgP051cj8uHHjtGzZMq1Zs0a+vr5KTU2VJPn7+8vb21uSNHLkSNWtW1exsbGSpOeee0433XSTmjZtqvT0dL3yyis6evSoxo4d67DjAAAAAADAFk5VzM+bN0+S1LNnT6v2uLg4jRo1SpKUnJwsF5f/XXBw9uxZPfjgg0pNTVWNGjXUqVMnff3112rVqlVFxQYAAAAAoFw5VTFvGMZV+2zdutVq/vXXX9frr79up0QAAAAAAFQ8p7pnHgAAAAAAUMwDAAAAAOB0KOYBAAAAAHAyFPMAAAAAADgZinkAAAAAAJwMxTwAAAAAAE6GYh4AAAAAACdDMQ8AAAAAgJOhmAcAAAAAwMlQzAMAAAAA4GQo5gEAAAAAcDIU8wAAAAAAOBmKeQAAAAAAnAzFPAAAAAAAToZiHgAAAAAAJ0MxDwAAAACAk6GYBwAAAADAyVDMAwAAAADgZCjmAQAAAABwMhTzAAAAAAA4GYp5AAAAAACcDMU8AAAAAABOhmIeAAAAAAAnQzEPAAAAAICToZgHAAAAAMDJOGUxP3fuXDVq1EheXl7q2rWrvvnmm1L7r1y5UuHh4fLy8lLbtm312WefVVBSAAAAAADKn9MV8x988IFiYmI0bdo07du3T+3bt1dkZKR+++23Yvt//fXXGjFihB544AF99913GjBggAYMGKCDBw9WcHIAAAAAAMqH0xXzr732mh588EGNHj1arVq10vz581WtWjUtWrSo2P5vvvmm+vTpoyeffFItW7bUzJkzdcMNN2jOnDkVnBwAAAAAgPLh5ugA1yI3N1d79+7V5MmTzTYXFxf16tVLO3fuLHadnTt3KiYmxqotMjJSq1evLnE/OTk5ysnJMeczMjIkSZmZmTakrxgFOecdHeG6Vln/DHDe7YvzXjVx3qsmznvVxHmvmirjeeec219lPO8l8fX1lcViKXG5UxXzp0+fVn5+voKCgqzag4KC9PPPPxe7TmpqarH9U1NTS9xPbGysZsyYUaS9fv36fyI1rif+bzg6ARyB8141cd6rJs571cR5r5o471WTM533jIwM+fn5lbjcqYr5ijJ58mSr0fyCggL9/vvvqlmzZqm/jODaZGZmqn79+jp27Fipf0hxfeG8V02c96qJ8141cd6rJs571cM5tz9fX99SlztVMV+rVi25uroqLS3Nqj0tLU3BwcHFrhMcHHxN/SXJ09NTnp6eVm0BAQF/LjSuys/Pj78AqiDOe9XEea+aOO9VE+e9auK8Vz2cc8dxqgfgeXh4qFOnToqPjzfbCgoKFB8fr4iIiGLXiYiIsOovSZs2bSqxPwAAAAAAlZ1TjcxLUkxMjKKjo3XjjTeqS5cueuONN5Sdna3Ro0dLkkaOHKm6desqNjZWkvSPf/xDPXr00Kuvvqq+fftqxYoV2rNnjxYsWODIwwAAAAAA4E9zumL+r3/9q06dOqWpU6cqNTVVHTp00IYNG8yH3CUnJ8vF5X8XHHTr1k3Lli3Ts88+q6efflrNmjXT6tWr1aZNG0cdAv6Pp6enpk2bVuSWBlzfOO9VE+e9auK8V02c96qJ8171cM4dz2IYhuHoEAAAAAAAoOyc6p55AAAAAABAMQ8AAAAAgNOhmAcAAAAAwMlQzAMAAAAA4GQo5uEQx48f13333aeaNWvK29tbbdu21Z49exwdC3bUqFEjWSyWItO4ceMcHQ12lJ+frylTpigsLEze3t5q0qSJZs6cKZ69en07d+6cJkyYoIYNG8rb21vdunXTt99+6+hYKEfbt29Xv379FBoaKovFotWrV1stNwxDU6dOVUhIiLy9vdWrVy8lJiY6JizKzdXO+6pVq9S7d2/VrFlTFotF+/fvd0hOlK/SznteXp4mTpyotm3bysfHR6GhoRo5cqROnDjhuMBVCMU8KtzZs2d18803y93dXf/5z3/0448/6tVXX1WNGjUcHQ129O233+rkyZPmtGnTJknS0KFDHZwM9jRr1izNmzdPc+bM0U8//aRZs2bp5Zdf1ltvveXoaLCjsWPHatOmTVqyZIkOHDig3r17q1evXjp+/Lijo6GcZGdnq3379po7d26xy19++WXNnj1b8+fP1+7du+Xj46PIyEhdvHixgpOiPF3tvGdnZ6t79+6aNWtWBSeDPZV23s+fP699+/ZpypQp2rdvn1atWqWEhATdfffdDkha9fBqOlS4SZMm6auvvtKOHTscHQUONGHCBK1bt06JiYmyWCyOjgM7ueuuuxQUFKSFCxeabYMHD5a3t7eWLl3qwGSwlwsXLsjX11dr1qxR3759zfZOnTopKipKzz//vAPTwR4sFos++eQTDRgwQNIfo/KhoaH65z//qSeeeEKSlJGRoaCgIC1evFjDhw93YFqUl8Ln/UpHjhxRWFiYvvvuO3Xo0KHCs8F+Sjvvl3377bfq0qWLjh49qgYNGlRcuCqIkXlUuE8//VQ33nijhg4dqjp16qhjx4565513HB0LFSg3N1dLly7VmDFjKOSvc926dVN8fLx++eUXSdL333+vL7/8UlFRUQ5OBnu5dOmS8vPz5eXlZdXu7e2tL7/80kGpUJGSkpKUmpqqXr16mW3+/v7q2rWrdu7c6cBkACpCRkaGLBaLAgICHB3lukcxjwr366+/at68eWrWrJk2btyoRx55RI899pjee+89R0dDBVm9erXS09M1atQoR0eBnU2aNEnDhw9XeHi43N3d1bFjR02YMEH33nuvo6PBTnx9fRUREaGZM2fqxIkTys/P19KlS7Vz506dPHnS0fFQAVJTUyVJQUFBVu1BQUHmMgDXp4sXL2rixIkaMWKE/Pz8HB3nuufm6ACoegoKCnTjjTfqxRdflCR17NhRBw8e1Pz58xUdHe3gdKgICxcuVFRUlEJDQx0dBXb24Ycf6v3339eyZcvUunVr7d+/XxMmTFBoaCj/f7+OLVmyRGPGjFHdunXl6uqqG264QSNGjNDevXsdHQ0AYCd5eXkaNmyYDMPQvHnzHB2nSmBkHhUuJCRErVq1smpr2bKlkpOTHZQIFeno0aPavHmzxo4d6+goqABPPvmkOTrftm1b3X///Xr88ccVGxvr6GiwoyZNmmjbtm3KysrSsWPH9M033ygvL0+NGzd2dDRUgODgYElSWlqaVXtaWpq5DMD15XIhf/ToUW3atIlR+QpCMY8Kd/PNNyshIcGq7ZdfflHDhg0dlAgVKS4uTnXq1LF6MBauX+fPn5eLi/V/alxdXVVQUOCgRKhIPj4+CgkJ0dmzZ7Vx40b179/f0ZFQAcLCwhQcHKz4+HizLTMzU7t371ZERIQDkwGwh8uFfGJiojZv3qyaNWs6OlKVwWX2qHCPP/64unXrphdffFHDhg3TN998owULFmjBggWOjgY7KygoUFxcnKKjo+Xmxl8/VUG/fv30wgsvqEGDBmrdurW+++47vfbaaxozZoyjo8GONm7cKMMw1KJFCx06dEhPPvmkwsPDNXr0aEdHQznJysrSoUOHzPmkpCTt379fgYGBatCggSZMmKDnn39ezZo1U1hYmKZMmaLQ0NBSn4CNyu9q5/33339XcnKy+Y7xy4M3wcHBXJXhxEo77yEhIRoyZIj27dundevWKT8/33w2RmBgoDw8PBwVu2owAAdYu3at0aZNG8PT09MIDw83FixY4OhIqAAbN240JBkJCQmOjoIKkpmZafzjH/8wGjRoYHh5eRmNGzc2nnnmGSMnJ8fR0WBHH3zwgdG4cWPDw8PDCA4ONsaNG2ekp6c7OhbK0ZYtWwxJRabo6GjDMAyjoKDAmDJlihEUFGR4enoad9xxB3/3Xweudt7j4uKKXT5t2jSH5oZtSjvvSUlJxS6TZGzZssXR0a97vGceAAAAAAAnwz3zAAAAAAA4GYp5AAAAAACcDMU8AAAAAABOhmIeAAAAAAAnQzEPAAAAAICToZgHAAAAAMDJUMwDAAAAAOBkKOYBAAAAAHAyFPMAADghi8ViTkeOHHF0nHJx/vx5TZ48WU2bNpWnp6d5fAAAoCiKeQBAlbV48WKrorh3795F+jRq1MhcPn/+fAekrDomTZqkl156SYcPH1Zubq6j4wAAUKlRzAMA8H82bdqkbdu2OTpGlfXJJ5+Yn5999llt375dO3bscGAiAAAqLzdHBwAAoDJ5+umn9dVXXzk6RqWXnZ0tHx+fct3m8ePHzc9jxoxRWFhYuW4fAIDrCSPzAABc4euvv9b69euv2m/UqFHm5ffTp0+3Wnblpflbt24123v27Gm2x8XF6dVXX1Xjxo3l7e2tLl26KD4+XpK0YcMGde3aVd7e3qpbt66efvpp5efnl5glJydHU6dOVaNGjeTl5aXWrVtr4cKFxfb9/PPP1b9/fwUHB8vDw0O1a9fW3XffXewI+JXH8fnnn2vatGlq3Lix3Nzc9M4771z1O/r111/1yCOPqGnTpvLy8lL16tXVvn17TZ06Venp6UW+S8MwzLbGjRvLYrGoZ8+epe7jylslevbsqd27d+vWW29VtWrVVK9ePU2fPl35+flKTU3V/fffr8DAQFWvXl19+/bV4cOHi2wvLS1NTz75pFq1aqVq1arJ29tb4eHhevzxx3XixAmz39tvv23uNzIyssh27rjjDnP5ggULzPbff/9dU6ZMUfv27VW9enV5e3urdevWmj59urKysqy2kZOTo+eee07t27eXj4+PPDw8FBwcrIiICD322GNKTU292ikAAFzPDAAAqqi4uDhDkiHJqFmzptG0aVNDktGhQwejoKDAMAzDaNiwodln3rx55rrR0dFm+7Rp06y2e+U6W7ZsMdt79Ohhtjdv3tz8fHlyd3c3Zs6caVgsliLLYmNjrfZx5bKOHTsW6S/JePHFF63WmThxYrH9JBkuLi5Wx1f4OJo1a2bV//XXXy/1u926datRvXr1EvcXFhZmpKSkFPkuC089evQo8zmsV6+eUa1atSLbePjhh43GjRsXaW/VqpWRn59vbuvHH3806tSpU2KWWrVqGd9//71hGIaRkZFh7svV1dVITU01t3P8+HHDxcXFkGT4+PgYmZmZhmEYRmJiolGvXr0St9+mTRvjzJkz5nZGjhxZYl9Jxs6dO0v9bgAA1zdG5gEAkOTm5qYZM2ZIkvbv36+VK1fadX+HDh3StGnTtH79erVs2VKSlJeXpylTpuj222/X2rVr9eCDD5r933zzzRK39euvv2rOnDlau3at+vbta7ZPnTpVR48elST95z//0axZsyRJ3t7eevnll7Vp0ya9+uqr8vT0VEFBgf7+97/rl19+KXYfiYmJGj16tNatW6cPP/xQnTp1KjHPxYsXdc8995gjzV26dNGqVav073//W3Xr1pUkJSUl6aGHHpIkPfPMM0WuDFi5cqV27Niht956q8T9FJaSkqKIiAitXbtWjzzyiNn+9ttvKz09XYsWLdKSJUvk7e0tSfrxxx+1adMms999992n3377TZLUrFkzLV++XCtXrlSrVq0kSadPn9a9996rgoIC+fn5aciQIZKk/Px8ffDBB+Z2VqxYoYKCAknS0KFD5evra24/JSVFknTbbbfpk08+0dq1a9WjRw9J0sGDBzVhwgRzOx9//LEkyd/fX3Fxcfriiy+0YsUKTZ8+XZ07d5aLC/+MA4AqzdG/JgAA4ChXjuoGBQUZ+fn5Rtu2bQ1JRosWLYxLly7ZbWR+2LBhZvvLL79stnt5eZmjs6dOnbIaib08wmsY1iPzc+fONdvPnz9v1K5d21z22muvGYZhGIMHDzbb7r//fmPHjh3mdOedd5rLJk2aVOxxDBo0qMzf65o1a8z1PDw8jBMnTpjL1q1bZy6zWCxGWlpasceUlJRUpn1deQ6v/O5+++03q+3961//Mtfp27ev2T579mzDMAzj+++/t+q/d+9es//Bgwetln3zzTeGYRjGtm3bzLYuXbqY/W+44QazfceOHYZhGMaBAwesrsDYuHGj+f1/9NFHVsvOnTtnGIZhhIaGGpKM0NBQ46uvvjKysrLKfA4AANc/ftIFAOD/uLi4aObMmZKkhIQE/fvf/7bbvrp162Z+rlmzpvm5RYsWCgwMlCTVqlXLap3ff/+92G11797d/Ozt7W01ap6YmCjpj1Hoy5YsWaJbbrnFnD777DNz2cGDB4vdx+DBg696TJf9/PPP5ucmTZooJCSk2KyGYSghIaHM272a8PBw87u78juVpIiICPPzld/r5e/0ysze3t664YYbzPnWrVsrICDAnL/c99Zbb1WzZs0kSd98840OHTqkhIQE7du3T9If5/Ly8V75/efl5SkyMtL8/i+P8F9edvk7+dvf/iZJOnHihG6++WZVr15d9erVU//+/a2uBAAAVE0U8wAAXKF///7q0qWLJGnGjBklvu/cYrGYny9dumS17PTp01fdj7+/v/n5ysulrywaCzOueECcvRR+CNtlVxbklVVJ36lU8vdq63c6evRo8/P777+vZcuWmfNjxoz5U9u8fA6mTJmiTz/9VNHR0erYsaOqV6+u48eP69NPP9Xw4cNLvfUCAHD9o5gHAKCQF154QZJ09OhRnTx5stg+NWrUMD9fvg9akr744gtlZ2fbN2AhV75K7+LFi+bIsCQ1bdpUksz78iVp8uTJMgyjyJSfn6///Oc/xe7jyh8vriY8PNz8fPjwYaunrl+Z1WKxqEWLFmXerj1dmfnChQv67rvvzPkff/zR6un7V/aNjo6Wq6urJOti3s3NTdHR0Wa/K79/b29vpaenF3sOsrKyzHvoDcNQv379tHjxYu3bt0+ZmZn68MMPze0sX768nI4eAOCMeM88AACF9OrVS7fddpu2bNlSYp/mzZubn5cvX66wsDB5eXnplVdeqYiIVp5++mlJUoMGDfT222+bD3FzdXXVoEGDJEkPPPCAVq1aJUl65ZVXVFBQoFtvvVUuLi5KTk7WDz/8oDVr1mjJkiVXfR3c1fTu3VuhoaE6ceKEcnNzNXDgQE2cOFFZWVmaPHmy2S8qKkp16tSxaV/lpV27drrhhhvMH0JGjBihGTNmyNXV1XwwoiS1adPG6jaG0NBQRUVFad26deYtDZJ01113KSgoyJxv27atOnfurG+//VYXLlzQ7bffrscee0z169fXqVOnlJSUpC+++EIFBQXavHmzpD9uSQgPD1dERIRCQ0Pl7u6uDRs2mNu8ePGi3b4PAEDlRzEPAEAxXnjhBav72gu755579Oyzz+rMmTPKzc013zVfr149BQQEWI3k2ltwcLAeffTRIu3Tp09Xo0aNJEl33nmnnnrqKb388su6dOmSZs2aZT7dvrx5eXlp2bJluuuuu5SVlaVdu3Zp4MCBVn3CwsL09ttv22X/f9aSJUt022236bffflNCQoKGDx9utbxmzZp6//33i1zC/8ADD2jdunVF2gp7//33dfvttyslJUX79u3TqFGjivS5PCovSWfOnNGiRYu0aNGiYvNeOfIPAKh6uMweAIBiRERE6K677ipxuZ+fnz777DN1795dnp6eCgwM1P3336/du3db3btdET766CP985//VL169eTh4aGWLVvq7bff1rPPPmvVb9asWfr88881cOBAhYSEyN3dXTVq1FCrVq00cuRIffTRR7rpppvKJVOPHj20f/9+Pfzww2rcuLE8PDzk7e2ttm3b6tlnn9W+fftUr169ctlXeWnVqpV++OEH/fOf/1R4eLi8vLzk5eWl5s2b6x//+Id++OEHtWvXrsh6hUfhL4/WF9asWTP98MMPmjp1qnkPvKenpxo0aKBbb71VL7zwgubPn2/2nzRpkoYOHaqmTZvKz89Prq6uCgwMVM+ePbVkyRI9/vjj9vkiAABOwWJUxNN0AAAAAABAuWFkHgAAAAAAJ0MxDwAAAACAk6GYBwAAAADAyVDMAwAAAADgZCjmAQAAAABwMhTzAAAAAAA4GYp5AAAAAACcDMU8AAAAAABOhmIeAAAAAAAnQzEPAAAAAICToZgHAAAAAMDJUMwDAAAAAOBk/j/7/V2/yFP9LAAAAABJRU5ErkJggg==",
      "text/plain": [
       "<Figure size 1000x400 with 2 Axes>"
      ]
     },
     "metadata": {},
     "output_type": "display_data"
    }
   ],
   "source": [
    "histo_data_7 = data_all[\"7.0\"]\n",
    "print(histo_data_7, set(histo_data_7), len(histo_data_7))\n",
    "figure = plt.figure(constrained_layout=True, figsize=(10,4))\n",
    "gs = figure.add_gridspec(nrows=1, ncols=1, left=0.05, right=0.48, wspace=0.05)\n",
    "ax = figure.add_subplot(gs[0,0])\n",
    "#ax.set_yscale(\"log\")\n",
    "ax.spines[\"right\"].set_visible(False)\n",
    "ax.spines[\"top\"].set_visible(False)\n",
    "ax.set_xlabel(r\"Number of moves\", weight='bold', fontsize=13)\n",
    "ax.set_ylabel(r\"Frequencies\", weight=\"bold\", fontsize=13)\n",
    "ax.bar(list(set(histo_data_7)), [histo_data_7.count(s) for s in list(set(histo_data_7))],  width=.7, align='center')\n",
    "plt.title(\"Puzzle Level \"+str(level), fontsize=17,weight=\"bold\")\n",
    "ax2 = plt.axes([0.5, 0.35, 0.45, 0.5])\n",
    "ax2.spines[\"right\"].set_visible(False)\n",
    "ax2.spines[\"top\"].set_visible(False)\n",
    "histo_data = np.array(histo_data_7)\n",
    "plot_data = histo_data[histo_data<25].tolist()\n",
    "ax2.bar(list(set(plot_data)), [plot_data.count(s) for s in sorted(set(plot_data))],  width=.7, align='center')\n"
   ]
  },
  {
   "cell_type": "code",
<<<<<<< HEAD
   "execution_count": 77,
=======
   "execution_count": 158,
>>>>>>> miguel
   "id": "fd9283d8-2578-4187-b122-82c1c21ece54",
   "metadata": {},
   "outputs": [
    {
     "name": "stdout",
     "output_type": "stream",
     "text": [
<<<<<<< HEAD
      "[12, 6, 7, 10, 16, 10, 9, 11, 10, 7, 9, 8, 8, 7, 12, 12, 7, 11, 9, 8, 7, 9, 11, 8, 11, 9, 9, 9, 8, 18, 7, 24, 8, 8, 6, 14, 14, 11, 11, 11, 9, 8, 27, 8, 11, 11, 10, 10, 7, 10, 8, 7, 6, 9, 11, 9, 7, 7, 10, 8, 13, 10, 12, 6, 12, 9, 11, 6, 17, 14, 9, 14, 13, 8, 10, 7, 25, 9, 11, 13, 9, 6, 10, 11, 8, 11, 10, 6, 6, 13, 11, 7, 11, 10, 8, 8, 28, 9, 8, 7, 12, 6, 10, 7, 9, 7, 9, 12, 7, 9, 12, 11, 22, 13, 12, 11, 8, 10, 8, 11, 10, 10, 10, 7, 8, 13, 11, 6, 23, 6, 20, 11, 8, 8, 6, 11, 23, 8, 13, 9, 11, 8, 11, 12, 10, 7, 15, 12, 12, 10] {6, 7, 8, 9, 10, 11, 12, 13, 14, 15, 16, 17, 18, 20, 22, 23, 24, 25, 27, 28} 150\n"
=======
      "[12, 12, 8, 13, 15, 11, 6, 9, 7, 7, 7, 9, 13, 7, 8, 9, 8, 11, 12, 9, 8, 10, 12, 9, 9, 10, 9, 12, 8, 9, 6, 13, 15, 14, 9, 12, 12, 7, 8, 7, 9, 10, 9, 9, 7, 7, 10, 8, 8, 10, 11, 7, 11, 7, 9, 10, 11, 11, 9, 8, 9, 7, 11, 10, 10, 13, 12, 9, 8, 6, 11, 12, 10, 7, 10, 10, 14, 10, 9, 7, 6, 10, 11, 12, 10, 10, 10, 6, 8, 12, 10, 6, 15, 11, 11, 6, 8, 8, 8, 10, 6, 10, 8, 7, 13, 10, 12, 8, 12, 6, 9, 7, 11, 13, 8, 7, 15, 8, 10, 10, 7, 8, 9, 9, 9, 11, 11, 8, 7, 17, 11, 7, 11, 6, 15, 8, 9, 6, 9, 6, 7, 6, 10, 11, 8, 8, 8, 8, 6] {6, 7, 8, 9, 10, 11, 12, 13, 14, 15, 17} 149\n"
>>>>>>> miguel
     ]
    },
    {
     "data": {
      "image/png": "iVBORw0KGgoAAAANSUhEUgAAA/MAAAGbCAYAAACIxMC9AAAAOXRFWHRTb2Z0d2FyZQBNYXRwbG90bGliIHZlcnNpb24zLjguMywgaHR0cHM6Ly9tYXRwbG90bGliLm9yZy/H5lhTAAAACXBIWXMAAA9hAAAPYQGoP6dpAABOD0lEQVR4nO3de3zP9f//8fvbZoccNpvsgDHHOSehIYfyMZKcC2Ho9JHqg3JY5dTB0K/yKT6kRCkqFUIplEM5hSQfNaM525TaxjCzvX5/9PX67L0z722vvbhdL5fXpb2er+fr9bq/X3tfXHrs+Xo9Xw7DMAwBAAAAAADbKGV1AAAAAAAAcHUo5gEAAAAAsBmKeQAAAAAAbIZiHgAAAAAAm6GYBwAAAADAZijmAQAAAACwGYp5AAAAAABshmIeAAAAAACboZgHAAAAAMBmKOYBALgOTJ48WQ6Hw1yGDBlidaQbRvv27Z2u/cKFC62OBAC4AVDMAwCuO9WrV3cqrjIvpUqVkq+vrxo1aqRHH31UO3bssDrudSPrtZ48ebLVkWxn586deuihh1SzZk3ddNNN8vHxUePGjTVu3DidPHnS6ngAgBKEYh4AcEMxDENJSUnat2+f5s2bp5YtW+qxxx5TRkaG1dFwg3v22WfVsmVLzZ8/X7/99psuXLig5ORk/fzzz5oxY4bCwsK0fPlyq2MCAEoIinkAwA1vzpw5mjRpktUxcAObPn26pk6dmucflc6ePav77rtP3333XTEmAwCUVBTzAIDrXu/evRUXF6e4uDjt2bNH06dPl6enp1Of//f//p/OnTtnUULcyH777bdsf0waPHiwfvrpJ23evFnNmzc329PS0vTII49wJwkAgGIeAHD9K1u2rKpXr67q1aurSZMmGjt2rMaNG+fU5+LFi9q2bZu5XpBJzbI+m79hwwZzW9YJ6fJa2rdvn+sx81quZaK1tLQ0LViwQPfcc4+Cg4Pl6ekpX19fNWvWTBMnTtQff/xx1ccsTOvXr9fAgQNVs2ZNlSlTRmXKlFGdOnX06KOPav/+/dn6P/bYY07X5JlnnsnxuO+8845Tv3bt2mXrc/z4cT3zzDNq3ry5/Pz85OHhocDAQN1zzz1asmRJkRXQ8+bNU2pqqrlep04dvfPOO2rcuLHatGmjpUuXqlSp//0v2y+//KJ169YVSRYAgH1QzAMAbkgtWrTI1vb7779bkKT4HDhwQLfccouGDRum1atX69SpU7p06ZKSkpK0e/duvfDCC6pTp47Wr19f7NnOnj2rXr16qWPHjvrggw/022+/6fz58zp//rxiY2M1b948NWrUSC+//LLTfoMGDXJaX7p0aY7Hz9o+ePBgp/X58+erVq1aio6O1s6dO/XXX38pLS1NCQkJWr16tQYMGKC77rpLf/75ZyF8WmdZn4Pv3r273NzczPVq1arp1ltvdeqzbNmyQs8BALAXinkAwA3p119/zdbm6+tb/EGKSUJCgu66664cR7cz++uvv9StWzft3bu3mJJJGRkZ6tu3b74FakZGhsaOHau33nrLbAsPD1etWrXM9YMHD2rPnj1O+/31119Of6Dw8vJSnz59zPUPPvhADz30kNPoeE42bNigXr166fLlywX5WAVy9uxZHThwwKmtfv362fplbdu1a1ehZQAA2BPFPADghpKUlKRPP/1UL774olO7m5ubWrZsWWjnGTlypPmcfuYl68iyJD388MPmz9999122fQ4dOqTw8HCnfUJCQhQREVHgPM8++6yOHz9urjds2FCffPKJfvnlF23atEn33nuvue3ChQt64oknrubjumTx4sX66quvzHVfX1/Nnj1be/fu1e7duzV+/Hin/k8//bQSExPN9YEDBzptzzoKv3z5cqWlpZnr9957r3x8fCRJycnJevLJJ536Dx06VN99953279+vxYsXq0qVKua2jRs3atGiRdf2QXNw9OhRGYbh1FapUqVs/W6++Wan9SNHjhRaBgCAPblbHQAAgKL27rvv6t13382zz7Bhw+Tn51do5/T19c020r9t2zZNmDDBqe2FF17QAw88YK5nLhyvGDlypLZu3Wqu+/j4aPXq1QoKCipQlgsXLuj999831z08PPT111+b+4eFhSk8PFyVK1fW6dOnJUmbNm1SbGysateuXaBzuCLzSLv09y3vvXr1MtebNm2qAwcO6LPPPpP0dwG+dOlS848gAwcOdHqn/dKlS/XSSy85rWeW+db8Tz/91OnW+W7duumdd94x1+vVq6eyZcs6/bHj7bff1tChQ6/lo2aTnJycrc3Lyytbm7e3t9N6UlJSoZwfAGBfjMwDAG54nTp10r///e8iPcdvv/2me++9VxcvXjTbhg0bpueeey7P/WbNmuWUrXTp0vr000/VsGHDAp/7hx9+cLqF/NKlSwoODnaaEK506dJmIX/Fli1bCnyOa3X58mWniQelv98+kHWyvyuFfE7ZatasqVatWpnrsbGx5q32iYmJTrfY33zzzercubO5vnnzZqfjrly5Mtu5Mxfy0t/XszBvtc8q60h9bm0AgBsbxTwA4IZUtmxZc7K1NWvWZBv5LEx//fWXunbt6jTBXseOHTV37tw891u1apVGjhzp1DZv3jzdddddV3X++Pj4q+rv6n5X488//9SlS5euer+s2XKbCG/FihVOx+/Xr5/c3f93Y+K1fMa0tDSdOXPmqvfLSfny5bO1Zf6DT25tVx4TAADcuCjmAQDXvczvmT9y5IjOnDmj5ORkrV27VgMGDJDD4cj3GOnp6dnaCjKz+aVLl9SzZ0+nCfcaNmyoTz/9VKVLl851v927d6tfv35O550wYYKGDBmS7zkLy4ULF4rtXFcra7b77rtPHh4e5vqVYj6vW+wL8/zXKiQkJNv3L+sdEjm1VatWrVDODwCwL56ZBwBc9668Z/5qZB69laTz5887rcfHx+vs2bP5Huehhx7Sxo0bzfWgoCB98cUXOY7IXnH8+HF169ZNKSkpZtugQYP0/PPPFzS+k8DAQKd1X19f7d69O98/YhTH7P7+/v4qXbq00wR1X3zxherVq5fnflmfK/fz89Pdd99tvuYtNjZWGzdu1Nq1a80+YWFhat68udN+Wa/NsGHDss1rkJOc5ja4FuXKlVOdOnUUExNjtuX0xoGsbc2aNSuU8wMA7IuReQAAcpD1NubMxZb09+3u+ZkyZYrTzOdly5bV6tWrVbVq1Vz3OXv2rLp27aqTJ0+abR06dNDbb79d0OjZNG/eXJ6enuZ6YmKifvzxR1WvXj3HpVKlStq2bVuxFPNubm66/fbbndq+/PLLXLNVq1ZNP/30k9Mo/BVZR90feeQRp1vscxqVb9OmjdP6unXr5Ovrm+v5L126pGPHjmX7Y48revTo4bS+YsUKpzsy4uLi9OOPP+a5DwDgxsPIPAAAOWjYsKHTpGtvv/22mjZtqlatWmnt2rVOs6Xn5P3333eaYV2Spk2bpgoVKujw4cNO7V5eXgoMDFR6err69u3r9I734OBgvfrqq07F/RUVK1ZU2bJl8/0s3t7eGjhwoObPn2+2DR48WD/99JMiIiJ08803KykpSfv379f69eu1YsUK+fr6ql+/fvkeOy+JiYnZPmtmgYGB8vLy0iOPPOI0Ed0bb7yhpKQkDRo0SFWrVlVqaqoOHjyo77//Xp9++qmOHDmiuLi4bG8f6Nq1qypUqKC//vpLkpze3+5wOJzeGnBFnz599PTTT5v7HD16VHfccYfGjRunRo0aydPTU6dOndKuXbu0cuVKbd68WRMnTtQdd9zhyqVx8sgjj2jmzJnmJIWxsbEaOnSonn76aSUlJWn06NHKyMgw+9erV0//+Mc/Cu38AACbMgAAuM5Uq1bNkGQukZGRV32MvXv3Oh0jp8XhcDitf/vtt+b+7dq1y3f/K0u7du0MwzCMuLi4Au8jyViwYIF5vkmTJuX5mU+dOmVUqVKlwMeuVq3aVV+zq8me+Xqlp6cbnTp1uqp94+Licszw6KOP5nmNc7Jo0aKrOvekSZOc9s/6u878eymo6OjoAp27dOnSxubNm6/6+ACA6w+32QMAkINGjRrpySefzHX7hAkTFBISUoyJXBMYGKj169cX+JV2lStXLuJE/1OqVCl98skn6t27d4H6+/n55fr2gdwmuMtr4ruBAwfq7bffzvH97jllzfqcfWEYP368oqKi8pzHoGzZsvroo4+yPRoAALgxUcwDAJCLmTNn6o033jBvt/b19VVERITWrl17zZPRWalOnTr68ccf9f7776tHjx6qUqWKvLy85OHhoaCgILVv317PPPOMtmzZou+//75Ys5UrV06ffPKJNmzYoKFDh6pOnToqW7as3N3d5efnp+bNm2v48OFasWKFTp06pYCAgByP07p1a9WoUcOpzcvLS3369Mnz/A8++KAOHTqkiRMnqlWrVvL395e7u7vKlCmj2rVrq3fv3po1a5aOHj2qf/7zn4X2uTObOnWqtm/frqFDhyo0NFReXl4qV66cGjZsqLFjxyomJkY9e/YsknMDAOzHYRiGYXUIAAAAAABQcIzMAwAAAABgMxTzAAAAAADYDMU8AAAAAAA2QzEPAAAAAIDNUMwDAAAAAGAzFPMAAAAAANjMDVfMG4ah5ORk8UY+AAAAAIBd3XDF/NmzZ+Xj46OzZ89aHQUAAAAAgGtywxXzAAAAAADYHcU8AAAAAAA2QzEPAAAAAIDNUMwDAAAAAGAzFPMAAAAAANgMxTwAAAAAADZDMQ8AAAAAgM1QzAMAAAAAYDMU8wAAAAAA2AzFPAAAAAAANlOiivno6Gg1b95c5cqVU6VKldSjRw/FxMQ49Wnfvr0cDofT8s9//tOixAAAAAAAFL8SVcxv3LhRI0aM0LZt27R27VqlpaWpU6dOSklJcer38MMP69SpU+YyY8YMixIDAAAAAFD83K0OkNmaNWuc1hcuXKhKlSpp165datu2rdl+0003KTAwsLjjAQAAAABQIpSokfmskpKSJEl+fn5O7R988IEqVqyohg0bKioqSufPn8/1GKmpqUpOTnZaAAAAAACwsxI1Mp9ZRkaGRo4cqdatW6thw4Zm+4ABA1StWjUFBwdr7969GjdunGJiYvTZZ5/leJzo6GhNmTKluGIDJU718autjlAsDk/ranUEAAAAoNg4DMMwrA6Rk+HDh+vLL7/Ud999pypVquTa75tvvtFdd92lgwcPqmbNmtm2p6amKjU11VxPTk5W1apVlZSUpPLlyxdJdqAkoZgHAAAArj8lcmT+8ccf16pVq7Rp06Y8C3lJatmypSTlWsx7enrK09OzSHICAAAAAGCFElXMG4ahJ554QsuWLdOGDRsUGhqa7z579uyRJAUFBRVxOgAAAAAASoYSVcyPGDFCixcv1ooVK1SuXDnFx8dLknx8fOTt7a1Dhw5p8eLFuvvuu+Xv76+9e/dq1KhRatu2rRo3bmxxegAAAAAAikeJKubnzJkjSWrfvr1T+4IFCzRkyBB5eHho3bp1mjlzplJSUlS1alX17t1bzz33nAVpAQAAAACwRokq5vObi69q1arauHFjMaUBAAAAAKBkKtHvmQcAAAAAANlRzAMAAAAAYDMU8wAAAAAA2AzFPAAAAAAANkMxDwAAAACAzVDMAwAAQIZhKDk5Od+3CwEASgaKeQAAAOjs2bPy8fHR2bNnrY4CACgAinkAAAAAAGyGYh4AAAAAAJuhmAcAAAAAwGYo5gEAAAAAsBmKeQAAAAAAbIZiHgAAAAAAm6GYBwAAAADAZijmAQAAAACwGYp5AAAAAABsxt3qAAAAAABuYIsdVieQBhhWJwCuGsU8gBta9fGrrY5QLA5P63rN+3KNAAAASh5uswcAAAAAwGYo5gEAAAAAsBmKeQAAAAAAbIZiHgAAoISLjo5W8+bNVa5cOVWqVEk9evRQTEyMU5+LFy9qxIgR8vf3V9myZdW7d28lJCRYlBgAUNQo5gEAAEq4jRs3asSIEdq2bZvWrl2rtLQ0derUSSkpKWafUaNGaeXKlVq6dKk2btyokydPqlevXhamBgAUJWazBwAAKOHWrFnjtL5w4UJVqlRJu3btUtu2bZWUlKT58+dr8eLFuvPOOyVJCxYsUL169bRt2zbdfvvtVsQGABQhRuYBAABsJikpSZLk5+cnSdq1a5fS0tLUsWNHs09YWJhCQkK0devWHI+Rmpqq5ORkpwUAYB8U8wAAADaSkZGhkSNHqnXr1mrYsKEkKT4+Xh4eHvL19XXqGxAQoPj4+ByPEx0dLR8fH3OpWrVqUUcHABQiinkAAAAbGTFihPbt26cPP/zQpeNERUUpKSnJXI4dO1ZICQEAxYFn5gEAAGzi8ccf16pVq7Rp0yZVqVLFbA8MDNSlS5eUmJjoNDqfkJCgwMDAHI/l6ekpT0/Poo4MACgijMwDAACUcIZh6PHHH9eyZcv0zTffKDQ01Gl7s2bNVLp0aa1fv95si4mJ0dGjRxUeHl7ccQEAxYCReQAAgBJuxIgRWrx4sVasWKFy5cqZz8H7+PjI29tbPj4+evDBBzV69Gj5+fmpfPnyeuKJJxQeHs5M9gBwnaKYBwAAKOHmzJkjSWrfvr1T+4IFCzRkyBBJ0muvvaZSpUqpd+/eSk1NVUREhP7zn/8Uc1IAQHGhmAcAACjhDMPIt4+Xl5dmz56t2bNnF0MiAIDVeGYeAAAAAACboZgHAAAAAMBmKOYBAAAAALAZinkAAAAAAGyGYh4AAAAAAJuhmAcAAAAAwGYo5gEAAAAAsBmKeQAAAAAAbIZiHgAAAAAAm6GYBwAAAADAZijmAQAAAACwGXerAwAAAABw0WKH1QmkAYbVCYAbCiPzAAAAAADYDMU8AAAAAAA2QzEPAAAAAIDNUMwDAAAAAGAzFPMAAAAAANhMiSrmo6Oj1bx5c5UrV06VKlVSjx49FBMT49Tn4sWLGjFihPz9/VW2bFn17t1bCQkJFiUGAAAAAKD4lahifuPGjRoxYoS2bdumtWvXKi0tTZ06dVJKSorZZ9SoUVq5cqWWLl2qjRs36uTJk+rVq5eFqQEAAAAAKF4l6j3za9ascVpfuHChKlWqpF27dqlt27ZKSkrS/PnztXjxYt15552SpAULFqhevXratm2bbr/9ditiAwAAAABQrEpUMZ9VUlKSJMnPz0+StGvXLqWlpaljx45mn7CwMIWEhGjr1q05FvOpqalKTU0115OTk4s4NQAAwA1qscPqBNIAw+oEAFAsSmwxn5GRoZEjR6p169Zq2LChJCk+Pl4eHh7y9fV16hsQEKD4+PgcjxMdHa0pU6YUdVxYpPr41VZHKBaHp3W1OgIAAACAEqREPTOf2YgRI7Rv3z59+OGHLh0nKipKSUlJ5nLs2LFCSggAAAAAgDVK5Mj8448/rlWrVmnTpk2qUqWK2R4YGKhLly4pMTHRaXQ+ISFBgYGBOR7L09NTnp6eRR0ZAAAAAIBiU6JG5g3D0OOPP65ly5bpm2++UWhoqNP2Zs2aqXTp0lq/fr3ZFhMTo6NHjyo8PLy44wIAAAAAYIkSNTI/YsQILV68WCtWrFC5cuXM5+B9fHzk7e0tHx8fPfjggxo9erT8/PxUvnx5PfHEEwoPD2cmewAAAADADaNEFfNz5syRJLVv396pfcGCBRoyZIgk6bXXXlOpUqXUu3dvpaamKiIiQv/5z3+KOSkAAAAAANYpUcW8YeT/KhEvLy/Nnj1bs2fPLoZEAAAAAACUPCXqmXkAAAAAAJA/inkAAAAAAGyGYh4AAAAAAJuhmAcAAAAAwGYo5gEAAAAAsBmKeQAAAAAAbIZiHgAAoITbtGmTunXrpuDgYDkcDi1fvtxp+5AhQ+RwOJyWzp07WxMWAFAsKOYBAABKuJSUFDVp0kSzZ8/OtU/nzp116tQpc1myZEkxJgQAFDd3qwMAAAAgb126dFGXLl3y7OPp6anAwMBiSgQAsBoj8wAAANeBDRs2qFKlSqpbt66GDx+uM2fO5Nk/NTVVycnJTgsAwD4o5gEAAGyuc+fOeu+997R+/XpNnz5dGzduVJcuXZSenp7rPtHR0fLx8TGXqlWrFmNiAICruM0eAADA5vr162f+3KhRIzVu3Fg1a9bUhg0bdNddd+W4T1RUlEaPHm2uJycnU9ADgI0wMg8AAHCdqVGjhipWrKiDBw/m2sfT01Ply5d3WgAA9kExDwAAcJ05fvy4zpw5o6CgIKujAACKCLfZAwAAlHDnzp1zGmWPi4vTnj175OfnJz8/P02ZMkW9e/dWYGCgDh06pLFjx6pWrVqKiIiwMDUAoChRzAMAAJRwO3fuVIcOHcz1K8+6R0ZGas6cOdq7d6/effddJSYmKjg4WJ06ddILL7wgT09PqyIDAIoYxTwAAEAJ1759exmGkev2r776qhjTAABKAp6ZBwAAAADAZijmAQAAAACwmUK/zf748eP64osvdPHiRfXs2ZP3lQIAAAAAUMhcGpl/4403VL9+fXXq1EmS9Msvv6hx48YaPny4Ro0apcaNGysmJqZQggIAAAAAgL+5VMx//fXX+vXXXxUaGipJmjVrlhITE2UYhgzDUHJysqKjowslKAAAAAAA+JtLxfy+ffvkcDjUqlUrSdKmTZvkcDjUu3dvhYWFyTAMbdy4sVCCAgAAAACAv7lUzP/++++SpMqVKysjI0OxsbFyc3PTokWL9Pzzz0uSTp065XpKAAAAAABgcqmYT0tLM/8bFxenS5cuqXr16vLy8pK/v//fJyjFhPkAAAAAABQml2azDwgI0IkTJ/TKK68oKChIkhQWFiZJio+PlySzqAcAAAAAAIXDpWL+jjvu0JIlS/Ttt99KkhwOhzp06CBJ5iz2tWvXdjEiAAAAAADIzKV74CdOnKgKFSqYs9fXr19fDz30kCRp2bJlkqQ2bdq4nhIAAAAAAJhcGpmvW7euYmNj9e2338rHx0d33HGHPD09JUlvvfWWDMNQrVq1CiUoAAAAAJQ4ix1WJ5AGGFYngAVcKuYlyc/PT717987W3qJFC1cPDQBAiVd9/GqrIxSLw9O6Wh0BAABk4nIxL0kbNmzQW2+9pX379iklJUU///yzli5dKknq1auXypYtWxinAQAAAAAAKoRi/tlnn9W0adMkSYZhyOFwyNvbWy+99JIOHjwoNzc3PfDAAy4HBQAAAAAAf3NpAryVK1cqOjranAAvs27duskwDK1cudKlgAAAAAAAwJlLxfzrr78u6e/n5ocNG+a0rUGDBpKkvXv3unIKAAAAAACQhUvF/K5du+RwODRt2jQNHTrUaVuVKlUkSadOnXLlFAAAAAAAIAuXivmUlBRJUmhoaLZtqampkqSLFy+6cgoAAAAAAJCFS8V8QECAJGnTpk3Ztq1atUqSFBgY6MopAAAAAABAFi7NZt+mTRt9+OGHmjp1qrZt22a2Dxw4UIsXL5bD4dAdd9zhckgAAACgSC12WJ1AGmDk3wcA/o9LI/OjRo1SqVKllJGRoXXr1snh+PsfwSVLlvx98FKl9K9//cv1lAAAAAAAwORSMd+8eXO9/vrrcjgc5uvpriylSpXSv//9bzVr1qywsgIAAAAAALl4m70kPfbYY2rfvr0WLFig/fv3S5Lq1aunIUOGqGHDhi4HBAAAAAAAzlwu5iWpfv36evnllwvjUAAAAAAAIB8u3WYPAAAAAACK31UV86VKlZK7u7u2bNkiSXJzc8t3cXcvlMF/AAAAAADwf6660jYMw+nnK5PfAQAAAACA4uHybfYU8gAAAAAAFK+rGpmPi4uTJAUFBTmtAwAAAACA4nNVxXy1atXyXAcAAAAAAEXPpdnp/vjjD508eVIOh0ONGjVy2vbzzz/LMAwFBwerYsWKLoUEAAAAAAD/49Iz86NHj1bTpk01ZsyYbNvGjx+vpk2b6qmnnnLlFAAAAAAAIAuXivnvv/9ektS/f/9s2+6//34ZhmH2KYhNmzapW7duCg4OlsPh0PLly522DxkyRA6Hw2np3LmzKx8BAAAAAADbcamYP3XqlCSpcuXK2bYFBwc79SmIlJQUNWnSRLNnz861T+fOnXXq1ClzWbJkyVWmBgAAAADA3lwq5t3c3CRJv/zyS7ZtV9pKlSr4Kbp06aIXX3xRPXv2zLWPp6enAgMDzaVChQpXmRoAAMBe8rt70TAMTZw4UUFBQfL29lbHjh0VGxtrTVgAQLFwqZivUaOGDMPQ1KlTtXfvXrP9559/VnR0tBwOh2rUqOFyyMw2bNigSpUqqW7duho+fLjOnDmTZ//U1FQlJyc7LQAAAHaS392LM2bM0Ouvv665c+dq+/btKlOmjCIiInTx4sViTgoAKC4uzWbfuXNn/fzzzzp9+rSaNWum0NBQSX+/fz49Pb3Qn2nv3LmzevXqpdDQUB06dEjPPPOMunTpoq1bt5p3CWQVHR2tKVOmFFoGAACA4talSxd16dIlx22GYWjmzJl67rnn1L17d0nSe++9p4CAAC1fvlz9+vXLcb/U1FSlpqaa6wx4AIC9uDybvZ+fnyQpPT1dhw4d0qFDh5Seni5JqlChgkaNGuV6yv/Tr18/3XvvvWrUqJF69OihVatW6YcfftCGDRty3ScqKkpJSUnmcuzYsULLAwAAYLW4uDjFx8erY8eOZpuPj49atmyprVu35rpfdHS0fHx8zKVq1arFERcAUEhcKuYDAgK0Zs0ahYSESPr7L8OGYUiSqlWrpi+//FKBgYGup8xFjRo1VLFiRR08eDDXPp6enipfvrzTAgAAcL2Ij4+X9Pf/l2UWEBBgbssJAx4AYG8u3WYvSbfddptiYmK0bt067d+/X5JUv359dezYUR4eHi4HzMvx48d15swZBQUFFel5AAAArjeenp7y9PS0OgYA4Bq5XMxLkoeHh+6++27dfffdLh3n3LlzTqPscXFx2rNnj/z8/OTn56cpU6aod+/eCgwM1KFDhzR27FjVqlVLERERrn4EAAAAW7pyF2RCQoLTAEdCQoJuueUWi1IBAIpaoRTzsbGxOnDggP7880/zNvvMBg8eXKDj7Ny5Ux06dDDXR48eLUmKjIzUnDlztHfvXr377rtKTExUcHCwOnXqpBdeeIG/KgMAgBtWaGioAgMDtX79erN4T05O1vbt2zV8+HBrwwEAioxLxfzvv/+uyMhIffXVV7n2cTgcBS7m27dvn+MfA67I6zwAAADXq7zuXgwJCdHIkSP14osvqnbt2goNDdWECRMUHBysHj16WBcaAFCkXCrmn3jiCa1Zs6awsgAAACAHed29uHDhQo0dO1YpKSl65JFHlJiYqDZt2mjNmjXy8vKyKjIAoIi5VMyvWbNGDodDhmEoLCxM/v7+cncvlDv3AQAA8H/yu3vR4XDo+eef1/PPP1+MqQAAVnKp8r58+bIkafLkyZo4cWKhBAIAAAAAAHlz6T3zLVq0kCQ1a9asUMIAAAAAAID8uVTMv/jii3Jzc9OsWbOUmppaWJkAAAAAAEAeXLrN/u2331bVqlX19ddfKyQkROHh4fLz83Pq43A4NH/+fJdC3siqj19tdYRicXhaV6sjAAAAAIBtuFTML1y4UA6HQ9Lfr6lbuXJljv0o5gEAAAAAKDwuTz2feWbVnGZZvVLsAwAAAACAwuFSMT9p0qTCygEAAAAAAAqIYh4AAAAAAJtxaTb7rP766y8dO3asMA8JAAAAAACycLmYT0tL0+TJk1WlShVVrFhRoaGhunDhgoYNG6Zhw4bp+PHjhZETAAAAAAD8H5dus798+bK6dOmib7/9VtL/JsDz9vZWbGystmzZoltuuUVPPvmk60kBAAAAAIAkF0fmZ82apW+++UaGYWSbyf4f//iHDMPQF1984VJAAAAAAADgzKVi/v3335ckNWnSRG+88YbTtlq1akmSDh486MopAAAAAABAFi7dZh8TEyOHw6GJEyeqUqVKTtuCgoIkSfHx8a6cAgAAAAAAZOHSyHx6erqkv5+Rz+r06dOSJIfD4copAAAAAABAFi6NzFerVk0HDhzQggULnCa5y8jI0FtvvSVJCg0NdS0hAACwterjV1sdoVgcntbV6ggAgBuIS8V8RESEYmJi9Mknn2jjxo1me82aNXXkyBE5HA5FRES4HBIAAAAAAPyPS7fZjxkzRr6+vpKk33//3byl/ujRo5IkX19fjRo1yrWEAAAAAADAiUvFfOXKlfXFF1+oSpUq5uvprixVq1bV6tWrFRwcXFhZAQAAAACAXLzNXpJuv/12xcbGau3atdq/f78kqV69evrHP/4hT09PlwMCAAAAAABnLhfzkuTh4aGuXbuqa1cmfgEAAAAAW1hcAt48NsCwOoFtuVTMb9q0qUD92rZt68ppAAAAAABAJi4V8+3bt8/3PfIOh0OXL1925TQAAAAAACCTQrnN3jC4NQIAAAAAgOLiUjEfEhKSbWT+jz/+UEpKihwOh3x8fOTj4+NSQAAAAAAA4MylYv7w4cM5tn/zzTe6//77ddNNN2nr1q2unAIAAAAAAGTh0nvmc3PnnXdqzJgxOnbsmKKiooriFAAAAAAA3LCKpJiXpIsXL0qSVq1aVVSnAAAAAADghuTSbfbPP/98trbLly/r+PHjWrJkiSQpJSXFlVMAAAAAAIAsXCrmJ0+enOur6QzDkMPhUPPmzV05BQAAAAAAyMLlV9Pl9Vo6Pz8/vfLKK66eAgAAAAAAZOJSMR8ZGZmtzeFwqEKFCqpTp44GDBigcuXKuXIKAAAAAACQhUvF/IIFCworBwAAAAAAKKAim80eAAAAAAAUjUKfzb4gJk6c6MppAQAAkMnkyZM1ZcoUp7a6devq119/tSgRAKCoFdls9nmhmAcAAChcDRo00Lp168x1d3eX5zkGAJRgRTqbfU6upfgHAABA3tzd3RUYGGh1DABAMXGpmB88eLB27dql//73v6pcubJatGghSfrhhx90/Phx1a9fn/fMAwAAFIPY2FgFBwfLy8tL4eHhio6OVkhISK79U1NTlZqaaq4nJycXR0wAQCFxqZh/9NFHdeedd6pPnz5avHixeTtXenq6+vfvr5UrV+rNN99U69atCyUsAAAAsmvZsqUWLlyounXr6tSpU5oyZYruuOMO7du3L9fXBEdHR2d7zh4AYB8uzWYfFRWlS5cuaejQoU7PZbm5uWno0KFKTU3Vs88+63JIAAAA5K5Lly7q27evGjdurIiICH3xxRdKTEzUxx9/nOs+UVFRSkpKMpdjx44VY2IAgKtcKuZ37twpSfrvf/+bbduVtit9AAAAUDx8fX1Vp04dHTx4MNc+np6eKl++vNMCALAPl26z9/b21oULFzRhwgQlJCTo9ttvlyRt27ZNs2fPNvsAAACg+Jw7d06HDh3SoEGDrI4CACgiLhXz3bp108KFC3Xp0iW9+uqrTtsMw5DD4dC9997rUkAAAADk7emnn1a3bt1UrVo1nTx5UpMmTZKbm5v69+9vdTQAQBFx6Tb7GTNmqG7dujIMw1yk/72urm7dupo+fbrrKQEAAJCr48ePq3///qpbt67uu+8++fv7a9u2bbr55putjgYAKCIujcxXrFhRO3fu1Msvv6xPP/1Uhw4dkiTVrFlTffr00dNPP60yZcoUSlAAAADk7MMPP7Q6AgCgmLlUzEtSmTJlNHnyZE2ePLkQ4gAAAAAAgPy4XMxfERsbq3379iklJUUDBw4srMMCAAAAAIAsXHpmXpKOHDmi9u3bKywsTH369NGQIUN04cIF1atXTzVr1tSPP/5Y4GNt2rRJ3bp1U3BwsBwOh5YvX+603TAMTZw4UUFBQfL29lbHjh0VGxvr6kcAAAAAAMBWXCrm//jjD7Vp00abN292mgTP29tbdevW1eHDh7Vs2bICHy8lJUVNmjQxX2uX1YwZM/T6669r7ty52r59u8qUKaOIiAhdvHjRlY8BAAAAAICtuFTMR0dH68SJEzIMQ6VLl3ba1q5dOxmGofXr1xf4eF26dNGLL76onj17ZttmGIZmzpyp5557Tt27d1fjxo313nvv6eTJk9lG8AEAAAAAuJ65VMyvXLlSDodDffr00ddff+20rVq1apKko0ePunIKU1xcnOLj49WxY0ezzcfHRy1bttTWrVtz3S81NVXJyclOCwAAAAAAduZSMX+lUH/ooYfk7u48l56vr68k6ffff3flFKb4+HhJUkBAgFN7QECAuS0n0dHR8vHxMZeqVasWSh4AAAAAAKziUjHv6ekpSUpMTMy27eDBg5Kkm266yZVTuCwqKkpJSUnmcuzYMUvzAAAAAADgKpeK+bCwMEnS9OnTdfz4cbP94MGDevnll+VwOFSvXj3XEv6fwMBASVJCQoJTe0JCgrktJ56enipfvrzTAgAAAACAnblUzPfu3VuGYWjPnj0aMGCApL8nqqtbt64OHTokSerTp4/rKSWFhoYqMDDQaUK95ORkbd++XeHh4YVyDgAAAAAA7MClYv6JJ55QgwYNZBiGJMnhcMjhcJjrDRs21GOPPVbg4507d0579uzRnj17JP096d2ePXt09OhRORwOjRw5Ui+++KI+//xz/fzzzxo8eLCCg4PVo0cPVz4GAAAAAAC24p5/l9x5e3trw4YNeuyxx/TZZ58pPT1dkuTm5qZevXpp9uzZ5nP1BbFz50516NDBXB89erQkKTIyUgsXLtTYsWOVkpKiRx55RImJiWrTpo3WrFkjLy8vVz4GAAAAAMBuFjusTiANMCw7tUvFvCT5+/vro48+UlJSkg4cOCBJqlOnjnx8fK76WO3btzdH9XPicDj0/PPP6/nnn7/mvAAAAAAA2N0132afkpIif39/+fn5adasWfLx8VHz5s3VvHnzayrkAQAAAABAwVzzyHyZMmV0+fJlnTt3rtBmrAcAAAAAAPlzaQK8Fi1aSJKOHj1aKGEAAAAAAED+XCrmo6Oj5eXlpUmTJum///1vYWUCAAAAAAB5cGkCvLFjx8rPz0/Hjx9XkyZNVKtWLQUFBcnh+N+sgg6Hw+nd8AAAAAAAwDUuFfMbNmww3y2fkZGh2NhYxcbGmtsNw3Aq7AEAAAAAgOtcfjVd5lfJ5fVaOQAAAAAAUDhcKuYXLFhQWDkAAAAAAEABXXUxf+edd8rhcOj1119XZGSkJOn111+XJN13330KDAws3IQAAAAAAMDJVRfzV56TT0pKMttGjhwph8Oh2267jWIeAAAAAIAi5tKr6QAAAAAAQPGjmAcAAAAAwGYo5gEAAAAAsJlrLuZzen8875QHAAAAAKDoXfOr6dq0aeO0bhhGtjbp7wL/8uXL13oaAAAAAACQxTUX84ZhmD9fGZHP3AYAAAAAAIrGNRXzWYt2ingAAAAAAIrPVRfzCxYsKIocAAAAAACggK66mI+MjCyKHAAAAAAAoIB4NR0AAAAAADZDMQ8AAAAAgM1QzAMAAFwnZs+ererVq8vLy0stW7bUjh07rI4EACgiFPMAAADXgY8++kijR4/WpEmTtHv3bjVp0kQRERE6ffq01dEAAEWAYh4AAOA68Oqrr+rhhx/W0KFDVb9+fc2dO1c33XST3nnnHaujAQCKwDW9Zx4AAAAlx6VLl7Rr1y5FRUWZbaVKlVLHjh21devWHPdJTU1VamqquZ6UlCRJSk5OvvYg569910JzrfntnF2yd347Z5fsnd/O2SX75/8/5cqVk8PhuOr9KOYBAABs7o8//lB6eroCAgKc2gMCAvTrr7/muE90dLSmTJmSrb1q1apFkrHYPOxjdYJrZ+fskr3z2zm7ZO/8ds4uFUr+pKQklS9f/qr3o5gHAAC4AUVFRWn06NHmekZGhv7880/5+/tf0wiRq5KTk1W1alUdO3bsmv6n1mp2zm/n7JK989s5u2Tv/CUpe7ly5a5pP4p5AAAAm6tYsaLc3NyUkJDg1J6QkKDAwMAc9/H09JSnp6dTm6+vb1FFLLDy5ctb/j/WrrBzfjtnl+yd387ZJXvnt3N2JsADAACwOQ8PDzVr1kzr16832zIyMrR+/XqFh4dbmAwAUFQYmQcAALgOjB49WpGRkbrtttvUokULzZw5UykpKRo6dKjV0QAARYBiHgAA4Dpw//336/fff9fEiRMVHx+vW265RWvWrMk2KV5J5enpqUmTJmW79d8u7Jzfztkle+e3c3bJ3vntnP0Kh2EYhtUhilNycrJ8fHyuecbA4lZ9/GqrIxSLw9O6XtN+XJ/8cY3yxvXJH9cob1yf/HGNAAAofDwzDwAAAACAzVDMAwAAAABgMxTzAAAAAADYDMU8AAAAAAA2QzEPAAAAAIDNUMwDAADAUidOnNDAgQPl7+8vb29vNWrUSDt37rQ6VoFUr15dDocj2zJixAiro+UrPT1dEyZMUGhoqLy9vVWzZk298MILssvLrs6ePauRI0eqWrVq8vb2VqtWrfTDDz9YHStHmzZtUrdu3RQcHCyHw6Hly5c7bTcMQxMnTlRQUJC8vb3VsWNHxcbGWhM2B/nl/+yzz9SpUyf5+/vL4XBoz549luTMSV7Z09LSNG7cODVq1EhlypRRcHCwBg8erJMnT1oX+CpQzAMAAMAyf/31l1q3bq3SpUvryy+/1P79+/XKK6+oQoUKVkcrkB9++EGnTp0yl7Vr10qS+vbta3Gy/E2fPl1z5szRrFmz9Msvv2j69OmaMWOG3njjDaujFchDDz2ktWvXatGiRfr555/VqVMndezYUSdOnLA6WjYpKSlq0qSJZs+eneP2GTNm6PXXX9fcuXO1fft2lSlTRhEREbp48WIxJ81ZfvlTUlLUpk0bTZ8+vZiT5S+v7OfPn9fu3bs1YcIE7d69W5999pliYmJ07733WpD06rlbHQAAAAA3runTp6tq1apasGCB2RYaGmphoqtz8803O61PmzZNNWvWVLt27SxKVHBbtmxR9+7d1bVrV0l/32WwZMkS7dixw+Jk+btw4YI+/fRTrVixQm3btpUkTZ48WStXrtScOXP04osvWpzQWZcuXdSlS5cctxmGoZkzZ+q5555T9+7dJUnvvfeeAgICtHz5cvXr1684o+Yor/ySNGjQIEnS4cOHiylRweWV3cfHx/wD3BWzZs1SixYtdPToUYWEhBRHxGvGyDwAAAAs8/nnn+u2225T3759ValSJTVt2lRvvfWW1bGuyaVLl/T+++9r2LBhcjgcVsfJV6tWrbR+/XodOHBAkvTTTz/pu+++y7NoKykuX76s9PR0eXl5ObV7e3vru+++syjVtYmLi1N8fLw6duxotvn4+Khly5baunWrhcluTElJSXI4HPL19bU6Sr4YmQcAALBQ9fGrrY5QLA5P65pj+2+//aY5c+Zo9OjReuaZZ/TDDz/oySeflIeHhyIjI4s5pWuWL1+uxMREDRkyxOooBTJ+/HglJycrLCxMbm5uSk9P10svvaQHHnjA6mj5KleunMLDw/XCCy+oXr16CggI0JIlS7R161bVqlXL6nhXJT4+XpIUEBDg1B4QEGBuQ/G4ePGixo0bp/79+6t8+fJWx8kXxTwAAAAsk5GRodtuu01Tp06VJDVt2lT79u3T3LlzbVfMz58/X126dFFwcLDVUQrk448/1gcffKDFixerQYMG2rNnj0aOHKng4GBbXPtFixZp2LBhqly5stzc3HTrrbeqf//+2rVrl9XRYENpaWm67777ZBiG5syZY3WcAuE2ewAAAFgmKChI9evXd2qrV6+ejh49alGia3PkyBGtW7dODz30kNVRCmzMmDEaP368+vXrp0aNGmnQoEEaNWqUoqOjrY5WIDVr1tTGjRt17tw5HTt2TDt27FBaWppq1KhhdbSrEhgYKElKSEhwak9ISDC3oWhdKeSPHDmitWvX2mJUXqKYBwAAgIVat26tmJgYp7YDBw6oWrVqFiW6NgsWLFClSpXMyeTs4Pz58ypVyrkccHNzU0ZGhkWJrk2ZMmUUFBSkv/76S1999ZU5iZxdhIaGKjAwUOvXrzfbkpOTtX37doWHh1uY7MZwpZCPjY3VunXr5O/vb3WkAuM2ewAAAFhm1KhRatWqlaZOnar77rtPO3bs0Lx58zRv3jyroxVYRkaGFixYoMjISLm72+d/r7t166aXXnpJISEhatCggX788Ue9+uqrGjZsmNXRCuSrr76SYRiqW7euDh48qDFjxigsLExDhw61Olo2586d08GDB831uLg47dmzR35+fgoJCdHIkSP14osvqnbt2goNDdWECRMUHBysHj16WBc6k/zy//nnnzp69Kj5fvYrf6ALDAy0/O6CvLIHBQWpT58+2r17t1atWqX09HRzngI/Pz95eHhYFbtA7POvDQAAAK47zZs317JlyxQVFaXnn39eoaGhmjlzpi0mYbti3bp1Onr0qG2K4CveeOMNTZgwQY899phOnz6t4OBgPfroo5o4caLV0QokKSlJUVFROn78uPz8/NS7d2+99NJLKl26tNXRstm5c6c6dOhgro8ePVqSFBkZqYULF2rs2LFKSUnRI488osTERLVp00Zr1qzJNlu/VfLL//nnnzv9EeXK6/QmTZqkyZMnF2vWrPLKPnnyZH3++eeSpFtuucVpv2+//Vbt27cvrpjXxGEYhmF1iOKUnJwsHx8fJSUl2eJZiBt9htv8cH3yxzXKG9cnf1yjvHF98sc1yhvXBwBwLXhmHgAAAAAAm7FVMT958mQ5HA6nJSwszOpYAAAAAAAUK9s9M9+gQQOtW7fOXLfTJCMAAAAAABQG21XC7u7uls+ICAAAAACAlWx1m70kxcbGKjg4WDVq1NADDzygo0eP5tk/NTVVycnJTgsAAAAAAHZmq5H5li1bauHChapbt65OnTqlKVOm6I477tC+fftUrly5HPeJjo7WlClTijkpAAAAUDx4IwJwY7LVyHyXLl3Ut29fNW7cWBEREfriiy+UmJiojz/+ONd9oqKilJSUZC7Hjh0rxsQAAAAAABQ+W43MZ+Xr66s6dero4MGDufbx9PSUp6dnMaYCAAAAAKBo2WpkPqtz587p0KFDCgoKsjoKAAAAAADFxlbF/NNPP62NGzfq8OHD2rJli3r27Ck3Nzf179/f6mgAAAAAABQbW91mf/z4cfXv319nzpzRzTffrDZt2mjbtm26+eabrY4GAAAAAECxsVUx/+GHH1odAQAAAAAAy9nqNnsAAAAAAEAxDwAAAACA7VDMAwAAAABgMxTzAAAAAADYDMU8AAAAAAA2QzEPAAAAAIDNUMwDAAAAAGAzFPMAAAAAANgMxTwAAAAAADZDMQ8AAAAAgM1QzAMAAAAAYDMU8wAAAAAA2AzFPAAAAAAANkMxDwAAAACAzVDMAwAAAABgMxTzAAAAAADYDMU8AAAAAAA2QzEPAAAAAIDNUMwDAAAAAGAzFPMAAAAAANgMxTwAAAAAADZDMQ8AAAAAgM1QzAMAAAAAYDMU8wAAAAAA2AzFPAAAAAAANkMxDwAAAACAzVDMAwAAAABgMxTzAAAAAADYDMU8AAAAAAA2QzEPAAAAAIDNuFsdAAAAAMhN9fGrrY5QLA5P62p1BAA2w8g8AAAAAAA2QzEPAAAAAIDNUMwDAAAAAGAzFPMAAAAAANgMxTwAAAAAADZDMQ8AAAAAgM1QzAMAAAAAYDMU8wAAAAAA2AzFPAAAAAAANkMxDwAAAACAzVDMAwAAAABgM+5WBwAAAAAAWKf6+NVWRygWh6d1tTpCoWJkHgAAAAAAm6GYBwAAAADAZijmAQAAAACwGYp5AAAAAABshmIeAAAAAACboZgHAAAAAMBmKOYBAAAAALAZWxbzs2fPVvXq1eXl5aWWLVtqx44dVkcCAAAAAKDY2K6Y/+ijjzR69GhNmjRJu3fvVpMmTRQREaHTp09bHQ0AAAAAgGJhu2L+1Vdf1cMPP6yhQ4eqfv36mjt3rm666Sa98847VkcDAAAAAKBYuFsd4GpcunRJu3btUlRUlNlWqlQpdezYUVu3bs1xn9TUVKWmpprrSUlJkqTk5OSiDVtIMlLPWx2hWFzr74Prkz+uUd64PvnjGuWN65M/rlHeuD554/rkj2sEV/EdKpnKlSsnh8OR63aHYRhGMeZxycmTJ1W5cmVt2bJF4eHhZvvYsWO1ceNGbd++Pds+kydP1pQpU4ozJgAAAAAALklKSlL58uVz3W6rkflrERUVpdGjR5vrGRkZ+vPPP+Xv75/nXzluVMnJyapataqOHTuW5xcHyA3fIbiK7xBcxXcIruD7A1fxHUJhKVeuXJ7bbVXMV6xYUW5ubkpISHBqT0hIUGBgYI77eHp6ytPT06nN19e3qCJeN8qXL88/PnAJ3yG4iu8QXMV3CK7g+wNX8R1CUbPVBHgeHh5q1qyZ1q9fb7ZlZGRo/fr1TrfdAwAAAABwPbPVyLwkjR49WpGRkbrtttvUokULzZw5UykpKRo6dKjV0QAAAAAAKBa2K+bvv/9+/f7775o4caLi4+N1yy23aM2aNQoICLA62nXB09NTkyZNyvZoAlBQfIfgKr5DcBXfIbiC7w9cxXcIxcVWs9kDAAAAAACbPTMPAAAAAAAo5gEAAAAAsB2KeQAAAAAAbIZiHgAAAAAAm6GYhyTpxIkTGjhwoPz9/eXt7a1GjRpp586dVseCTaSnp2vChAkKDQ2Vt7e3atasqRdeeEHMr4ncbNq0Sd26dVNwcLAcDoeWL1/utN0wDE2cOFFBQUHy9vZWx44dFRsba01YlEh5fYfS0tI0btw4NWrUSGXKlFFwcLAGDx6skydPWhcYJU5+/w5l9s9//lMOh0MzZ84stnwo+QryHfrll1907733ysfHR2XKlFHz5s119OjR4g+L6xLFPPTXX3+pdevWKl26tL788kvt379fr7zyiipUqGB1NNjE9OnTNWfOHM2aNUu//PKLpk+frhkzZuiNN96wOhpKqJSUFDVp0kSzZ8/OcfuMGTP0+uuva+7cudq+fbvKlCmjiIgIXbx4sZiToqTK6zt0/vx57d69WxMmTNDu3bv12WefKSYmRvfee68FSVFS5ffv0BXLli3Ttm3bFBwcXEzJYBf5fYcOHTqkNm3aKCwsTBs2bNDevXs1YcIEeXl5FXNSXK94NR00fvx4ff/999q8ebPVUWBT99xzjwICAjR//nyzrXfv3vL29tb7779vYTLYgcPh0LJly9SjRw9Jf4/KBwcH66mnntLTTz8tSUpKSlJAQIAWLlyofv36WZgWJVHW71BOfvjhB7Vo0UJHjhxRSEhI8YWDLeT2HTpx4oRatmypr776Sl27dtXIkSM1cuRISzKiZMvpO9SvXz+VLl1aixYtsi4YrmuMzEOff/65brvtNvXt21eVKlVS06ZN9dZbb1kdCzbSqlUrrV+/XgcOHJAk/fTTT/ruu+/UpUsXi5PBjuLi4hQfH6+OHTuabT4+PmrZsqW2bt1qYTLYWVJSkhwOh3x9fa2OApvIyMjQoEGDNGbMGDVo0MDqOLCZjIwMrV69WnXq1FFERIQqVaqkli1b5vk4B3C1KOah3377TXPmzFHt2rX11Vdfafjw4XryySf17rvvWh0NNjF+/Hj169dPYWFhKl26tJo2baqRI0fqgQcesDoabCg+Pl6SFBAQ4NQeEBBgbgOuxsWLFzVu3Dj1799f5cuXtzoObGL69Olyd3fXk08+aXUU2NDp06d17tw5TZs2TZ07d9bXX3+tnj17qlevXtq4caPV8XCdcLc6AKyXkZGh2267TVOnTpUkNW3aVPv27dPcuXMVGRlpcTrYwccff6wPPvhAixcvVoMGDbRnzx6NHDlSwcHBfIcAWCotLU333XefDMPQnDlzrI4Dm9i1a5f+/e9/a/fu3XI4HFbHgQ1lZGRIkrp3765Ro0ZJkm655RZt2bJFc+fOVbt27ayMh+sEI/NQUFCQ6tev79RWr149ZtpEgY0ZM8YcnW/UqJEGDRqkUaNGKTo62uposKHAwEBJUkJCglN7QkKCuQ0oiCuF/JEjR7R27VpG5VFgmzdv1unTpxUSEiJ3d3e5u7vryJEjeuqpp1S9enWr48EGKlasKHd3d/4fG0WKYh5q3bq1YmJinNoOHDigatWqWZQIdnP+/HmVKuX8z4mbm5v5V2ngaoSGhiowMFDr168325KTk7V9+3aFh4dbmAx2cqWQj42N1bp16+Tv7291JNjIoEGDtHfvXu3Zs8dcgoODNWbMGH311VdWx4MNeHh4qHnz5vw/NooUt9lDo0aNUqtWrTR16lTdd9992rFjh+bNm6d58+ZZHQ020a1bN7300ksKCQlRgwYN9OOPP+rVV1/VsGHDrI6GEurcuXM6ePCguR4XF6c9e/bIz89PISEhGjlypF588UXVrl1boaGhmjBhgoKDg/OcrRw3lry+Q0FBQerTp492796tVatWKT093Zxvwc/PTx4eHlbFRgmS379DWf8AVLp0aQUGBqpu3brFHRUlVH7foTFjxuj+++9X27Zt1aFDB61Zs0YrV67Uhg0brAuN64sBGIaxcuVKo2HDhoanp6cRFhZmzJs3z+pIsJHk5GTjX//6lxESEmJ4eXkZNWrUMJ599lkjNTXV6mgoob799ltDUrYlMjLSMAzDyMjIMCZMmGAEBAQYnp6exl133WXExMRYGxolSl7fobi4uBy3STK+/fZbq6OjhMjv36GsqlWrZrz22mvFmhElW0G+Q/Pnzzdq1apleHl5GU2aNDGWL19uXWBcd3jPPAAAAAAANsMz8wAAAAAA2AzFPAAAAAAANkMxDwAAAACAzVDMAwAAAABgMxTzAAAAAADYDMU8AAAAAAA2QzEPAAAAAIDNUMwDAAAAAGAzFPMAAJRgDofDXA4fPmx1nEJx/vx5RUVFqVatWvL09DQ/HwAAKDiKeQDAdW/hwoVORXGnTp2y9alevbq5fe7cuRakvHGMHz9e06ZN06FDh3Tp0iWr4wAAYEsU8wCAG87atWu1ceNGq2PcsJYtW2b+/Nxzz2nTpk3avHmzhYkAALAfd6sDAABghWeeeUbff/+91TFKvJSUFJUpU6ZQj3nixAnz52HDhik0NLRQjw8AwI2AkXkAwA1py5YtWr16db79hgwZYt5+P3nyZKdtmW/N37Bhg9nevn17s33BggV65ZVXVKNGDXl7e6tFixZav369JGnNmjVq2bKlvL29VblyZT3zzDNKT0/PNUtqaqomTpyo6tWry8vLSw0aNND8+fNz7Pv111+re/fuCgwMlIeHh26++Wbde++9OY6AZ/4cX3/9tSZNmqQaNWrI3d1db731Vr7X6LffftPw4cNVq1YteXl5qWzZsmrSpIkmTpyoxMTEbNfSMAyzrUaNGnI4HGrfvn2e58j8qET79u21fft2tW3bVjfddJOqVKmiyZMnKz09XfHx8Ro0aJD8/PxUtmxZde3aVYcOHcp2vISEBI0ZM0b169fXTTfdJG9vb4WFhWnUqFE6efKk2e/NN980zxsREZHtOHfddZe5fd68eWb7n3/+qQkTJqhJkyYqW7asvL291aBBA02ePFnnzp1zOkZqaqqef/55NWnSRGXKlJGHh4cCAwMVHh6uJ598UvHx8fn9CgAANyIDAIDr3IIFCwxJhiTD39/fqFWrliHJuOWWW4yMjAzDMAyjWrVqZp85c+aY+0ZGRprtkyZNcjpu5n2+/fZbs71du3Zme506dcyfryylS5c2XnjhBcPhcGTbFh0d7XSOzNuaNm2arb8kY+rUqU77jBs3Lsd+koxSpUo5fb6sn6N27dpO/V977bU8r+2GDRuMsmXL5nq+0NBQ4/jx49muZdalXbt2Bf4dVqlSxbjpppuyHePRRx81atSoka29fv36Rnp6unms/fv3G5UqVco1S8WKFY2ffvrJMAzDSEpKMs/l5uZmxMfHm8c5ceKEUapUKUOSUaZMGSM5OdkwDMOIjY01qlSpkuvxGzZsaJw5c8Y8zuDBg3PtK8nYunVrntcGAHBjYmQeAHBDcXd315QpUyRJe/bs0dKlS4v0fAcPHtSkSZO0evVq1atXT5KUlpamCRMm6M4779TKlSv18MMPm/3//e9/53qs3377TbNmzdLKlSvVtWtXs33ixIk6cuSIJOnLL7/U9OnTJUne3t6aMWOG1q5dq1deeUWenp7KyMjQE088oQMHDuR4jtjYWA0dOlSrVq3Sxx9/rGbNmuWa5+LFixowYIA50tyiRQt99tlneu+991S5cmVJUlxcnB555BFJ0rPPPpvtzoClS5dq8+bNeuONN3I9T1bHjx9XeHi4Vq5cqeHDh5vtb775phITE/XOO+9o0aJF8vb2liTt379fa9euNfsNHDhQp0+fliTVrl1bS5Ys0dKlS1W/fn1J0h9//KEHHnhAGRkZKl++vPr06SNJSk9P10cffWQe58MPP1RGRoYkqW/fvipXrpx5/OPHj0uSOnTooGXLlmnlypVq166dJGnfvn0aOXKkeZxPP/1UkuTj46MFCxbom2++0YcffqjJkyerefPmKlWK/10DAOTA6r8mAABQ1DKP6gYEBBjp6elGo0aNDElG3bp1jcuXLxfZyPx9991nts+YMcNs9/LyMkdnf//9d6eR2CsjvIbhPDI/e/Zss/38+fPGzTffbG579dVXDcMwjN69e5ttgwYNMjZv3mwud999t7lt/PjxOX6OXr16Ffi6rlixwtzPw8PDOHnypLlt1apV5jaHw2EkJCTk+Jni4uIKdK7Mv8PM1+706dNOx/vPf/5j7tO1a1ez/fXXXzcMwzB++uknp/67du0y++/bt89p244dOwzDMIyNGzeabS1atDD733rrrWb75s2bDcMwjJ9//tnpDoyvvvrKvP6ffPKJ07azZ88ahmEYwcHBhiQjODjY+P77741z584V+HcAALhx8adeAMANp1SpUnrhhRckSTExMXrvvfeK7FytWrUyf/b39zd/rlu3rvz8/CRJFStWdNrnzz//zPFYbdq0MX/29vZ2GjWPjY2V9Pco9BWLFi3SHXfcYS5ffPGFuW3fvn05nqN37975fqYrfv31V/PnmjVrKigoKMeshmEoJiamwMfNT1hYmHntMl9TSQoPDzd/znxdr1zTzJm9vb116623musNGjSQr6+vuX6lb9u2bVW7dm1J0o4dO3Tw4EHFxMRo9+7dkv7+XV75vJmvf1pamiIiIszrf2WE/8q2K9fkn//8pyTp5MmTat26tcqWLasqVaqoe/fuTncCAACQGcU8AOCG1L17d7Vo0UKSNGXKlFzfd+5wOMyfL1++7LTtjz/+yPc8Pj4+5s+Zb5fOXDRmZWSaIK6oZJ2E7YrMBXlJlds1lXK/rq5e06FDh5o/f/DBB1q8eLG5PmzYsGs65pXfwYQJE/T5558rMjJSTZs2VdmyZXXixAl9/vnn6tevX56PXgAAblwU8wCAG9ZLL70kSTpy5IhOnTqVY58KFSqYP195DlqSvvnmG6WkpBRtwCwyv0rv4sWL5siwJNWqVUuSzOfyJSkqKkqGYWRb0tPT9eWXX+Z4jsx/vMhPWFiY+fOhQ4ecZl3PnNXhcKhu3boFPm5Rypz5woUL+vHHH831/fv3O82+n7lvZGSk3NzcJDkX8+7u7oqMjDT7Zb7+3t7eSkxMzPF3cO7cOfMZesMw1K1bNy1cuFC7d+9WcnKyPv74Y/M4S5YsKaRPDwC4nvCeeQDADatjx47q0KGDvv3221z71KlTx/x5yZIlCg0NlZeXl15++eXiiOjkmWeekSSFhITozTffNCdxc3NzU69evSRJDz74oD777DNJ0ssvv6yMjAy1bdtWpUqV0tGjR7V3716tWLFCixYtyvd1cPnp1KmTgoODdfLkSV26dEk9e/bUuHHjdO7cOUVFRZn9unTpokqVKrl0rsLSuHFj3XrrreYfQvr3768pU6bIzc3NnBhRkho2bOj0GENwcLC6dOmiVatWmY80SNI999yjgIAAc71Ro0Zq3ry5fvjhB124cEF33nmnnnzySVWtWlW///674uLi9M033ygjI0Pr1q2T9PcjCWFhYQoPD1dwcLBKly6tNWvWmMe8ePFikV0PAIB9UcwDAG5oL730ktNz7VkNGDBAzz33nM6cOaNLly6Z75qvUqWKfH19nUZyi1pgYKAee+yxbO2TJ09W9erVJUl33323xo4dqxkzZujy5cuaPn26Obt9YfPy8tLixYt1zz336Ny5c9q2bZt69uzp1Cc0NFRvvvlmkZz/Wi1atEgdOnTQ6dOnFRMTo379+jlt9/f31wcffJDtFv4HH3xQq1atytaW1QcffKA777xTx48f1+7duzVkyJBsfa6MykvSmTNn9M477+idd97JMW/mkX8AAK7gNnsAwA0tPDxc99xzT67by5cvry+++EJt2rSRp6en/Pz8NGjQIG3fvt3p2e3i8Mknn+ipp55SlSpV5OHhoXr16unNN9/Uc88959Rv+vTp+vrrr9WzZ08FBQWpdOnSqlChgurXr6/Bgwfrk08+0e23314omdq1a6c9e/bo0UcfVY0aNeTh4SFvb281atRIzz33nHbv3q0qVaoUyrkKS/369bV371499dRTCgsLk5eXl7y8vFSnTh3961//0t69e9W4ceNs+2Udhb8yWp9V7dq1tXfvXk2cONF8Bt7T01MhISFq27atXnrpJc2dO9fsP378ePXt21e1atVS+fLl5ebmJj8/P7Vv316LFi3SqFGjiuZCAABszWEUxyw7AAAAAACg0DAyDwAAAACAzVDMAwAAAABgMxTzAAAAAADYDMU8AAAAAAA2QzEPAAAAAIDNUMwDAAAAAGAzFPMAAAAAANgMxTwAAAAAADZDMQ8AAAAAgM1QzAMAAAAAYDMU8wAAAAAA2AzFPAAAAAAANvP/AY2FS3lH8IDpAAAAAElFTkSuQmCC",
      "text/plain": [
       "<Figure size 1000x400 with 2 Axes>"
      ]
     },
     "metadata": {},
     "output_type": "display_data"
    }
   ],
   "source": [
<<<<<<< HEAD
    "histo_data = data_all[\"1.4\"]\n",
=======
    "histo_data = data_all[\"1.8\"]\n",
>>>>>>> miguel
    "print(histo_data, set(histo_data), len(histo_data))\n",
    "figure = plt.figure(constrained_layout=True, figsize=(10,4))\n",
    "gs = figure.add_gridspec(nrows=1, ncols=1, left=0.05, right=0.48, wspace=0.05)\n",
    "ax = figure.add_subplot(gs[0,0])\n",
    "#ax.set_yscale(\"log\")\n",
    "ax.spines[\"right\"].set_visible(False)\n",
    "ax.spines[\"top\"].set_visible(False)\n",
    "ax.set_xlabel(r\"Number of moves\", weight='bold', fontsize=13)\n",
    "ax.set_ylabel(r\"Frequencies\", weight=\"bold\", fontsize=13)\n",
    "ax.bar(list(set(histo_data)), [histo_data.count(s) for s in list(set(histo_data))],  width=.8, align='center')\n",
    "plt.title(\"Puzzle Level \"+str(level), fontsize=17,weight=\"bold\")\n",
<<<<<<< HEAD
    "ax2 = plt.axes([0.5, 0.35, 0.45, 0.5])\n",
=======
    "ax2 = plt.axes([0.64, 0.35, 0.35, 0.5])\n",
>>>>>>> miguel
    "ax2.spines[\"right\"].set_visible(False)\n",
    "ax2.spines[\"top\"].set_visible(False)\n",
    "histo_data = np.array(histo_data_7)\n",
    "plot_data = histo_data[histo_data<25].tolist()\n",
    "ax2.bar(list(set(plot_data)), [plot_data.count(s) for s in sorted(set(plot_data))],  width=.7, align='center', color=\"orange\")\n",
    "plt.savefig(\"../images/best_cvalue\"+str(dim)+\"_level\" +str(level)+\"number_of_move.pdf\")"
   ]
  },
  {
   "cell_type": "code",
<<<<<<< HEAD
   "execution_count": 33,
=======
   "execution_count": 135,
>>>>>>> miguel
   "id": "8ea7b9a4-1993-4589-8a46-4338365d4bec",
   "metadata": {},
   "outputs": [
    {
     "data": {
      "text/plain": [
       "17"
      ]
     },
     "execution_count": 135,
     "metadata": {},
     "output_type": "execute_result"
    }
   ],
   "source": [
    "histo_data = data_all[\"7.0\"]\n",
    "histo_data.count(6)"
   ]
  },
  {
   "cell_type": "code",
   "execution_count": 136,
   "id": "f1d40e52-9c04-42bb-9303-ea12477a6441",
   "metadata": {},
   "outputs": [
    {
     "data": {
      "text/plain": [
       "[17, 12, 18]"
      ]
     },
     "execution_count": 136,
     "metadata": {},
     "output_type": "execute_result"
    }
   ],
   "source": [
    "histo_data = data_all[\"7.0\"]\n",
    "[histo_data.count(mm) for mm in [6,7,8]]"
   ]
  },
  {
   "cell_type": "code",
   "execution_count": 137,
   "id": "9d878931-2ba5-4528-9949-d7024ce0a643",
   "metadata": {},
   "outputs": [
    {
     "data": {
      "text/plain": [
       "[14, 20, 25]"
      ]
     },
     "execution_count": 137,
     "metadata": {},
     "output_type": "execute_result"
    }
   ],
   "source": [
    "histo_data = data_all[\"1.8\"]\n",
    "[histo_data.count(mm) for mm in [6,7,8]]"
   ]
  },
  {
   "cell_type": "code",
   "execution_count": 138,
   "id": "b11e26dd-4afb-4c19-88fe-9d3ec85e76d4",
   "metadata": {},
   "outputs": [
    {
     "data": {
      "text/plain": [
       "[13, 20, 25]"
      ]
     },
     "execution_count": 138,
     "metadata": {},
     "output_type": "execute_result"
    }
   ],
   "source": [
    "histo_data = data_all[\"5.0\"]\n",
    "[histo_data.count(mm) for mm in [6,7,8]]"
   ]
  },
  {
   "cell_type": "code",
   "execution_count": 139,
   "id": "31b2ad10-7711-43da-98d0-124cd4cafa71",
   "metadata": {},
   "outputs": [],
   "source": [
    "number_of_levels = 3\n",
    "dim = 3 \n",
    "\n",
    "all_level_data = []\n",
    "for i in range(number_of_levels):\n",
    "    with open(\"../data/dim/\"+str(dim)+\"/level\"+str(i)+\"_levy_data.json\", \"r\")as jsonfile :\n",
    "        all_level_data  += [json.load(jsonfile)]\n",
    "        jsonfile.close()"
   ]
  },
  {
   "cell_type": "code",
   "execution_count": 162,
   "id": "0f192faa-f347-415d-a293-d1b6ed11b447",
   "metadata": {},
   "outputs": [
    {
     "name": "stdout",
     "output_type": "stream",
     "text": [
      "9.0 {6, 7, 8, 9, 10, 11, 12, 13, 14, 15, 17}\n",
      "12.0 {7, 8, 9, 10, 11, 12, 13, 14, 15, 16, 17, 18, 19, 20}\n",
      "16.0 {10, 11, 12, 13, 14, 15, 16, 17, 18, 19, 20, 21, 25, 27}\n"
     ]
    },
    {
     "data": {
      "image/png": "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",
      "text/plain": [
       "<Figure size 800x400 with 1 Axes>"
      ]
     },
     "metadata": {},
     "output_type": "display_data"
    }
   ],
   "source": [
    "figure = plt.figure(constrained_layout=True, figsize=(8,4))\n",
    "gs = figure.add_gridspec(nrows=1, ncols=1, left=0.05, right=0.48, wspace=0.05)\n",
    "ax = figure.add_subplot(gs[0,0])\n",
    "\n",
    "ax.spines[\"right\"].set_visible(False)\n",
    "ax.spines[\"top\"].set_visible(False)\n",
    "ax.set_xlabel(r\"Number of moves\", weight='bold', fontsize=13)\n",
    "ax.set_ylabel(r\"Frequencies\", weight=\"bold\", fontsize=13)\n",
    "plt.title(\"Cubic puzzle of dimension \"+str(dim), fontsize=17,weight=\"bold\")\n",
    "\n",
    "#ax2 = plt.axes([0.4, 0.35, 0.45, 0.5])\n",
    "#ax2.spines[\"right\"].set_visible(False)\n",
    "#ax2.spines[\"top\"].set_visible(False)\n",
    "title_fontproperties = matplotlib.font_manager.FontProperties(weight=\"bold\")\n",
<<<<<<< HEAD
    "best_mu = \"1.4\"\n",
    "colors = ['blue', 'orange', 'green', 'red']\n",
    "for i in range(number_of_levels) :\n",
    "    histo_data = all_level_data[i][best_mu]\n",
    "    print(histo_data, set(histo_data))\n",
=======
    "best_mu = \"1.8\"\n",
    "colors = ['blue', 'orange', 'green', 'red']\n",
    "for i in range(number_of_levels) :\n",
    "    histo_data = all_level_data[i][best_mu]\n",
    "    print(np.median(histo_data), set(histo_data))\n",
>>>>>>> miguel
    "    bar = ax.bar(list(set(histo_data)), [histo_data.count(s) for s in list(set(histo_data))],  width=.7, align='center')\n",
    "    bar.set_label(\"Level \"+str(i))\n",
    "    #ax2.bar(sorted(set(histo_data))[:13], [histo_data.count(s) for s in sorted(set(histo_data))[:13]],  width=.7, align='center')\n",
    "\n",
    "ax.legend(title=\"Difficulty levels:\", title_fontproperties=title_fontproperties)\n",
    "plt.savefig(\"../images/mu_\"+best_mu+\"prime_histo_dim_\"+str(dim)+\"_alllevels.pdf\")\n",
    "plt.show()"
   ]
  },
  {
   "cell_type": "code",
<<<<<<< HEAD
   "execution_count": 68,
=======
   "execution_count": 133,
>>>>>>> miguel
   "id": "9c4a5f94-d883-4882-9f9a-ec0b255592e4",
   "metadata": {},
   "outputs": [],
   "source": [
    "number_of_levels = 4\n",
    "dim = 4\n",
    "\n",
    "all_level_data = []\n",
    "for i in range(number_of_levels):\n",
    "    with open(\"../data/dim/\"+str(dim)+\"/level\"+str(i)+\"_levy_data.json\", \"r\")as jsonfile :\n",
    "        all_level_data  += [json.load(jsonfile)]\n",
    "        jsonfile.close()"
   ]
  },
  {
   "cell_type": "code",
   "execution_count": 134,
   "id": "67e3e63e-a623-4d34-83f7-fc6e3710d31b",
   "metadata": {},
   "outputs": [
    {
     "name": "stdout",
     "output_type": "stream",
     "text": [
      "[15, 13, 32, 27, 47, 13] {32, 13, 47, 15, 27}\n",
      "[103, 39, 14, 21] {21, 39, 14, 103}\n",
      "[51, 386, 178] {178, 386, 51}\n",
      "[108, 170, 424, 483, 156] {483, 424, 170, 108, 156}\n"
     ]
    },
    {
     "data": {
      "image/png": "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",
      "text/plain": [
       "<Figure size 800x400 with 1 Axes>"
      ]
     },
     "metadata": {},
     "output_type": "display_data"
    }
   ],
   "source": [
    "figure = plt.figure(constrained_layout=True, figsize=(8,4))\n",
    "gs = figure.add_gridspec(nrows=1, ncols=1, left=0.05, right=0.48, wspace=0.05)\n",
    "ax = figure.add_subplot(gs[0,0])\n",
    "\n",
    "ax.spines[\"right\"].set_visible(False)\n",
    "ax.spines[\"top\"].set_visible(False)\n",
    "ax.set_xlabel(r\"Number of moves\", weight='bold', fontsize=13)\n",
    "ax.set_ylabel(r\"Frequencies\", weight=\"bold\", fontsize=13)\n",
    "plt.title(\"Cubic puzzle of dimension \"+str(dim), fontsize=17,weight=\"bold\")\n",
    "\n",
    "#ax2 = plt.axes([0.4, 0.35, 0.45, 0.5])\n",
    "#ax2.spines[\"right\"].set_visible(False)\n",
    "#ax2.spines[\"top\"].set_visible(False)\n",
    "title_fontproperties = matplotlib.font_manager.FontProperties(weight=\"bold\")\n",
    "best_mu = \"1.0\"\n",
    "colors = ['blue', 'orange', 'green', 'red']\n",
    "for i in range(number_of_levels) :\n",
    "    histo_data = all_level_data[i][best_mu]\n",
    "    print(histo_data, set(histo_data))\n",
    "    bar = ax.bar(list(set(histo_data)), [histo_data.count(s) for s in list(set(histo_data))],  width=.7, align='center')\n",
    "    bar.set_label(\"Level \"+str(i))\n",
    "    #ax2.bar(sorted(set(histo_data))[:13], [histo_data.count(s) for s in sorted(set(histo_data))[:13]],  width=.7, align='center')\n",
    "\n",
    "ax.legend(title=\"Difficulty levels:\", title_fontproperties=title_fontproperties)\n",
    "#plt.savefig(\"../images/mu_\"+best_mu+\"prime_histo_dim_\"+str(dim)+\"_alllevels.pdf\")\n",
    "plt.show()"
   ]
  },
  {
   "cell_type": "code",
   "execution_count": 161,
   "id": "50e3ccb7-9958-4644-85c2-91f47a300551",
   "metadata": {},
   "outputs": [
    {
     "name": "stdout",
     "output_type": "stream",
     "text": [
      "22\n"
     ]
    }
   ],
   "source": [
    "print(f\"{}{2}\".format(2,2))"
   ]
  },
  {
   "cell_type": "markdown",
   "id": "037a4665-8ea9-455b-aebe-cbea663ab6cc",
   "metadata": {},
   "source": [
    "# A^* Search analyis"
   ]
  },
  {
   "cell_type": "code",
   "execution_count": 168,
   "id": "51045d0a-fe19-482b-af2b-bf04c116b99c",
   "metadata": {},
   "outputs": [],
   "source": [
    "d = 3 \n",
    "k = 2 \n",
    "l = 4 \n",
    "level = 1 \n",
    "njob = 200\n",
    "log_folder = \"../data/as/dim/\"+str(d)+\"/k/\"+str(k)+\"/level\"+str(level)+\"/\"\n",
    "as_df = pd.read_csv(log_folder+\"as_solutions\"+str(njob)+\".csv\")"
   ]
  },
  {
   "cell_type": "code",
   "execution_count": 169,
   "id": "4d8c222d-5881-4a57-9d1f-3eabbf675a10",
   "metadata": {},
   "outputs": [
    {
     "data": {
      "text/html": [
       "<div>\n",
       "<style scoped>\n",
       "    .dataframe tbody tr th:only-of-type {\n",
       "        vertical-align: middle;\n",
       "    }\n",
       "\n",
       "    .dataframe tbody tr th {\n",
       "        vertical-align: top;\n",
       "    }\n",
       "\n",
       "    .dataframe thead th {\n",
       "        text-align: right;\n",
       "    }\n",
       "</style>\n",
       "<table border=\"1\" class=\"dataframe\">\n",
       "  <thead>\n",
       "    <tr style=\"text-align: right;\">\n",
       "      <th></th>\n",
       "      <th>Unnamed: 0</th>\n",
       "      <th>d</th>\n",
       "      <th>k</th>\n",
       "      <th>l</th>\n",
       "      <th>level</th>\n",
       "      <th>Min</th>\n",
       "      <th>Moves</th>\n",
       "    </tr>\n",
       "  </thead>\n",
       "  <tbody>\n",
       "    <tr>\n",
       "      <th>0</th>\n",
       "      <td>0</td>\n",
       "      <td>3</td>\n",
       "      <td>2</td>\n",
       "      <td>4</td>\n",
       "      <td>1</td>\n",
       "      <td>7</td>\n",
       "      <td>[(2.0, 'blue'), (3.0, 'red'), (0.0, 'purple'),...</td>\n",
       "    </tr>\n",
       "    <tr>\n",
       "      <th>1</th>\n",
       "      <td>1</td>\n",
       "      <td>3</td>\n",
       "      <td>2</td>\n",
       "      <td>4</td>\n",
       "      <td>1</td>\n",
       "      <td>7</td>\n",
       "      <td>[(2.0, 'blue'), (3.0, 'red'), (0.0, 'purple'),...</td>\n",
       "    </tr>\n",
       "    <tr>\n",
       "      <th>2</th>\n",
       "      <td>2</td>\n",
       "      <td>3</td>\n",
       "      <td>2</td>\n",
       "      <td>4</td>\n",
       "      <td>1</td>\n",
       "      <td>7</td>\n",
       "      <td>[(2.0, 'blue'), (3.0, 'red'), (0.0, 'purple'),...</td>\n",
       "    </tr>\n",
       "    <tr>\n",
       "      <th>3</th>\n",
       "      <td>3</td>\n",
       "      <td>3</td>\n",
       "      <td>2</td>\n",
       "      <td>4</td>\n",
       "      <td>1</td>\n",
       "      <td>7</td>\n",
       "      <td>[(2.0, 'blue'), (3.0, 'red'), (0.0, 'purple'),...</td>\n",
       "    </tr>\n",
       "    <tr>\n",
       "      <th>4</th>\n",
       "      <td>4</td>\n",
       "      <td>3</td>\n",
       "      <td>2</td>\n",
       "      <td>4</td>\n",
       "      <td>1</td>\n",
       "      <td>7</td>\n",
       "      <td>[(2.0, 'blue'), (3.0, 'red'), (0.0, 'purple'),...</td>\n",
       "    </tr>\n",
       "    <tr>\n",
       "      <th>...</th>\n",
       "      <td>...</td>\n",
       "      <td>...</td>\n",
       "      <td>...</td>\n",
       "      <td>...</td>\n",
       "      <td>...</td>\n",
       "      <td>...</td>\n",
       "      <td>...</td>\n",
       "    </tr>\n",
       "    <tr>\n",
       "      <th>195</th>\n",
       "      <td>195</td>\n",
       "      <td>3</td>\n",
       "      <td>2</td>\n",
       "      <td>4</td>\n",
       "      <td>1</td>\n",
       "      <td>7</td>\n",
       "      <td>[(2.0, 'blue'), (3.0, 'red'), (0.0, 'purple'),...</td>\n",
       "    </tr>\n",
       "    <tr>\n",
       "      <th>196</th>\n",
       "      <td>196</td>\n",
       "      <td>3</td>\n",
       "      <td>2</td>\n",
       "      <td>4</td>\n",
       "      <td>1</td>\n",
       "      <td>7</td>\n",
       "      <td>[(2.0, 'blue'), (3.0, 'red'), (0.0, 'purple'),...</td>\n",
       "    </tr>\n",
       "    <tr>\n",
       "      <th>197</th>\n",
       "      <td>197</td>\n",
       "      <td>3</td>\n",
       "      <td>2</td>\n",
       "      <td>4</td>\n",
       "      <td>1</td>\n",
       "      <td>7</td>\n",
       "      <td>[(2.0, 'blue'), (3.0, 'red'), (0.0, 'purple'),...</td>\n",
       "    </tr>\n",
       "    <tr>\n",
       "      <th>198</th>\n",
       "      <td>198</td>\n",
       "      <td>3</td>\n",
       "      <td>2</td>\n",
       "      <td>4</td>\n",
       "      <td>1</td>\n",
       "      <td>7</td>\n",
       "      <td>[(2.0, 'blue'), (3.0, 'red'), (0.0, 'purple'),...</td>\n",
       "    </tr>\n",
       "    <tr>\n",
       "      <th>199</th>\n",
       "      <td>199</td>\n",
       "      <td>3</td>\n",
       "      <td>2</td>\n",
       "      <td>4</td>\n",
       "      <td>1</td>\n",
       "      <td>7</td>\n",
       "      <td>[(2.0, 'blue'), (3.0, 'red'), (0.0, 'purple'),...</td>\n",
       "    </tr>\n",
       "  </tbody>\n",
       "</table>\n",
       "<p>200 rows × 7 columns</p>\n",
       "</div>"
      ],
      "text/plain": [
       "     Unnamed: 0  d  k  l  level  Min  \\\n",
       "0             0  3  2  4      1    7   \n",
       "1             1  3  2  4      1    7   \n",
       "2             2  3  2  4      1    7   \n",
       "3             3  3  2  4      1    7   \n",
       "4             4  3  2  4      1    7   \n",
       "..          ... .. .. ..    ...  ...   \n",
       "195         195  3  2  4      1    7   \n",
       "196         196  3  2  4      1    7   \n",
       "197         197  3  2  4      1    7   \n",
       "198         198  3  2  4      1    7   \n",
       "199         199  3  2  4      1    7   \n",
       "\n",
       "                                                 Moves  \n",
       "0    [(2.0, 'blue'), (3.0, 'red'), (0.0, 'purple'),...  \n",
       "1    [(2.0, 'blue'), (3.0, 'red'), (0.0, 'purple'),...  \n",
       "2    [(2.0, 'blue'), (3.0, 'red'), (0.0, 'purple'),...  \n",
       "3    [(2.0, 'blue'), (3.0, 'red'), (0.0, 'purple'),...  \n",
       "4    [(2.0, 'blue'), (3.0, 'red'), (0.0, 'purple'),...  \n",
       "..                                                 ...  \n",
       "195  [(2.0, 'blue'), (3.0, 'red'), (0.0, 'purple'),...  \n",
       "196  [(2.0, 'blue'), (3.0, 'red'), (0.0, 'purple'),...  \n",
       "197  [(2.0, 'blue'), (3.0, 'red'), (0.0, 'purple'),...  \n",
       "198  [(2.0, 'blue'), (3.0, 'red'), (0.0, 'purple'),...  \n",
       "199  [(2.0, 'blue'), (3.0, 'red'), (0.0, 'purple'),...  \n",
       "\n",
       "[200 rows x 7 columns]"
      ]
     },
     "execution_count": 169,
     "metadata": {},
     "output_type": "execute_result"
    }
   ],
   "source": [
    "as_df"
   ]
  },
  {
   "cell_type": "code",
   "execution_count": 172,
   "id": "cae230d1-1f7e-4cfd-ad4b-b8a9dd393e8f",
   "metadata": {},
   "outputs": [
    {
     "data": {
      "text/plain": [
       "{7}"
      ]
     },
     "execution_count": 172,
     "metadata": {},
     "output_type": "execute_result"
    }
   ],
   "source": [
    "set(as_df['Min'].values)"
   ]
  },
  {
   "cell_type": "code",
   "execution_count": 177,
   "id": "4c8eace1-5064-4a57-9de5-2627a8efca5d",
   "metadata": {},
   "outputs": [],
   "source": [
    "as_data = np.load(\"../src/rl/RL_runs_dict.npy\", allow_pickle=True)"
   ]
  },
  {
   "cell_type": "code",
   "execution_count": 232,
   "id": "01ccce04-0b1d-4970-970e-9d6cc63252c7",
   "metadata": {},
   "outputs": [
    {
     "name": "stdout",
     "output_type": "stream",
     "text": [
      "[6, 6, 6, 6, 6, 6, 6, 6, 6, 6, 6, 6, 6, 6, 6, 6, 6, 6, 7, 6, 6, 6, 7, 7, 6, 6, 7, 7, 6, 6, 6, 6, 6, 6, 6, 6, 6, 6, 6, 7, 7, 6, 7, 6, 6, 7, 7, 6, 6, 6, 7, 6, 6, 6, 6, 6, 6, 6, 6, 6, 6, 6, 6, 7, 6, 6, 7, 7, 6, 7, 7, 6, 6, 6, 6, 6, 6, 6, 6, 7, 6, 6, 6, 6, 6, 6, 6, 7, 6, 6, 6, 6, 6, 6, 7, 6, 6, 6, 6, 6, 6, 7, 6, 6, 6, 6, 7, 6, 6, 6, 6, 6, 6, 6, 6, 6, 6, 7, 6, 6, 6, 6, 6, 6, 6, 6, 7, 7, 6, 6, 7, 6, 6, 6, 6, 6, 6, 6, 6, 6, 6, 6, 7, 6, 6, 6, 6, 6, 6, 6]\n",
      "[7, 7, 7, 8, 7, 9, 8, 8, 7, 9, 8, 7, 7, 8, 9, 8, 7, 8, 8, 8, 7, 7, 8, 7, 7, 8, 8, 8, 7, 7, 7, 7, 8, 7, 8, 7, 8, 7, 8, 7, 8, 8, 7, 8, 7, 7, 8, 8, 8, 7, 7, 7, 8, 8, 7, 7, 8, 8, 7, 8, 7, 8, 8, 8, 8, 7, 8, 7, 8, 7, 8, 7, 7, 7, 8, 8, 7, 8, 8, 7, 7, 7, 7, 7, 7, 8, 7, 8, 8, 7, 7, 7, 8, 8, 8, 7, 8, 7, 8, 8, 8, 7, 7, 7, 8, 7, 8, 7, 7, 7, 8, 8, 7, 7, 7, 8, 8, 7, 7, 7, 7, 8, 7, 7, 7, 7, 8, 7, 9, 9, 7, 7, 8, 7, 7, 8, 8, 7, 7, 7, 8, 7, 7, 7, 7, 7, 7, 8, 7, 7]\n",
      "[9, 10, 9, 10, 10, 10, 10, 10, 10, 9, 10, 9, 10, 10, 9, 11, 11, 10, 10, 9, 10, 10, 11, 9, 9, 9, 10, 9, 10, 9, 10, 9, 10, 9, 10, 10, 10, 11, 9, 10, 10, 9, 10, 10, 9, 10, 11, 9, 10, 10, 10, 9, 10, 10, 9, 10, 10, 10, 10, 9, 9, 9, 9, 9, 9, 10, 9, 12, 9, 9, 9, 9, 10, 10, 9, 9, 10, 9, 9, 10, 9, 9, 9, 9, 11, 9, 11, 9, 9, 11, 9, 9, 10, 10, 9, 9, 10, 9, 9, 10, 9, 9, 10, 9, 11, 10, 10, 9, 9, 9, 10, 9, 10, 9, 10, 10, 9, 10, 10, 10, 9, 9, 9, 10, 9, 9, 9, 10, 9, 9, 9, 9, 10, 10, 9, 9, 10, 10, 9, 9, 9, 9, 10, 10, 10, 10, 10, 9, 10, 9]\n"
     ]
    }
   ],
   "source": [
    "d = 3 \n",
    "k = 2 \n",
    "levels = [0,1,2]\n",
    "as_levels_data = {}\n",
    "all_data_level3 = []\n",
    "for l in levels: \n",
    "    as_levels_data[l] = as_data.tolist()[(d,k,l)]\n",
    "    all_data_level3 += [[d, k, l]]*len(as_data.tolist()[(d,k,l)])\n",
    "    print(as_data.tolist()[(d,k,l)])"
   ]
  },
  {
   "cell_type": "code",
   "execution_count": 227,
   "id": "0021036e-d440-4d59-a323-3b0cbb5b8fed",
   "metadata": {},
   "outputs": [
    {
     "data": {
      "text/plain": [
       "450"
      ]
     },
     "execution_count": 227,
     "metadata": {},
     "output_type": "execute_result"
    }
   ],
   "source": [
    "len(all_data_level3)"
   ]
  },
  {
   "cell_type": "code",
   "execution_count": null,
   "id": "12a49a37-c3e2-4f50-bf23-69d24c643f52",
   "metadata": {},
   "outputs": [],
   "source": []
  },
  {
   "cell_type": "code",
   "execution_count": 228,
   "id": "62b4cfd6-4817-40f0-ab24-484a634764fb",
   "metadata": {},
   "outputs": [
    {
     "data": {
      "text/html": [
       "<div>\n",
       "<style scoped>\n",
       "    .dataframe tbody tr th:only-of-type {\n",
       "        vertical-align: middle;\n",
       "    }\n",
       "\n",
       "    .dataframe tbody tr th {\n",
       "        vertical-align: top;\n",
       "    }\n",
       "\n",
       "    .dataframe thead th {\n",
       "        text-align: right;\n",
       "    }\n",
       "</style>\n",
       "<table border=\"1\" class=\"dataframe\">\n",
       "  <thead>\n",
       "    <tr style=\"text-align: right;\">\n",
       "      <th></th>\n",
       "      <th>d</th>\n",
       "      <th>k</th>\n",
       "      <th>level</th>\n",
       "    </tr>\n",
       "  </thead>\n",
       "  <tbody>\n",
       "    <tr>\n",
       "      <th>0</th>\n",
       "      <td>3</td>\n",
       "      <td>2</td>\n",
       "      <td>0</td>\n",
       "    </tr>\n",
       "    <tr>\n",
       "      <th>1</th>\n",
       "      <td>3</td>\n",
       "      <td>2</td>\n",
       "      <td>0</td>\n",
       "    </tr>\n",
       "    <tr>\n",
       "      <th>2</th>\n",
       "      <td>3</td>\n",
       "      <td>2</td>\n",
       "      <td>0</td>\n",
       "    </tr>\n",
       "    <tr>\n",
       "      <th>3</th>\n",
       "      <td>3</td>\n",
       "      <td>2</td>\n",
       "      <td>0</td>\n",
       "    </tr>\n",
       "    <tr>\n",
       "      <th>4</th>\n",
       "      <td>3</td>\n",
       "      <td>2</td>\n",
       "      <td>0</td>\n",
       "    </tr>\n",
       "    <tr>\n",
       "      <th>...</th>\n",
       "      <td>...</td>\n",
       "      <td>...</td>\n",
       "      <td>...</td>\n",
       "    </tr>\n",
       "    <tr>\n",
       "      <th>445</th>\n",
       "      <td>3</td>\n",
       "      <td>2</td>\n",
       "      <td>2</td>\n",
       "    </tr>\n",
       "    <tr>\n",
       "      <th>446</th>\n",
       "      <td>3</td>\n",
       "      <td>2</td>\n",
       "      <td>2</td>\n",
       "    </tr>\n",
       "    <tr>\n",
       "      <th>447</th>\n",
       "      <td>3</td>\n",
       "      <td>2</td>\n",
       "      <td>2</td>\n",
       "    </tr>\n",
       "    <tr>\n",
       "      <th>448</th>\n",
       "      <td>3</td>\n",
       "      <td>2</td>\n",
       "      <td>2</td>\n",
       "    </tr>\n",
       "    <tr>\n",
       "      <th>449</th>\n",
       "      <td>3</td>\n",
       "      <td>2</td>\n",
       "      <td>2</td>\n",
       "    </tr>\n",
       "  </tbody>\n",
       "</table>\n",
       "<p>450 rows × 3 columns</p>\n",
       "</div>"
      ],
      "text/plain": [
       "     d  k  level\n",
       "0    3  2      0\n",
       "1    3  2      0\n",
       "2    3  2      0\n",
       "3    3  2      0\n",
       "4    3  2      0\n",
       "..  .. ..    ...\n",
       "445  3  2      2\n",
       "446  3  2      2\n",
       "447  3  2      2\n",
       "448  3  2      2\n",
       "449  3  2      2\n",
       "\n",
       "[450 rows x 3 columns]"
      ]
     },
     "execution_count": 228,
     "metadata": {},
     "output_type": "execute_result"
    }
   ],
   "source": [
    "df_as_data = pd.DataFrame(all_data_level3, columns=['d', 'k', 'level'])\n",
    "df_as_data"
   ]
  },
  {
   "cell_type": "code",
   "execution_count": 222,
   "id": "d6908cfa-3620-4852-a714-5cb90369751d",
   "metadata": {},
   "outputs": [],
   "source": [
    "df_as_data[\"Number of moves\"] = pd.Series(as_levels_data[0]+as_levels_data[1]+as_levels_data[2])"
   ]
  },
  {
   "cell_type": "code",
   "execution_count": 223,
   "id": "cc48d0e7-74a0-4547-8bb5-a54bf4b49394",
   "metadata": {},
   "outputs": [
    {
     "data": {
      "text/html": [
       "<div>\n",
       "<style scoped>\n",
       "    .dataframe tbody tr th:only-of-type {\n",
       "        vertical-align: middle;\n",
       "    }\n",
       "\n",
       "    .dataframe tbody tr th {\n",
       "        vertical-align: top;\n",
       "    }\n",
       "\n",
       "    .dataframe thead th {\n",
       "        text-align: right;\n",
       "    }\n",
       "</style>\n",
       "<table border=\"1\" class=\"dataframe\">\n",
       "  <thead>\n",
       "    <tr style=\"text-align: right;\">\n",
       "      <th></th>\n",
       "      <th>d</th>\n",
       "      <th>k</th>\n",
       "      <th>level</th>\n",
       "      <th>Number of moves</th>\n",
       "    </tr>\n",
       "  </thead>\n",
       "  <tbody>\n",
       "    <tr>\n",
       "      <th>0</th>\n",
       "      <td>3</td>\n",
       "      <td>2</td>\n",
       "      <td>0</td>\n",
       "      <td>6</td>\n",
       "    </tr>\n",
       "    <tr>\n",
       "      <th>1</th>\n",
       "      <td>3</td>\n",
       "      <td>2</td>\n",
       "      <td>0</td>\n",
       "      <td>6</td>\n",
       "    </tr>\n",
       "    <tr>\n",
       "      <th>2</th>\n",
       "      <td>3</td>\n",
       "      <td>2</td>\n",
       "      <td>0</td>\n",
       "      <td>6</td>\n",
       "    </tr>\n",
       "    <tr>\n",
       "      <th>3</th>\n",
       "      <td>3</td>\n",
       "      <td>2</td>\n",
       "      <td>0</td>\n",
       "      <td>6</td>\n",
       "    </tr>\n",
       "    <tr>\n",
       "      <th>4</th>\n",
       "      <td>3</td>\n",
       "      <td>2</td>\n",
       "      <td>0</td>\n",
       "      <td>6</td>\n",
       "    </tr>\n",
       "    <tr>\n",
       "      <th>...</th>\n",
       "      <td>...</td>\n",
       "      <td>...</td>\n",
       "      <td>...</td>\n",
       "      <td>...</td>\n",
       "    </tr>\n",
       "    <tr>\n",
       "      <th>445</th>\n",
       "      <td>3</td>\n",
       "      <td>2</td>\n",
       "      <td>2</td>\n",
       "      <td>10</td>\n",
       "    </tr>\n",
       "    <tr>\n",
       "      <th>446</th>\n",
       "      <td>3</td>\n",
       "      <td>2</td>\n",
       "      <td>2</td>\n",
       "      <td>10</td>\n",
       "    </tr>\n",
       "    <tr>\n",
       "      <th>447</th>\n",
       "      <td>3</td>\n",
       "      <td>2</td>\n",
       "      <td>2</td>\n",
       "      <td>9</td>\n",
       "    </tr>\n",
       "    <tr>\n",
       "      <th>448</th>\n",
       "      <td>3</td>\n",
       "      <td>2</td>\n",
       "      <td>2</td>\n",
       "      <td>10</td>\n",
       "    </tr>\n",
       "    <tr>\n",
       "      <th>449</th>\n",
       "      <td>3</td>\n",
       "      <td>2</td>\n",
       "      <td>2</td>\n",
       "      <td>9</td>\n",
       "    </tr>\n",
       "  </tbody>\n",
       "</table>\n",
       "<p>450 rows × 4 columns</p>\n",
       "</div>"
      ],
      "text/plain": [
       "     d  k  level  Number of moves\n",
       "0    3  2      0                6\n",
       "1    3  2      0                6\n",
       "2    3  2      0                6\n",
       "3    3  2      0                6\n",
       "4    3  2      0                6\n",
       "..  .. ..    ...              ...\n",
       "445  3  2      2               10\n",
       "446  3  2      2               10\n",
       "447  3  2      2                9\n",
       "448  3  2      2               10\n",
       "449  3  2      2                9\n",
       "\n",
       "[450 rows x 4 columns]"
      ]
     },
     "execution_count": 223,
     "metadata": {},
     "output_type": "execute_result"
    }
   ],
   "source": [
    "df_as_data"
   ]
  },
  {
   "cell_type": "code",
   "execution_count": 200,
   "id": "7aaf0d05-5f9d-48bd-adf5-884aa7ba13b4",
   "metadata": {},
   "outputs": [],
   "source": [
    "import seaborn as sns "
   ]
  },
  {
   "cell_type": "code",
   "execution_count": 224,
   "id": "9b327735-5ef9-41a5-8039-d0ea5534c970",
   "metadata": {},
   "outputs": [
    {
     "data": {
      "text/plain": [
       "<Axes: xlabel='level', ylabel='Number of moves'>"
      ]
     },
     "execution_count": 224,
     "metadata": {},
     "output_type": "execute_result"
    },
    {
     "data": {
      "image/png": "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",
      "text/plain": [
       "<Figure size 640x480 with 1 Axes>"
      ]
     },
     "metadata": {},
     "output_type": "display_data"
    }
   ],
   "source": [
    "sns.boxplot(df_as_data, x =\"level\", y=\"Number of moves\")"
   ]
  },
  {
   "cell_type": "code",
   "execution_count": 233,
   "id": "d715843c-b8af-41f4-981f-0a6fd822134c",
   "metadata": {},
   "outputs": [
    {
     "name": "stdout",
     "output_type": "stream",
     "text": [
      "[4, 4, 4, 4, 4, 4, 4, 4, 4, 4, 4, 4, 4, 4, 4, 4, 4, 4, 4, 4, 4, 4, 4, 4, 4, 4, 4, 4, 4, 4, 4, 4, 4, 4, 4, 4, 4, 4, 4, 4, 4, 4, 4, 4, 4, 4, 4, 4, 4, 4, 4, 4, 4, 4, 4, 4, 4, 4, 4, 4, 4, 4, 4, 4, 4, 4, 4, 4, 4, 4, 4, 4, 4, 4, 4, 4, 4, 4, 4, 4, 4, 4, 4, 4, 4, 4, 4, 4, 4, 4, 4, 4, 4, 4, 4, 4, 4, 4, 4, 4, 4, 4, 4, 4, 4, 4, 4, 4, 4, 4, 4, 4, 4, 4, 4, 4, 4, 4, 4, 4, 4, 4, 4, 4, 4, 4, 4, 4, 4, 4, 4, 4, 4, 4, 4, 4, 4, 4, 4, 4, 4, 4, 4, 4, 4, 4, 4, 4, 4, 4]\n",
      "[6, 6, 6, 6, 6, 6, 6, 6, 6, 6, 6, 6, 6, 6, 6, 6, 6, 6, 6, 6, 6, 6, 6, 6, 6, 6, 6, 6, 6, 6, 6, 6, 6, 6, 6, 6, 6, 6, 6, 6, 6, 6, 6, 6, 6, 6, 6, 6, 6, 6, 6, 6, 6, 6, 6, 6, 6, 6, 6, 6, 6, 6, 6, 6, 6, 6, 6, 6, 6, 6, 6, 6, 6, 6, 6, 6, 6, 6, 6, 6, 6, 6, 6, 6, 6, 6, 6, 6, 6, 6, 6, 6, 6, 6, 6, 6, 6, 6, 6, 6, 6, 6, 6, 6, 6, 6, 6, 6, 6, 6, 6, 6, 6, 6, 6, 6, 6, 6, 6, 6, 6, 6, 6, 6, 6, 6, 6, 6, 6, 6, 6, 6, 6, 6, 6, 6, 6, 6, 6, 6, 6, 6, 6, 6, 6, 6, 6, 6, 6, 6]\n",
      "[10, 10, 10, 10, 10, 10, 10, 10, 10, 10, 10, 10, 10, 10, 10, 10, 10, 10, 10, 10, 10, 10, 10, 10, 10, 10, 10, 10, 10, 10, 10, 10, 10, 10, 10, 10, 10, 10, 10, 10, 10, 10, 10, 10, 10, 10, 10, 10, 10, 10, 10, 10, 10, 10, 10, 10, 10, 10, 10, 10, 10, 10, 10, 10, 10, 10, 10, 10, 10, 10, 10, 10, 10, 10, 10, 10, 10, 10, 10, 10, 10, 10, 10, 10, 10, 10, 10, 10, 10, 10, 10, 10, 10, 10, 10, 10, 10, 10, 10, 10, 10, 10, 10, 10, 10, 10, 10, 10, 10, 10, 10, 10, 10, 10, 10, 10, 10, 10, 10, 10, 10, 10, 10, 10, 10, 10, 10, 10, 10, 10, 10, 10, 10, 10, 10, 10, 10, 10, 10, 10, 10, 10, 10, 10, 10, 10, 10, 10, 10, 10]\n"
     ]
    }
   ],
   "source": [
    "d = 3 \n",
    "k = 1 \n",
    "levels = [0,1,2]\n",
    "as_levels_data1 = {}\n",
    "for l in levels: \n",
    "    as_levels_data1[l] = as_data.tolist()[(d,k,l)]\n",
    "    all_data_level3 += [[d, k, l]]*len(as_data.tolist()[(d,k,l)])\n",
    "    print(as_data.tolist()[(d,k,l)])"
   ]
  },
  {
   "cell_type": "code",
   "execution_count": 234,
   "id": "4086a379-489a-4cf4-b3fd-c2495af894ef",
   "metadata": {},
   "outputs": [
    {
     "data": {
      "text/html": [
       "<div>\n",
       "<style scoped>\n",
       "    .dataframe tbody tr th:only-of-type {\n",
       "        vertical-align: middle;\n",
       "    }\n",
       "\n",
       "    .dataframe tbody tr th {\n",
       "        vertical-align: top;\n",
       "    }\n",
       "\n",
       "    .dataframe thead th {\n",
       "        text-align: right;\n",
       "    }\n",
       "</style>\n",
       "<table border=\"1\" class=\"dataframe\">\n",
       "  <thead>\n",
       "    <tr style=\"text-align: right;\">\n",
       "      <th></th>\n",
       "      <th>d</th>\n",
       "      <th>k</th>\n",
       "      <th>level</th>\n",
       "    </tr>\n",
       "  </thead>\n",
       "  <tbody>\n",
       "    <tr>\n",
       "      <th>0</th>\n",
       "      <td>3</td>\n",
       "      <td>2</td>\n",
       "      <td>0</td>\n",
       "    </tr>\n",
       "    <tr>\n",
       "      <th>1</th>\n",
       "      <td>3</td>\n",
       "      <td>2</td>\n",
       "      <td>0</td>\n",
       "    </tr>\n",
       "    <tr>\n",
       "      <th>2</th>\n",
       "      <td>3</td>\n",
       "      <td>2</td>\n",
       "      <td>0</td>\n",
       "    </tr>\n",
       "    <tr>\n",
       "      <th>3</th>\n",
       "      <td>3</td>\n",
       "      <td>2</td>\n",
       "      <td>0</td>\n",
       "    </tr>\n",
       "    <tr>\n",
       "      <th>4</th>\n",
       "      <td>3</td>\n",
       "      <td>2</td>\n",
       "      <td>0</td>\n",
       "    </tr>\n",
       "    <tr>\n",
       "      <th>...</th>\n",
       "      <td>...</td>\n",
       "      <td>...</td>\n",
       "      <td>...</td>\n",
       "    </tr>\n",
       "    <tr>\n",
       "      <th>895</th>\n",
       "      <td>3</td>\n",
       "      <td>1</td>\n",
       "      <td>2</td>\n",
       "    </tr>\n",
       "    <tr>\n",
       "      <th>896</th>\n",
       "      <td>3</td>\n",
       "      <td>1</td>\n",
       "      <td>2</td>\n",
       "    </tr>\n",
       "    <tr>\n",
       "      <th>897</th>\n",
       "      <td>3</td>\n",
       "      <td>1</td>\n",
       "      <td>2</td>\n",
       "    </tr>\n",
       "    <tr>\n",
       "      <th>898</th>\n",
       "      <td>3</td>\n",
       "      <td>1</td>\n",
       "      <td>2</td>\n",
       "    </tr>\n",
       "    <tr>\n",
       "      <th>899</th>\n",
       "      <td>3</td>\n",
       "      <td>1</td>\n",
       "      <td>2</td>\n",
       "    </tr>\n",
       "  </tbody>\n",
       "</table>\n",
       "<p>900 rows × 3 columns</p>\n",
       "</div>"
      ],
      "text/plain": [
       "     d  k  level\n",
       "0    3  2      0\n",
       "1    3  2      0\n",
       "2    3  2      0\n",
       "3    3  2      0\n",
       "4    3  2      0\n",
       "..  .. ..    ...\n",
       "895  3  1      2\n",
       "896  3  1      2\n",
       "897  3  1      2\n",
       "898  3  1      2\n",
       "899  3  1      2\n",
       "\n",
       "[900 rows x 3 columns]"
      ]
     },
     "execution_count": 234,
     "metadata": {},
     "output_type": "execute_result"
    }
   ],
   "source": [
    "df_as_data = pd.DataFrame(all_data_level3, columns=['d', 'k', 'level'])\n",
    "df_as_data"
   ]
  },
  {
   "cell_type": "code",
   "execution_count": 235,
   "id": "4860da7b-b941-45f3-9358-6afac6d843ec",
   "metadata": {},
   "outputs": [],
   "source": [
    "df_as_data[\"Number of moves\"] = pd.Series(as_levels_data[0]+as_levels_data[1]+as_levels_data[2]+ as_levels_data1[0] + \n",
    "                                          as_levels_data[1]+as_levels_data1[2])"
   ]
  },
  {
   "cell_type": "code",
   "execution_count": 236,
   "id": "98aab7f8-cbb4-4de2-8c87-ab051bcb374f",
   "metadata": {},
   "outputs": [
    {
     "data": {
      "text/html": [
       "<div>\n",
       "<style scoped>\n",
       "    .dataframe tbody tr th:only-of-type {\n",
       "        vertical-align: middle;\n",
       "    }\n",
       "\n",
       "    .dataframe tbody tr th {\n",
       "        vertical-align: top;\n",
       "    }\n",
       "\n",
       "    .dataframe thead th {\n",
       "        text-align: right;\n",
       "    }\n",
       "</style>\n",
       "<table border=\"1\" class=\"dataframe\">\n",
       "  <thead>\n",
       "    <tr style=\"text-align: right;\">\n",
       "      <th></th>\n",
       "      <th>d</th>\n",
       "      <th>k</th>\n",
       "      <th>level</th>\n",
       "      <th>Number of moves</th>\n",
       "    </tr>\n",
       "  </thead>\n",
       "  <tbody>\n",
       "    <tr>\n",
       "      <th>0</th>\n",
       "      <td>3</td>\n",
       "      <td>2</td>\n",
       "      <td>0</td>\n",
       "      <td>6</td>\n",
       "    </tr>\n",
       "    <tr>\n",
       "      <th>1</th>\n",
       "      <td>3</td>\n",
       "      <td>2</td>\n",
       "      <td>0</td>\n",
       "      <td>6</td>\n",
       "    </tr>\n",
       "    <tr>\n",
       "      <th>2</th>\n",
       "      <td>3</td>\n",
       "      <td>2</td>\n",
       "      <td>0</td>\n",
       "      <td>6</td>\n",
       "    </tr>\n",
       "    <tr>\n",
       "      <th>3</th>\n",
       "      <td>3</td>\n",
       "      <td>2</td>\n",
       "      <td>0</td>\n",
       "      <td>6</td>\n",
       "    </tr>\n",
       "    <tr>\n",
       "      <th>4</th>\n",
       "      <td>3</td>\n",
       "      <td>2</td>\n",
       "      <td>0</td>\n",
       "      <td>6</td>\n",
       "    </tr>\n",
       "    <tr>\n",
       "      <th>...</th>\n",
       "      <td>...</td>\n",
       "      <td>...</td>\n",
       "      <td>...</td>\n",
       "      <td>...</td>\n",
       "    </tr>\n",
       "    <tr>\n",
       "      <th>895</th>\n",
       "      <td>3</td>\n",
       "      <td>1</td>\n",
       "      <td>2</td>\n",
       "      <td>10</td>\n",
       "    </tr>\n",
       "    <tr>\n",
       "      <th>896</th>\n",
       "      <td>3</td>\n",
       "      <td>1</td>\n",
       "      <td>2</td>\n",
       "      <td>10</td>\n",
       "    </tr>\n",
       "    <tr>\n",
       "      <th>897</th>\n",
       "      <td>3</td>\n",
       "      <td>1</td>\n",
       "      <td>2</td>\n",
       "      <td>10</td>\n",
       "    </tr>\n",
       "    <tr>\n",
       "      <th>898</th>\n",
       "      <td>3</td>\n",
       "      <td>1</td>\n",
       "      <td>2</td>\n",
       "      <td>10</td>\n",
       "    </tr>\n",
       "    <tr>\n",
       "      <th>899</th>\n",
       "      <td>3</td>\n",
       "      <td>1</td>\n",
       "      <td>2</td>\n",
       "      <td>10</td>\n",
       "    </tr>\n",
       "  </tbody>\n",
       "</table>\n",
       "<p>900 rows × 4 columns</p>\n",
       "</div>"
      ],
      "text/plain": [
       "     d  k  level  Number of moves\n",
       "0    3  2      0                6\n",
       "1    3  2      0                6\n",
       "2    3  2      0                6\n",
       "3    3  2      0                6\n",
       "4    3  2      0                6\n",
       "..  .. ..    ...              ...\n",
       "895  3  1      2               10\n",
       "896  3  1      2               10\n",
       "897  3  1      2               10\n",
       "898  3  1      2               10\n",
       "899  3  1      2               10\n",
       "\n",
       "[900 rows x 4 columns]"
      ]
     },
     "execution_count": 236,
     "metadata": {},
     "output_type": "execute_result"
    }
   ],
   "source": [
    "df_as_data"
   ]
  },
  {
   "cell_type": "code",
   "execution_count": 237,
   "id": "be13664d-2356-462b-80e6-d3eb60f02ef2",
   "metadata": {},
   "outputs": [
    {
     "data": {
      "text/plain": [
       "<Axes: xlabel='level', ylabel='Number of moves'>"
      ]
     },
     "execution_count": 237,
     "metadata": {},
     "output_type": "execute_result"
    },
    {
     "data": {
      "image/png": "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",
      "text/plain": [
       "<Figure size 640x480 with 1 Axes>"
      ]
     },
     "metadata": {},
     "output_type": "display_data"
    }
   ],
   "source": [
    "sns.boxplot(df_as_data, x =\"level\", y=\"Number of moves\", hue=\"k\")"
   ]
  },
  {
   "cell_type": "code",
   "execution_count": 240,
   "id": "4afffda0-b918-49aa-b79c-b255e27e204e",
   "metadata": {},
   "outputs": [
    {
     "name": "stdout",
     "output_type": "stream",
     "text": [
      "[4, 4, 4, 4, 4, 4, 4, 4, 4, 4, 4, 4, 4, 4, 4, 4, 4, 4, 4, 4, 4, 4, 4, 4, 4, 4, 4, 4, 4, 4, 4, 4, 4, 4, 4, 4, 4, 4, 4, 4, 4, 4, 4, 4, 4, 4, 4, 4, 4, 4, 4, 4, 4, 4, 4, 4, 4, 4, 4, 4, 4, 4, 4, 4, 4, 4, 4, 4, 4, 4, 4, 4, 4, 4, 4, 4, 4, 4, 4, 4, 4, 4, 4, 4, 4, 4, 4, 4, 4, 4, 4, 4, 4, 4, 4, 4, 4, 4, 4, 4, 4, 4, 4, 4, 4, 4, 4, 4, 4, 4, 4, 4, 4, 4, 4, 4, 4, 4, 4, 4, 4, 4, 4, 4, 4, 4, 4, 4, 4, 4, 4, 4, 4, 4, 4, 4, 4, 4, 4, 4, 4, 4, 4, 4, 4, 4, 4, 4, 4, 4]\n",
      "[10, 8, 8, 12, 8, 8, 8, 10, 10, 10, 10, 10, 10, 10, 8, 10, 8, 10, 8, 8, 10, 12, 10, 10, 8, 10, 10, 8, 8, 8, 10, 10, 8, 8, 10, 10, 10, 8, 8, 8, 10, 10, 10, 10, 10, 10, 12, 8, 8, 10, 10, 8, 8, 8, 10, 8, 10, 10, 8, 10, 8, 10, 8, 10, 10, 8, 8, 10, 10, 8, 8, 8, 10, 10, 8, 12, 8, 8, 10, 12, 10, 10, 10, 8, 10, 8, 8, 12, 10, 8, 8, 10, 10, 8, 12, 8, 10, 10, 12, 10, 8, 10, 10, 8, 8, 10, 10, 10, 10, 8, 10, 8, 8, 10, 10, 8, 10, 8, 8, 10, 10, 10, 10, 8, 8, 10, 12, 10, 8, 8, 10, 8, 8, 10, 10, 8, 10, 10, 10, 10, 8, 8, 10, 8, 10, 10, 10, 10, 8, 10]\n",
      "[6, 6, 6, 6, 6, 6, 6, 6, 6, 6, 6, 6, 6, 6, 6, 6, 6, 6, 6, 6, 6, 6, 6, 6, 6, 6, 6, 6, 6, 6, 6, 6, 6, 6, 6, 6, 6, 6, 6, 6, 6, 6, 6, 6, 6, 6, 6, 6, 6, 6, 6, 6, 6, 6, 6, 6, 6, 6, 6, 6, 6, 6, 6, 6, 6, 6, 6, 6, 6, 6, 6, 6, 6, 6, 6, 6, 6, 6, 6, 6, 6, 6, 6, 6, 6, 6, 6, 6, 6, 6, 6, 6, 6, 6, 6, 6, 6, 6, 6, 6, 6, 6, 6, 6, 6, 6, 6, 6, 6, 6, 6, 6, 6, 6, 6, 6, 6, 6, 6, 6, 6, 6, 6, 6, 6, 6, 6, 6, 6, 6, 6, 6, 6, 6, 6, 6, 6, 6, 6, 6, 6, 6, 6, 6, 6, 6, 6, 6, 6, 6]\n",
      "[12, 8, 8, 8, 8, 8, 8, 10, 8, 8, 10, 8, 8, 8, 8, 10, 8, 8, 8, 8, 10, 8, 12, 10, 10, 10, 8, 8, 8, 10, 12, 8, 10, 8, 8, 10, 8, 8, 8, 8, 8, 8, 10, 10, 10, 8, 8, 8, 10, 8, 8, 8, 8, 8, 8, 10, 8, 8, 8, 8, 8, 10, 10, 8, 8, 8, 8, 8, 8, 10, 8, 8, 8, 8, 10, 8, 8, 8, 8, 8, 10, 10, 10, 10, 8, 8, 10, 10, 8, 10, 10, 8, 8, 10, 10, 8, 8, 8, 8, 8, 8, 8, 8, 8, 8, 8, 8, 12, 8, 8, 8, 8, 10, 8, 8, 8, 8, 8, 8, 8, 12, 8, 8, 10, 8, 8, 8, 8, 8, 8, 8, 8, 8, 10, 8, 8, 8, 10, 10, 10, 8, 10, 8, 8, 10, 10, 8, 8, 10, 8]\n",
      "[6, 6, 6, 6, 6, 6, 6, 6, 6, 6, 6, 6, 6, 6, 6, 6, 6, 6, 6, 6, 6, 6, 6, 6, 6, 6, 6, 6, 6, 6, 7, 6, 6, 6, 6, 6, 6, 6, 6, 6, 6, 6, 6, 6, 6, 6, 6, 6, 6, 6, 6, 6, 6, 6, 6, 6, 6, 6, 6, 6, 7, 6, 6, 6, 6, 7, 6, 6, 6, 6, 6, 6, 6, 6, 6, 6, 6, 6, 6, 6, 6, 6, 6, 7, 6, 6, 6, 6, 6, 6, 6, 6, 6, 6, 6, 6, 7, 6, 6, 6, 7, 6, 6, 6, 6, 6, 6, 6, 6, 6, 6, 6, 6, 6, 6, 6, 6, 6, 6, 6, 6, 6, 6, 6, 6, 6, 6, 6, 6, 6, 6, 6, 6, 6, 6, 6, 6, 6, 6, 6, 6, 6, 6, 6, 6, 6, 6, 6, 6, 6]\n",
      "[10, 12, 10, 15, 12, 16, 9, 11, 9, 15, 10, 7, 8, 8, 11, 12, 7, 7, 8, 8, 10, 11, 12, 15, 11, 12, 14, 15, 12, 10, 9, 12, 15, 8, 11, 13, 14, 9, 9, 10, 9, 9, 14, 10, 12, 13, 10, 15, 10, 12, 12, 8, 12, 11, 9, 8, 9, 13, 12, 11, 13, 10, 10, 9, 11, 10, 11, 11, 9, 10, 15, 10, 12, 9, 10, 13, 11, 11, 10, 11, 11, 14, 9, 14, 9, 11, 7, 12, 9, 9, 14, 11, 9, 10, 12, 10, 10, 7, 10, 11, 11, 11, 11, 11, 8, 10, 7, 9, 10, 10, 10, 11, 11, 7, 13, 11, 11, 16, 12, 13, 12, 14, 10, 13, 13, 10, 13, 7, 8, 15, 11, 7, 11, 13, 15, 11, 11, 8, 10, 10, 13, 12, 13, 14, 12, 8, 13, 11, 9, 10]\n",
      "[6, 6, 6, 6, 6, 6, 6, 6, 6, 6, 6, 6, 6, 6, 6, 6, 6, 6, 6, 6, 6, 6, 6, 6, 6, 6, 6, 6, 6, 6, 6, 6, 6, 6, 6, 6, 6, 6, 6, 6, 6, 6, 6, 6, 6, 6, 6, 6, 6, 6, 6, 6, 6, 6, 6, 6, 6, 6, 6, 6, 6, 6, 6, 6, 6, 6, 6, 6, 6, 6, 6, 6, 6, 6, 6, 6, 6, 6, 6, 6, 6, 6, 6, 6, 6, 6, 6, 6, 6, 6, 6, 6, 6, 6, 6, 6, 6, 6, 6, 6, 6, 6, 6, 6, 6, 6, 6, 6, 6, 6, 6, 6, 6, 6, 6, 6, 6, 6, 6, 6, 6, 6, 6, 6, 6, 6, 6, 6, 6, 6, 6, 6, 6, 6, 6, 6, 6, 6, 6, 6, 6, 6, 6, 6, 6, 6, 6, 6, 6, 6]\n",
      "[13, 14, 9, 11, 10, 11, 12, 9, 9, 10, 9, 14, 8, 8, 7, 10, 10, 10, 10, 11, 11, 9, 12, 8, 13, 8, 8, 13, 12, 10, 9, 9, 10, 9, 8, 11, 10, 11, 8, 9, 8, 9, 9, 8, 10, 17, 13, 11, 9, 14, 8, 12, 10, 9, 12, 8, 11, 10, 11, 7, 11, 13, 11, 10, 10, 11, 13, 13, 17, 7, 7, 12, 9, 8, 11, 9, 13, 12, 9, 8, 7, 9, 10, 8, 9, 9, 10, 8, 12, 10, 17, 9, 7, 11, 16, 13, 13, 10, 9, 11, 16, 10, 9, 8, 9, 9, 13, 9, 9, 8, 9, 9, 10, 12, 8, 12, 8, 10, 10, 11, 10, 7, 9, 9, 8, 8, 16, 20, 10, 9, 10, 14, 8, 7, 8, 14, 10, 7, 8, 8, 9, 10, 14, 10, 8, 9, 10, 10, 10, 9]\n",
      "[13, 13, 8, 12, 12, 15, 17, 14, 16, 13, 14, 15, 9, 16, 9, 12, 12, 12, 15, 17, 18, 14, 21, 10, 17, 11, 19, 12, 17, 12, 14, 15, 12, 10, 18, 13, 8, 11, 9, 15, 10, 10, 16, 21, 14, 10, 12, 13, 11, 16, 9, 15, 17, 18, 9, 16, 19, 9, 18, 15, 11, 12, 19, 8, 17, 23, 12, 17, 9, 15, 16, 14, 20, 15, 11, 8, 10, 14, 12, 15, 13, 12, 17, 11, 14, 8, 9, 15, 14, 10, 15, 11, 19, 11, 13, 12, 13, 13, 18, 16, 17, 12, 14, 12, 13, 21, 14, 15, 18, 14, 13, 18, 21, 12, 13, 20, 10, 10, 19, 14, 13, 9, 13, 10, 15, 18, 19, 11, 16, 15, 12, 20, 13, 17, 14, 18, 14, 20, 19, 12, 17, 11, 14, 11, 13, 15, 16, 12, 14, 18]\n",
      "[18, 12, 31, 34, 42, 24, 12, 29, 41, 25, 15, 40, 12, 23, 22, 43, 29, 25, 24, 20, 27, 28, 45, 43, 13, 16, 23, 26, 26, 22, 18, 18, 20, 28, 13, 28, 22, 33, 14, 34, 12, 37, 30, 15, 36, 16, 27, 43, 17, 29, 36, 15, 26, 26, 20, 32, 23, 11, 23, 41, 42, 45, 26, 26, 23, 23, 22, 18, 15, 26, 39, 19, 14, 25, 11, 29, 30, 22, 16, 27, 23, 28, 42, 31, 11, 12, 30, 36, 28, 12, 17, 13, 16, 19, 30, 21, 24, 25, 26, 34, 18, 19, 20, 12, 17, 19, 42, 30, 52, 33, 29, 17, 10, 11, 31, 22, 20, 9, 28, 18, 27, 14, 19, 11, 21, 34, 18, 18, 12, 29, 31, 26, 44, 38, 26, 32, 30, 28, 21, 13, 32, 35, 14, 23, 59, 23, 25, 22, 10, 23]\n",
      "[17, 24, 19, 18, 31, 33, 18, 37, 16, 26, 41, 42, 28, 11, 35, 29, 33, 26, 44, 47, 25, 49, 27, 44, 20, 32, 38, 38, 16, 28, 33, 34, 26, 26, 35, 13, 18, 25, 31, 15, 37, 30, 24, 15, 11, 39, 28, 36, 16, 45, 33, 24, 26, 36, 27, 23, 32, 38, 31, 44, 31, 19, 33, 26, 27, 15, 16, 22, 19, 21, 40, 55, 23, 14, 31, 28, 35, 26, 16, 40, 38, 14, 20, 40, 25, 33, 36, 28, 28, 20, 35, 19, 31, 41, 25, 36, 26, 26, 32, 26, 32, 45, 38, 18, 32, 27, 26, 15, 25, 28, 36, 31, 31, 25, 41, 30, 37, 13, 38, 66, 51, 25, 35, 45, 33, 37, 29, 47, 18, 17, 32, 20, 39, 26, 22, 24, 36, 25, 30, 18, 17, 27, 17, 18, 23, 33, 29, 32, 42, 38]\n",
      "[47, 52, 30, 48, 20, 74, 41, 20, 104, 60, 41, 60, 72, 23, 60, 35, 59, 53, 37, 38, 58, 53, 60, 52, 35, 64, 73, 60, 47, 33, 71, 98, 50, 105, 72, 77, 66, 25, 18, 33, 29, 28, 46, 23, 44, 23, 47, 78, 22, 62, 55, 66, 48, 34, 60, 58, 66, 49, 31, 31, 29, 51, 89, 45, 41, 72, 87, 55, 74, 55, 95, 52, 20, 41, 46, 54, 37, 65, 62, 39, 64, 54, 32, 95, 90, 36, 40, 81, 33, 23, 69, 38, 49, 35, 29, 48, 63, 41, 53, 45, 48, 46, 49, 26, 56, 91, 46, 17, 65, 59, 19, 38, 31, 73, 30, 43, 67, 35, 57, 62, 43, 36, 82, 52, 50, 76, 42, 55, 62, 65, 42, 64, 83, 91, 48, 34, 40, 23, 35, 74, 65, 57, 92, 31, 29, 49, 41, 53, 39, 49]\n"
     ]
    }
   ],
   "source": [
    "d = 4\n",
    "as_level4_moves = []\n",
    "all_data_level4 = []\n",
    "for k in range(1,d): \n",
    "    levels = [0,1,2, 3]\n",
    "    for l in levels: \n",
    "        as_level4_moves += as_data.tolist()[(d,k,l)]\n",
    "        all_data_level4 += [[d, k, l]]*len(as_data.tolist()[(d,k,l)])\n",
    "        print(as_data.tolist()[(d,k,l)])"
   ]
  },
  {
   "cell_type": "code",
   "execution_count": 243,
   "id": "1549fe18-8730-4c39-8c1b-0ebc1888024b",
   "metadata": {},
   "outputs": [],
   "source": [
    "df_as_data4 = pd.DataFrame(all_data_level4, columns=['d', 'k', 'level'])\n",
    "df_as_data4[\"Number of moves\"] = pd.Series(as_level4_moves)"
   ]
  },
  {
   "cell_type": "code",
   "execution_count": 244,
   "id": "04dfc12f-14a2-4840-85db-03838015a723",
   "metadata": {},
   "outputs": [
    {
     "data": {
      "text/html": [
       "<div>\n",
       "<style scoped>\n",
       "    .dataframe tbody tr th:only-of-type {\n",
       "        vertical-align: middle;\n",
       "    }\n",
       "\n",
       "    .dataframe tbody tr th {\n",
       "        vertical-align: top;\n",
       "    }\n",
       "\n",
       "    .dataframe thead th {\n",
       "        text-align: right;\n",
       "    }\n",
       "</style>\n",
       "<table border=\"1\" class=\"dataframe\">\n",
       "  <thead>\n",
       "    <tr style=\"text-align: right;\">\n",
       "      <th></th>\n",
       "      <th>d</th>\n",
       "      <th>k</th>\n",
       "      <th>level</th>\n",
       "      <th>Number of moves</th>\n",
       "    </tr>\n",
       "  </thead>\n",
       "  <tbody>\n",
       "    <tr>\n",
       "      <th>0</th>\n",
       "      <td>4</td>\n",
       "      <td>1</td>\n",
       "      <td>0</td>\n",
       "      <td>4</td>\n",
       "    </tr>\n",
       "    <tr>\n",
       "      <th>1</th>\n",
       "      <td>4</td>\n",
       "      <td>1</td>\n",
       "      <td>0</td>\n",
       "      <td>4</td>\n",
       "    </tr>\n",
       "    <tr>\n",
       "      <th>2</th>\n",
       "      <td>4</td>\n",
       "      <td>1</td>\n",
       "      <td>0</td>\n",
       "      <td>4</td>\n",
       "    </tr>\n",
       "    <tr>\n",
       "      <th>3</th>\n",
       "      <td>4</td>\n",
       "      <td>1</td>\n",
       "      <td>0</td>\n",
       "      <td>4</td>\n",
       "    </tr>\n",
       "    <tr>\n",
       "      <th>4</th>\n",
       "      <td>4</td>\n",
       "      <td>1</td>\n",
       "      <td>0</td>\n",
       "      <td>4</td>\n",
       "    </tr>\n",
       "    <tr>\n",
       "      <th>...</th>\n",
       "      <td>...</td>\n",
       "      <td>...</td>\n",
       "      <td>...</td>\n",
       "      <td>...</td>\n",
       "    </tr>\n",
       "    <tr>\n",
       "      <th>1795</th>\n",
       "      <td>4</td>\n",
       "      <td>3</td>\n",
       "      <td>3</td>\n",
       "      <td>49</td>\n",
       "    </tr>\n",
       "    <tr>\n",
       "      <th>1796</th>\n",
       "      <td>4</td>\n",
       "      <td>3</td>\n",
       "      <td>3</td>\n",
       "      <td>41</td>\n",
       "    </tr>\n",
       "    <tr>\n",
       "      <th>1797</th>\n",
       "      <td>4</td>\n",
       "      <td>3</td>\n",
       "      <td>3</td>\n",
       "      <td>53</td>\n",
       "    </tr>\n",
       "    <tr>\n",
       "      <th>1798</th>\n",
       "      <td>4</td>\n",
       "      <td>3</td>\n",
       "      <td>3</td>\n",
       "      <td>39</td>\n",
       "    </tr>\n",
       "    <tr>\n",
       "      <th>1799</th>\n",
       "      <td>4</td>\n",
       "      <td>3</td>\n",
       "      <td>3</td>\n",
       "      <td>49</td>\n",
       "    </tr>\n",
       "  </tbody>\n",
       "</table>\n",
       "<p>1800 rows × 4 columns</p>\n",
       "</div>"
      ],
      "text/plain": [
       "      d  k  level  Number of moves\n",
       "0     4  1      0                4\n",
       "1     4  1      0                4\n",
       "2     4  1      0                4\n",
       "3     4  1      0                4\n",
       "4     4  1      0                4\n",
       "...  .. ..    ...              ...\n",
       "1795  4  3      3               49\n",
       "1796  4  3      3               41\n",
       "1797  4  3      3               53\n",
       "1798  4  3      3               39\n",
       "1799  4  3      3               49\n",
       "\n",
       "[1800 rows x 4 columns]"
      ]
     },
     "execution_count": 244,
     "metadata": {},
     "output_type": "execute_result"
    }
   ],
   "source": [
    "df_as_data4"
   ]
  },
  {
   "cell_type": "code",
   "execution_count": 245,
   "id": "58c1be86-e85f-45ea-bb22-77e92223110b",
   "metadata": {},
   "outputs": [
    {
     "data": {
      "text/plain": [
       "<Axes: xlabel='level', ylabel='Number of moves'>"
      ]
     },
     "execution_count": 245,
     "metadata": {},
     "output_type": "execute_result"
    },
    {
     "data": {
      "image/png": "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",
      "text/plain": [
       "<Figure size 640x480 with 1 Axes>"
      ]
     },
     "metadata": {},
     "output_type": "display_data"
    }
   ],
   "source": [
    "sns.boxplot(df_as_data4, x =\"level\", y=\"Number of moves\", hue=\"k\")"
   ]
  },
  {
   "cell_type": "code",
   "execution_count": 248,
   "id": "eba1905e-de57-4aa0-9583-a50825826024",
   "metadata": {},
   "outputs": [
    {
     "data": {
      "text/plain": [
       "<Axes: xlabel='level', ylabel='Number of moves'>"
      ]
     },
     "execution_count": 248,
     "metadata": {},
     "output_type": "execute_result"
    },
    {
     "data": {
      "image/png": "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",
      "text/plain": [
       "<Figure size 800x400 with 2 Axes>"
      ]
     },
     "metadata": {},
     "output_type": "display_data"
    }
   ],
   "source": [
    "figure = plt.figure(constrained_layout=True, figsize=(6,4))\n",
    "gs = figure.add_gridspec(nrows=1, ncols=2, left=0.05, right=0.48, wspace=0.05)\n",
    "ax = figure.add_subplot(gs[0,0])\n",
    "\n",
    "ax.spines[\"right\"].set_visible(False)\n",
    "ax.spines[\"top\"].set_visible(False)\n",
    "ax.set_xlabel(r\"Number of moves\", weight='bold', fontsize=13)\n",
    "ax.set_ylabel(r\"Frequencies\", weight=\"bold\", fontsize=13)\n",
    "sns.boxplot(df_as_data, x =\"level\", y=\"Number of moves\", hue=\"k\")\n",
    "\n",
    "ax = figure.add_subplot(gs[0,1])\n",
    "\n",
    "ax.spines[\"right\"].set_visible(False)\n",
    "ax.spines[\"top\"].set_visible(False)\n",
    "ax.set_xlabel(r\"Number of moves\", weight='bold', fontsize=13)\n",
    "ax.set_ylabel(r\"Frequencies\", weight=\"bold\", fontsize=13)\n",
    "sns.boxplot(df_as_data4, x =\"level\", y=\"Number of moves\", hue=\"k\")"
   ]
  },
  {
   "cell_type": "code",
   "execution_count": null,
   "id": "7d5aa969-a245-4f30-8caa-d1a71b735464",
   "metadata": {},
   "outputs": [],
   "source": []
  }
 ],
 "metadata": {
  "kernelspec": {
   "display_name": "transRNA",
   "language": "python",
   "name": "transformer"
  },
  "language_info": {
   "codemirror_mode": {
    "name": "ipython",
    "version": 3
   },
   "file_extension": ".py",
   "mimetype": "text/x-python",
   "name": "python",
   "nbconvert_exporter": "python",
   "pygments_lexer": "ipython3",
   "version": "3.10.10"
  }
 },
 "nbformat": 4,
 "nbformat_minor": 5
}
