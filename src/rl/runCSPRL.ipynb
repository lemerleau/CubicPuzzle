{
 "cells": [
  {
   "cell_type": "code",
   "execution_count": 2,
   "id": "ac9169ae-4fd8-4163-9316-bae29022a68b",
   "metadata": {},
   "outputs": [],
   "source": [
    "import GameLearn as gl\n",
    "import CubicalSlidingPuzzleNew as csp\n",
    "import numpy as np\n",
    "import multiprocessing as mp\n",
    "import CubeSlidingPuzzleRL as csprl"
   ]
  },
  {
   "cell_type": "code",
   "execution_count": 4,
   "id": "b8115b7e-8106-4a7c-8cb4-6fcddaa65a8c",
   "metadata": {},
   "outputs": [
    {
     "name": "stdout",
     "output_type": "stream",
     "text": [
      "min: 8, max: 12, median: 8.0\n"
     ]
    }
   ],
   "source": [
    "runs = 150\n",
    "d = 4\n",
    "level = 3\n",
    "k = 1\n",
    "inputList = []\n",
    "for i in range(runs):\n",
    "    inputList.append([i,d,level,k])\n",
    "with mp.Pool(processes = 8) as pool:\n",
    "    resultList = pool.starmap_async(csprl.RunRL, inputList).get()\n",
    "pool.close()\n",
    "resultList = list(resultList)\n",
    "theMin = np.min(resultList)\n",
    "theMax = np.max(resultList)\n",
    "theMedian = np.median(resultList)\n",
    "print(\"min: \" + str(theMin) + \", max: \" + str(theMax) + \", median: \" + str(theMedian))"
   ]
  },
  {
   "cell_type": "code",
   "execution_count": 5,
   "id": "7833d9bf-a88b-45e7-ba55-62cb7c2fdbcc",
   "metadata": {},
   "outputs": [
    {
     "name": "stdout",
     "output_type": "stream",
     "text": [
      "min: 6, max: 7, median: 6.0\n"
     ]
    }
   ],
   "source": [
    "runs = 150\n",
    "d = 4\n",
    "level = 0\n",
    "k = 2\n",
    "inputList = []\n",
    "for i in range(runs):\n",
    "    inputList.append([i,d,level,k])\n",
    "with mp.Pool(processes = 8) as pool:\n",
    "    resultList = pool.starmap_async(csprl.RunRL, inputList).get()\n",
    "pool.close()\n",
    "resultList = list(resultList)\n",
    "theMin = np.min(resultList)\n",
    "theMax = np.max(resultList)\n",
    "theMedian = np.median(resultList)\n",
    "print(\"min: \" + str(theMin) + \", max: \" + str(theMax) + \", median: \" + str(theMedian))"
   ]
  },
  {
   "cell_type": "code",
   "execution_count": 6,
   "id": "d52790a0-3e6d-4c3d-b9d7-ac27e7fb61d1",
   "metadata": {},
   "outputs": [
    {
     "name": "stdout",
     "output_type": "stream",
     "text": [
      "min: 7, max: 15, median: 10.0\n"
     ]
    }
   ],
   "source": [
    "runs = 150\n",
    "d = 4\n",
    "level = 1\n",
    "k = 2\n",
    "inputList = []\n",
    "for i in range(runs):\n",
    "    inputList.append([i,d,level,k])\n",
    "with mp.Pool(processes = 8) as pool:\n",
    "    resultList = pool.starmap_async(csprl.RunRL, inputList).get()\n",
    "pool.close()\n",
    "resultList = list(resultList)\n",
    "theMin = np.min(resultList)\n",
    "theMax = np.max(resultList)\n",
    "theMedian = np.median(resultList)\n",
    "print(\"min: \" + str(theMin) + \", max: \" + str(theMax) + \", median: \" + str(theMedian))"
   ]
  },
  {
   "cell_type": "code",
   "execution_count": 7,
   "id": "cab08eb7-1681-473f-93de-e038eb5a352f",
   "metadata": {},
   "outputs": [
    {
     "name": "stdout",
     "output_type": "stream",
     "text": [
      "min: 6, max: 6, median: 6.0\n"
     ]
    }
   ],
   "source": [
    "runs = 150\n",
    "d = 4\n",
    "level = 2\n",
    "k = 2\n",
    "inputList = []\n",
    "for i in range(runs):\n",
    "    inputList.append([i,d,level,k])\n",
    "with mp.Pool(processes = 8) as pool:\n",
    "    resultList = pool.starmap_async(csprl.RunRL, inputList).get()\n",
    "pool.close()\n",
    "resultList = list(resultList)\n",
    "theMin = np.min(resultList)\n",
    "theMax = np.max(resultList)\n",
    "theMedian = np.median(resultList)\n",
    "print(\"min: \" + str(theMin) + \", max: \" + str(theMax) + \", median: \" + str(theMedian))"
   ]
  },
  {
   "cell_type": "code",
   "execution_count": 8,
   "id": "29e7b067-a66b-4849-ba86-912bea961766",
   "metadata": {},
   "outputs": [
    {
     "name": "stdout",
     "output_type": "stream",
     "text": [
      "min: 7, max: 15, median: 10.0\n"
     ]
    }
   ],
   "source": [
    "runs = 150\n",
    "d = 4\n",
    "level = 3\n",
    "k = 2\n",
    "inputList = []\n",
    "for i in range(runs):\n",
    "    inputList.append([i,d,level,k])\n",
    "with mp.Pool(processes = 8) as pool:\n",
    "    resultList = pool.starmap_async(csprl.RunRL, inputList).get()\n",
    "pool.close()\n",
    "resultList = list(resultList)\n",
    "theMin = np.min(resultList)\n",
    "theMax = np.max(resultList)\n",
    "theMedian = np.median(resultList)\n",
    "print(\"min: \" + str(theMin) + \", max: \" + str(theMax) + \", median: \" + str(theMedian))"
   ]
  },
  {
   "cell_type": "code",
   "execution_count": 9,
   "id": "7fef6d53-151b-4d1d-8ce7-5dc4ef4d3661",
   "metadata": {},
   "outputs": [
    {
     "name": "stdout",
     "output_type": "stream",
     "text": [
      "min: 8, max: 28, median: 14.0\n"
     ]
    }
   ],
   "source": [
    "runs = 150\n",
    "d = 4\n",
    "level = 0\n",
    "k = 3\n",
    "inputList = []\n",
    "for i in range(runs):\n",
    "    inputList.append([i,d,level,k])\n",
    "with mp.Pool(processes = 8) as pool:\n",
    "    resultList = pool.starmap_async(csprl.RunRL, inputList).get()\n",
    "pool.close()\n",
    "resultList = list(resultList)\n",
    "theMin = np.min(resultList)\n",
    "theMax = np.max(resultList)\n",
    "theMedian = np.median(resultList)\n",
    "print(\"min: \" + str(theMin) + \", max: \" + str(theMax) + \", median: \" + str(theMedian))"
   ]
  },
  {
   "cell_type": "code",
   "execution_count": 10,
   "id": "56b92aab-6235-4ce5-b171-8ec709de613a",
   "metadata": {},
   "outputs": [
    {
     "name": "stdout",
     "output_type": "stream",
     "text": [
      "min: 10, max: 59, median: 22.0\n"
     ]
    }
   ],
   "source": [
    "runs = 150\n",
    "d = 4\n",
    "level = 1\n",
    "k = 3\n",
    "inputList = []\n",
    "for i in range(runs):\n",
    "    inputList.append([i,d,level,k])\n",
    "with mp.Pool(processes = 8) as pool:\n",
    "    resultList = pool.starmap_async(csprl.RunRL, inputList).get()\n",
    "pool.close()\n",
    "resultList = list(resultList)\n",
    "theMin = np.min(resultList)\n",
    "theMax = np.max(resultList)\n",
    "theMedian = np.median(resultList)\n",
    "print(\"min: \" + str(theMin) + \", max: \" + str(theMax) + \", median: \" + str(theMedian))"
   ]
  },
  {
   "cell_type": "code",
   "execution_count": 11,
   "id": "5f1f193d-e6e7-406e-ace2-c2f609ead344",
   "metadata": {},
   "outputs": [
    {
     "name": "stdout",
     "output_type": "stream",
     "text": [
      "min: 12, max: 72, median: 30.0\n"
     ]
    }
   ],
   "source": [
    "runs = 150\n",
    "d = 4\n",
    "level = 2\n",
    "k = 3\n",
    "inputList = []\n",
    "for i in range(runs):\n",
    "    inputList.append([i,d,level,k])\n",
    "with mp.Pool(processes = 8) as pool:\n",
    "    resultList = pool.starmap_async(csprl.RunRL, inputList).get()\n",
    "pool.close()\n",
    "resultList = list(resultList)\n",
    "theMin = np.min(resultList)\n",
    "theMax = np.max(resultList)\n",
    "theMedian = np.median(resultList)\n",
    "print(\"min: \" + str(theMin) + \", max: \" + str(theMax) + \", median: \" + str(theMedian))"
   ]
  },
  {
   "cell_type": "code",
   "execution_count": 12,
   "id": "d76b0793-e1b4-4575-b891-9b65a6678e73",
   "metadata": {},
   "outputs": [
    {
     "name": "stdout",
     "output_type": "stream",
     "text": [
      "min: 12, max: 99, median: 51.0\n"
     ]
    }
   ],
   "source": [
    "runs = 150\n",
    "d = 4\n",
    "level = 3\n",
    "k = 3\n",
    "inputList = []\n",
    "for i in range(runs):\n",
    "    inputList.append([i,d,level,k])\n",
    "with mp.Pool(processes = 8) as pool:\n",
    "    resultList = pool.starmap_async(csprl.RunRL, inputList).get()\n",
    "pool.close()\n",
    "resultList = list(resultList)\n",
    "theMin = np.min(resultList)\n",
    "theMax = np.max(resultList)\n",
    "theMedian = np.median(resultList)\n",
    "print(\"min: \" + str(theMin) + \", max: \" + str(theMax) + \", median: \" + str(theMedian))"
   ]
  },
  {
   "cell_type": "code",
   "execution_count": null,
   "id": "a0d71264-4480-499f-9e7c-4923a83223af",
   "metadata": {},
   "outputs": [],
   "source": []
  }
 ],
 "metadata": {
  "kernelspec": {
   "display_name": "Python 3 (ipykernel)",
   "language": "python",
   "name": "python3"
  },
  "language_info": {
   "codemirror_mode": {
    "name": "ipython",
    "version": 3
   },
   "file_extension": ".py",
   "mimetype": "text/x-python",
   "name": "python",
   "nbconvert_exporter": "python",
   "pygments_lexer": "ipython3",
   "version": "3.11.7"
  }
 },
 "nbformat": 4,
 "nbformat_minor": 5
}
